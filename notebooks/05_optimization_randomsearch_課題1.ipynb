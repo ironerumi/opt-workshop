{
 "cells": [
  {
   "cell_type": "markdown",
   "metadata": {},
   "source": [
    "# Optimization and Simulation with DR"
   ]
  },
  {
   "cell_type": "markdown",
   "metadata": {},
   "source": [
    "## 課題1"
   ]
  },
  {
   "cell_type": "markdown",
   "metadata": {},
   "source": [
    "### 1. ライブラリ類のインポートとファイルのロード"
   ]
  },
  {
   "cell_type": "code",
   "execution_count": null,
   "metadata": {},
   "outputs": [],
   "source": [
    "%matplotlib inline\n",
    "\n",
    "import os\n",
    "import warnings\n",
    "import numpy as np\n",
    "import pandas as pd\n",
    "import seaborn as sns\n",
    "from scipy import stats\n",
    "import matplotlib.pyplot as plt\n",
    "from pandas import DataFrame\n",
    "from scipy.interpolate import griddata\n",
    "import datarobot as dr\n",
    "\n",
    "import japanize_matplotlib\n",
    "\n",
    "if not os.getenv(\"DATAROBOT_NOTEBOOK_IMAGE\"):\n",
    "    print(\"not running in DataRobot Notebook\")\n",
    "    from dotenv import load_dotenv\n",
    "    load_dotenv(\"../.env\", override=True)\n",
    "\n",
    "client = dr.Client()\n",
    "\n",
    "seed = 71\n",
    "np.random.seed(seed)\n",
    "# sns.set_theme(style='darkgrid')\n",
    "warnings.filterwarnings(\"ignore\")\n",
    "\n",
    "pd.set_option(\"display.max_rows\", 1000)\n",
    "pd.set_option(\"display.max_columns\", 1000)\n",
    "pd.set_option(\"display.width\", 1000)\n",
    "pd.set_option(\"display.max_colwidth\", 1000)\n",
    "pd.set_option(\"display.precision\", 8)"
   ]
  },
  {
   "cell_type": "code",
   "execution_count": null,
   "metadata": {},
   "outputs": [],
   "source": [
    "df = pd.read_csv(\"../data/opt_steel_strength.csv\")"
   ]
  },
  {
   "cell_type": "code",
   "execution_count": null,
   "metadata": {},
   "outputs": [],
   "source": [
    "y_train = df[\"降伏強度\"]\n",
    "X_train = df.drop([\"ID\", \"降伏強度\", \"引張強度\"], axis=1)"
   ]
  },
  {
   "cell_type": "code",
   "execution_count": null,
   "metadata": {},
   "outputs": [],
   "source": [
    "# 312rows, 16columns\n",
    "df.shape"
   ]
  },
  {
   "cell_type": "code",
   "execution_count": null,
   "metadata": {
    "scrolled": true
   },
   "outputs": [],
   "source": [
    "df.head()"
   ]
  },
  {
   "cell_type": "markdown",
   "metadata": {},
   "source": [
    "### 2. 探索空間の指定とデータの生成"
   ]
  },
  {
   "cell_type": "code",
   "execution_count": null,
   "metadata": {},
   "outputs": [],
   "source": [
    "%%time\n",
    "# 10,000件に増やしてもう一回やってみます。\n",
    "n = 10000\n",
    "X_artificial = DataFrame(index=range(n),\n",
    "                         columns=X_train.columns)\n",
    "\n",
    "for col in X_artificial.columns:\n",
    "\n",
    "    norm_dist = np.random.normal(X_train[col].mean(), X_train[col].std(), size=n)\n",
    "    min_value = X_train[col].min()\n",
    "    max_value = X_train[col].max()\n",
    "    norm_dist = np.clip(norm_dist, min_value * 0.8, max_value * 1.2)\n",
    "\n",
    "    X_artificial.loc[:, col] = norm_dist\n",
    "        \n",
    "X_artificial = pd.to_numeric(X_artificial.stack(), errors='coerce').unstack()"
   ]
  },
  {
   "cell_type": "code",
   "execution_count": null,
   "metadata": {},
   "outputs": [],
   "source": [
    "X_artificial.to_csv(\n",
    "    \"../data/opt_steel_strength_homework_10000.csv\", index=False, encoding=\"utf-8-sig\"\n",
    ")  # , encoding='SJIS'"
   ]
  },
  {
   "cell_type": "markdown",
   "metadata": {},
   "source": [
    "### タスク1\n",
    "生成したDataFrameを用いて、DataRobotのバッチ予測で`引張強度`を予測してみましょう。結果をExcelやpandas等でソートすることで、最も強度が高くなる条件が求まります。<br>\n",
    "＊予測するモデルを間違えないでください"
   ]
  },
  {
   "cell_type": "code",
   "execution_count": null,
   "metadata": {},
   "outputs": [],
   "source": [
    "deployment_id = (\n",
    "    \"XXXX ここにデプロイIDを記入してください XXXX\"  # 引張強度のデプロイメントIDを指定してください\n",
    ")\n",
    "# 予測を実行\n",
    "_, df_result = dr.models.BatchPredictionJob.score_pandas(\n",
    "    deployment=deployment_id, df=\"XXXX ここにインプットデータを記入してください XXXX\"\n",
    ")\n",
    "# 結果から引張強度の最大値を取得\n",
    "print(f\"引張強度の最大値: {df_result.XXXX ここに引張強度の最大値が分かる関数を記入してください XXXX}\")"
   ]
  },
  {
   "cell_type": "markdown",
   "metadata": {},
   "source": [
    "### タスク2\n",
    "`チタン`と`アルミニウム`の分布を可視化してみましょう"
   ]
  },
  {
   "cell_type": "code",
   "execution_count": null,
   "metadata": {},
   "outputs": [],
   "source": [
    "# 元のデータの分布をみてみましょう。ここではチタンとアルミニウムについて可視化してみます。\n",
    "feat_1 = \"XXXX ここの特徴量名を記入してください XXXX\"  # チタン\n",
    "\n",
    "feat_2 = \"XXXX ここの特徴量名を記入してください XXXX\"  # アルミニウム\n",
    "\n",
    "r, p = stats.pearsonr(X_train[feat_1], X_train[feat_2])\n",
    "g = sns.JointGrid(data=X_train, x=feat_1, y=feat_2)\n",
    "g.plot_joint(sns.kdeplot, fill=True, color=\"r\")\n",
    "g.plot_joint(plt.scatter, c=\"r\", s=0.01)\n",
    "g.plot_marginals(sns.kdeplot, color=\"r\")\n",
    "g.ax_joint.text(x=1.5, y=2, s=f\"pearsonr={r:.2f}, p={p:.2e}\")\n",
    "g.set_axis_labels(feat_1, feat_2)\n",
    "\n",
    "plt.show()"
   ]
  },
  {
   "cell_type": "code",
   "execution_count": null,
   "metadata": {},
   "outputs": [],
   "source": [
    "# 正規分布から生成したデータの分布をみてみましょう。\n",
    "r, p = stats.pearsonr(X_artificial[feat_1], X_artificial[feat_2])\n",
    "g = sns.JointGrid(data=X_artificial, x=feat_1, y=feat_2)\n",
    "g.plot_joint(sns.kdeplot, fill=True, color=\"r\")\n",
    "g.plot_joint(plt.scatter, c=\"r\", s=0.01)\n",
    "g.plot_marginals(sns.kdeplot, color=\"r\")\n",
    "g.ax_joint.text(x=1.5, y=2, s=f\"pearsonr={r:.4f}, p={p:.2F}\")\n",
    "g.set_axis_labels(feat_1, feat_2)\n",
    "\n",
    "plt.show()"
   ]
  },
  {
   "cell_type": "markdown",
   "metadata": {},
   "source": [
    "### タスク3\n",
    "予測結果の分布を可視化してみましょう"
   ]
  },
  {
   "cell_type": "code",
   "execution_count": null,
   "metadata": {},
   "outputs": [],
   "source": [
    "# 特徴空間（2D）における引張強度予測値の分布を可視化してみます\n",
    "x = np.linspace(X_artificial[feat_1].min(), X_artificial[feat_1].max(), 10)\n",
    "y = np.linspace(X_artificial[feat_2].min(), X_artificial[feat_2].max(), 10)\n",
    "\n",
    "# 2Dグリッドの作成\n",
    "z = griddata(\n",
    "    (X_artificial[feat_1].values, X_artificial[feat_2].values),\n",
    "    df_result[\"XXXX ここのカラム名を記入してください XXXX\"].values,\n",
    "    (x[None, :], y[:, None]),\n",
    "    method=\"linear\",\n",
    ")\n",
    "\n",
    "# プロット\n",
    "plt.figure(figsize=[7, 7])\n",
    "plt.contourf(x, y, z, 5, alpha=0.6, cmap=plt.cm.magma)\n",
    "plt.colorbar()\n",
    "plt.clim(\n",
    "    df_result[\"XXXX ここのカラム名を記入してください XXXX\"].min(),\n",
    "    df_result[\"XXXX ここのカラム名を記入してください XXXX\"].max(),\n",
    ")\n",
    "plt.show()"
   ]
  },
  {
   "cell_type": "code",
   "execution_count": null,
   "metadata": {},
   "outputs": [],
   "source": []
  }
 ],
 "metadata": {
  "kernelspec": {
   "display_name": "Python 3 (ipykernel)",
   "language": "python",
   "name": "python3"
  },
  "language_info": {
   "codemirror_mode": {
    "name": "ipython",
    "version": 3
   },
   "file_extension": ".py",
   "mimetype": "text/x-python",
   "name": "python",
   "nbconvert_exporter": "python",
   "pygments_lexer": "ipython3",
   "version": "3.9.16"
  },
  "vscode": {
   "interpreter": {
    "hash": "f3bd2f4940d181a24aec9c9611125235b9197f70e049d2055bc1290261fc8873"
   }
  }
 },
 "nbformat": 4,
 "nbformat_minor": 4
}
