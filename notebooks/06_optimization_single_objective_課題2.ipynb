{
 "cells": [
  {
   "cell_type": "markdown",
   "metadata": {},
   "source": [
    "# Optimization and Simulation with DR"
   ]
  },
  {
   "cell_type": "markdown",
   "metadata": {},
   "source": [
    "## optunaによるアプローチ"
   ]
  },
  {
   "cell_type": "markdown",
   "metadata": {},
   "source": [
    "### 1. ライブラリ類のインポートとファイルのロード"
   ]
  },
  {
   "cell_type": "code",
   "execution_count": 1,
   "metadata": {},
   "outputs": [
    {
     "name": "stdout",
     "output_type": "stream",
     "text": [
      "not running in DataRobot Notebook\n"
     ]
    }
   ],
   "source": [
    "%matplotlib inline\n",
    "\n",
    "import os\n",
    "import copy\n",
    "import warnings\n",
    "\n",
    "import numpy as np\n",
    "import pandas as pd\n",
    "from pandas import DataFrame\n",
    "\n",
    "import matplotlib.pyplot as plt\n",
    "import datarobot as dr\n",
    "from datarobot_predict.deployment import predict\n",
    "\n",
    "import optuna\n",
    "\n",
    "import japanize_matplotlib\n",
    "\n",
    "if not os.getenv(\"DATAROBOT_NOTEBOOK_IMAGE\"):\n",
    "    print(\"not running in DataRobot Notebook\")\n",
    "    from dotenv import load_dotenv\n",
    "    load_dotenv(\"../.env\", override=True)\n",
    "\n",
    "client = dr.Client()\n",
    "\n",
    "seed = 71\n",
    "np.random.seed(seed)\n",
    "warnings.filterwarnings(\"ignore\")\n",
    "plt.rcParams.update({\"figure.max_open_warning\": 0})\n",
    "optuna.visualization.is_available()\n",
    "pd.set_option('display.max_rows', 1000)\n",
    "pd.set_option('display.max_columns', 1000)\n",
    "pd.set_option('display.width', 1000)\n",
    "pd.set_option('display.max_colwidth', 1000)\n",
    "pd.set_option(\"display.precision\", 8)"
   ]
  },
  {
   "cell_type": "code",
   "execution_count": 2,
   "metadata": {},
   "outputs": [],
   "source": [
    "targets = [\"降伏強度\", \"引張強度\"]\n",
    "\n",
    "df = pd.read_csv(\"../data/opt_steel_strength.csv\")"
   ]
  },
  {
   "cell_type": "code",
   "execution_count": 3,
   "metadata": {},
   "outputs": [],
   "source": [
    "X_train = df.drop([\"ID\", \"降伏強度\", \"引張強度\"], axis=1)"
   ]
  },
  {
   "cell_type": "markdown",
   "metadata": {},
   "source": [
    "### 2. 予測APIを用いる上での必要な情報を準備しておきます。"
   ]
  },
  {
   "cell_type": "code",
   "execution_count": 4,
   "metadata": {},
   "outputs": [],
   "source": [
    "# 予測APIを叩くための諸々を設定する必要があります\n",
    "dr.Client()\n",
    "deployment_ids = [\"67bc6ab2f1b3f6b73d560ff8\", \"67bc6ab999dbbff523b1152a\"]\n",
    "deployment_quant_ids = [\"67bc6ad2fd8c6942c3561092\", \"67bc6ad599dbbff523b11589\"]\n",
    "deployments = [dr.Deployment.get(deployment_id) for deployment_id in deployment_ids]\n",
    "deployments_quant = [\n",
    "    dr.Deployment.get(deployment_id) for deployment_id in deployment_quant_ids\n",
    "]\n",
    "# 実験時間、実験回数（n_trials）での制御も可能\n",
    "timeout = 120\n",
    "\n",
    "# 結果格納用\n",
    "result = pd.DataFrame()"
   ]
  },
  {
   "cell_type": "markdown",
   "metadata": {},
   "source": [
    "### 3. `datarobot-predict`を使って予測APIを叩く"
   ]
  },
  {
   "cell_type": "code",
   "execution_count": 5,
   "metadata": {},
   "outputs": [
    {
     "data": {
      "text/html": [
       "<div>\n",
       "<style scoped>\n",
       "    .dataframe tbody tr th:only-of-type {\n",
       "        vertical-align: middle;\n",
       "    }\n",
       "\n",
       "    .dataframe tbody tr th {\n",
       "        vertical-align: top;\n",
       "    }\n",
       "\n",
       "    .dataframe thead th {\n",
       "        text-align: right;\n",
       "    }\n",
       "</style>\n",
       "<table border=\"1\" class=\"dataframe\">\n",
       "  <thead>\n",
       "    <tr style=\"text-align: right;\">\n",
       "      <th></th>\n",
       "      <th>引張強度_PREDICTION</th>\n",
       "      <th>DEPLOYMENT_APPROVAL_STATUS</th>\n",
       "    </tr>\n",
       "  </thead>\n",
       "  <tbody>\n",
       "    <tr>\n",
       "      <th>0</th>\n",
       "      <td>2442.85464807</td>\n",
       "      <td>APPROVED</td>\n",
       "    </tr>\n",
       "  </tbody>\n",
       "</table>\n",
       "</div>"
      ],
      "text/plain": [
       "   引張強度_PREDICTION DEPLOYMENT_APPROVAL_STATUS\n",
       "0    2442.85464807                   APPROVED"
      ]
     },
     "execution_count": 5,
     "metadata": {},
     "output_type": "execute_result"
    }
   ],
   "source": [
    "# 一回叩いてみる\n",
    "predictions, _ = predict(deployments[1], X_train.iloc[:1])\n",
    "predictions"
   ]
  },
  {
   "cell_type": "code",
   "execution_count": 6,
   "metadata": {},
   "outputs": [
    {
     "data": {
      "text/plain": [
       "np.float64(2442.854648066)"
      ]
     },
     "execution_count": 6,
     "metadata": {},
     "output_type": "execute_result"
    }
   ],
   "source": [
    "# 予測の戻り値から予測値を取り出す\n",
    "predictions.loc[0, \"引張強度_PREDICTION\"]"
   ]
  },
  {
   "cell_type": "markdown",
   "metadata": {},
   "source": [
    "### タスク1\n",
    "`引張強度`に対して最適化関数を定義"
   ]
  },
  {
   "cell_type": "markdown",
   "metadata": {},
   "source": [
    "#### Pruner使わない場合の最適化関数"
   ]
  },
  {
   "cell_type": "code",
   "execution_count": null,
   "metadata": {
    "tags": []
   },
   "outputs": [],
   "source": [
    "# 最適化の対象。この関数の戻り値を最大/小化します。\n",
    "# Optunaの場合、trailにいろんな情報格納くれています。\n",
    "\n",
    "stat = X_train.describe().T\n",
    "\n",
    "\n",
    "def objective(trial):\n",
    "\n",
    "    df_target = DataFrame(index=[0], columns=X_train.columns)\n",
    "    for col in X_train.columns:\n",
    "        low = stat.loc[col, \"min\"] * 0.8\n",
    "        high = stat.loc[col, \"max\"] * 1.2\n",
    "        df_target[col] = trial.suggest_float(col, low, high, step=0.01)\n",
    "\n",
    "    pred_2 = predict(deployments[1], df_target)[0].loc[\n",
    "        0, \"XXXX ここの記入してください XXXX\"\n",
    "    ]\n",
    "\n",
    "    return pred_2"
   ]
  },
  {
   "cell_type": "markdown",
   "metadata": {},
   "source": [
    "#### Pruner使う場合の最適化関数"
   ]
  },
  {
   "cell_type": "code",
   "execution_count": null,
   "metadata": {},
   "outputs": [],
   "source": [
    "# 打ち止めするかを確認するため、途中経過をフィードバックするようにobjectiveを編集\n",
    "\n",
    "n_train_iter = (\n",
    "    \"XXXX ここの記入してください XXXX\"  # 文字列ではなく数値として入れてください\n",
    ")\n",
    "\n",
    "\n",
    "def objective_prune(trial):\n",
    "\n",
    "    df_target = DataFrame(index=[0], columns=X_train.columns)\n",
    "\n",
    "    for col in X_train.columns:\n",
    "        low = stat.loc[col, \"min\"] * 0.8\n",
    "        high = stat.loc[col, \"max\"] * 1.2\n",
    "        df_target[col] = trial.suggest_float(col, low, high, step=0.01)\n",
    "\n",
    "    for step in range(n_train_iter):\n",
    "        pred_2 = predict(deployments[1], df_target)[0].loc[\n",
    "            0, \"XXXX ここの記入してください XXXX\"\n",
    "        ]\n",
    "\n",
    "        # 打ち止めかどうかを判断\n",
    "        pred_temp = pred_2\n",
    "\n",
    "        trial.report(pred_temp, step)\n",
    "\n",
    "        if trial.should_prune():\n",
    "            raise optuna.TrialPruned()\n",
    "\n",
    "    return pred_2"
   ]
  },
  {
   "cell_type": "markdown",
   "metadata": {},
   "source": [
    "### タスク2\n",
    "`引張強度`に対して最適化を実施する"
   ]
  },
  {
   "cell_type": "markdown",
   "metadata": {},
   "source": [
    "下記4のSamplerを使って最適化し、結果を記録する。\n",
    "- [RandomSampler](https://optuna.readthedocs.io/en/v2.10.1/reference/generated/optuna.samplers.RandomSampler.html#optuna.samplers.RandomSampler)\n",
    "- [TPESampler](https://optuna.readthedocs.io/en/v2.10.1/reference/generated/optuna.samplers.TPESampler.html#optuna.samplers.TPESampler)\n",
    "- [CmaEsSampler](https://optuna.readthedocs.io/en/v2.10.1/reference/generated/optuna.samplers.CmaEsSampler.html#optuna.samplers.CmaEsSampler)<br>\n",
    "- [AutoSampler](https://hub.optuna.org/samplers/auto_sampler/)\n",
    "\n",
    "要件\n",
    "- Samplerのパラメーターはドキュメント参照して変更OK、初期設定をそのまま使うのも大丈夫。\n",
    "- シードは必ず`seed`（=71）に固定する\n",
    "- `study.optimize`で最適化する際、`n_jobs`を3まで調整OK（ローカルで実行する場合は特に制限しません）\n",
    "- **4**通り以上`result`に記録してください"
   ]
  },
  {
   "cell_type": "code",
   "execution_count": null,
   "metadata": {},
   "outputs": [],
   "source": [
    "%%time\n",
    "# パターン1\n",
    "name = \"XXXX ここにsamplerの名前を記入してください XXXX\"\n",
    "n_jobs = \"XXXX ここに並列数を記入してください XXXX\"\n",
    "sampler = optuna.samplers.\"XXXX ここにクラス名を記入してください XXXX\"(seed=seed)\n",
    "\n",
    "study = optuna.create_study(direction=\"maximize\", sampler=sampler)\n",
    "study.optimize(objective, timeout=timeout, gc_after_trial=True, n_jobs=n_jobs)\n",
    "_result = study.trials_dataframe()\n",
    "_result[\"name\"] = name\n",
    "result = pd.concat([result, _result], axis=0, ignore_index=True)"
   ]
  },
  {
   "cell_type": "code",
   "execution_count": null,
   "metadata": {},
   "outputs": [],
   "source": [
    "%%time\n",
    "# パターン2\n",
    "name = \"XXXX ここにsamplerの名前を記入してください XXXX\"\n",
    "n_jobs = \"XXXX ここに並列数を記入してください XXXX\"\n",
    "sampler = optuna.samplers.\"XXXX ここにクラス名を記入してください XXXX\"(seed=seed)\n",
    "\n",
    "study = optuna.create_study(direction=\"maximize\", sampler=sampler)\n",
    "study.optimize(objective, timeout=timeout, gc_after_trial=True, n_jobs=n_jobs)\n",
    "_result = study.trials_dataframe()\n",
    "_result[\"name\"] = name\n",
    "result = pd.concat([result, _result], axis=0, ignore_index=True)"
   ]
  },
  {
   "cell_type": "code",
   "execution_count": null,
   "metadata": {},
   "outputs": [],
   "source": [
    "%%time\n",
    "# パターン3\n",
    "name = \"XXXX ここにsamplerの名前を記入してください XXXX\"\n",
    "n_jobs = \"XXXX ここに並列数を記入してください XXXX\"\n",
    "sampler = optuna.samplers.\"XXXX ここにクラス名を記入してください XXXX\"(seed=seed)\n",
    "\n",
    "study = optuna.create_study(direction=\"maximize\", sampler=sampler)\n",
    "study.optimize(objective, timeout=timeout, gc_after_trial=True, n_jobs=n_jobs)\n",
    "_result = study.trials_dataframe()\n",
    "_result[\"name\"] = name\n",
    "result = pd.concat([result, _result], axis=0, ignore_index=True)"
   ]
  },
  {
   "cell_type": "code",
   "execution_count": null,
   "metadata": {},
   "outputs": [],
   "source": [
    "%%time\n",
    "# パターン4\n",
    "# AutoSamplerはoptunahubからロードできます。\n",
    "name = \"XXXX ここにsamplerの名前を記入してください XXXX\"\n",
    "n_jobs = \"XXXX ここに並列数を記入してください XXXX\"\n",
    "\n",
    "module = optunahub.load_module(package=\"XXXX ここにクラス名を記入してください XXXX\")\n",
    "study = optuna.create_study(sampler=module.\"XXXX ここにクラス名を記入してください XXXX\"(seed=seed),direction=\"maximize\")\n",
    "study.optimize(objective, timeout=timeout, gc_after_trial=True, n_jobs=n_jobs)\n",
    "_result = study.trials_dataframe()\n",
    "_result[\"name\"] = name\n",
    "result = pd.concat([result, _result], axis=0, ignore_index=True)"
   ]
  },
  {
   "cell_type": "markdown",
   "metadata": {},
   "source": [
    "### タスク3\n",
    "`引張強度`に対して枝刈りを使って最適化を実施する"
   ]
  },
  {
   "cell_type": "markdown",
   "metadata": {},
   "source": [
    "タスク２でリストアップしたSamplerと下記のPrunerと組み合わせして最適化し、結果を記録する\n",
    "- [MedianPruner](https://optuna.readthedocs.io/en/v2.10.1/reference/generated/optuna.pruners.MedianPruner.html#optuna.pruners.MedianPruner)\n",
    "- [PatientPruner](https://optuna.readthedocs.io/en/v2.10.1/reference/generated/optuna.pruners.PatientPruner.html#optuna.pruners.PatientPruner)\n",
    "- [PercentilePruner](https://optuna.readthedocs.io/en/v2.10.1/reference/generated/optuna.pruners.PercentilePruner.html#optuna.pruners.PercentilePruner)\n",
    "- [SuccessiveHalvingPruner](https://optuna.readthedocs.io/en/v2.10.1/reference/generated/optuna.pruners.SuccessiveHalvingPruner.html#optuna.pruners.SuccessiveHalvingPruner)\n",
    "- [HyperbandPruner](https://optuna.readthedocs.io/en/v2.10.1/reference/generated/optuna.pruners.HyperbandPruner.html#optuna.pruners.HyperbandPruner)\n",
    "\n",
    "要件\n",
    "- SamplerとPrunerのパラメーターはドキュメント参照して変更OK、初期設定をそのまま使うのも大丈夫\n",
    "- シードは必ず`seed`（=71）に固定する\n",
    "- `study.optimize`で最適化する際、`n_jobs`を3まで調整OK\n",
    "- **2**通り以上`result`に記録してください"
   ]
  },
  {
   "cell_type": "code",
   "execution_count": null,
   "metadata": {},
   "outputs": [],
   "source": [
    "%%time\n",
    "# パターン1\n",
    "name_sampler = \"XXXX ここにsamplerの名前を記入してください XXXX\"\n",
    "name_pruner = \"XXXX ここにprunerの名前を記入してください XXXX\"\n",
    "n_jobs = \"XXXX ここに並列数を記入してください XXXX\"\n",
    "sampler = optuna.samplers.\"XXXX ここにクラス名を記入してください XXXX\"(seed=seed)\n",
    "pruner = optuna.pruners.\"XXXX ここにクラス名を記入してください XXXX\"()\n",
    "study = optuna.create_study(direction=\"maximize\", sampler=sampler, pruner=pruner)\n",
    "study.optimize(objective, timeout=timeout, gc_after_trial=True, n_jobs=n_jobs)\n",
    "_result = study.trials_dataframe()\n",
    "_result[\"name\"] = name_sampler+\"_\"+name_pruner\n",
    "result = pd.concat([result, _result], axis=0, ignore_index=True)"
   ]
  },
  {
   "cell_type": "code",
   "execution_count": null,
   "metadata": {},
   "outputs": [],
   "source": [
    "%%time\n",
    "# パターン2\n",
    "name_sampler = \"XXXX ここにsamplerの名前を記入してください XXXX\"\n",
    "name_pruner = \"XXXX ここにprunerの名前を記入してください XXXX\"\n",
    "n_jobs = \"XXXX ここに並列数を記入してください XXXX\"\n",
    "sampler = optuna.samplers.\"XXXX ここにクラス名を記入してください XXXX\"(seed=seed)\n",
    "pruner = optuna.pruners.\"XXXX ここにクラス名を記入してください XXXX\"()\n",
    "study = optuna.create_study(direction=\"maximize\", sampler=sampler, pruner=pruner)\n",
    "study.optimize(objective, timeout=timeout, gc_after_trial=True, n_jobs=n_jobs)\n",
    "result = update_result(result, study, name_sampler, name_pruner, n_jobs)\n",
    "_result = study.trials_dataframe()\n",
    "_result[\"name\"] = name_sampler+\"_\"+name_pruner\n",
    "result = pd.concat([result, _result], axis=0, ignore_index=True)"
   ]
  },
  {
   "cell_type": "markdown",
   "metadata": {},
   "source": [
    "### 結果表示"
   ]
  },
  {
   "cell_type": "code",
   "execution_count": null,
   "metadata": {},
   "outputs": [],
   "source": [
    "df_result = pd.DataFrame(result)\n",
    "display(df_result)"
   ]
  },
  {
   "cell_type": "code",
   "execution_count": null,
   "metadata": {},
   "outputs": [],
   "source": [
    "# 一番良かった結果を見てみよう\n",
    "df_result.loc[df_result[\"value\"] == df_result[\"value\"].max()]"
   ]
  },
  {
   "cell_type": "code",
   "execution_count": null,
   "metadata": {},
   "outputs": [],
   "source": [
    "# This is the end of this code..."
   ]
  }
 ],
 "metadata": {
  "kernelspec": {
   "display_name": ".venv",
   "language": "python",
   "name": "python3"
  },
  "language_info": {
   "codemirror_mode": {
    "name": "ipython",
    "version": 3
   },
   "file_extension": ".py",
   "mimetype": "text/x-python",
   "name": "python",
   "nbconvert_exporter": "python",
   "pygments_lexer": "ipython3",
   "version": "3.11.11"
  }
 },
 "nbformat": 4,
 "nbformat_minor": 4
}
