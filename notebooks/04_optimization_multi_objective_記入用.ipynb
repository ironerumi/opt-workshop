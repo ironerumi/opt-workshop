{
 "cells": [
  {
   "cell_type": "markdown",
   "metadata": {},
   "source": [
    "# Optimization and Simulation with DR"
   ]
  },
  {
   "cell_type": "markdown",
   "metadata": {},
   "source": [
    "## optunaによる多目的関数の最適化"
   ]
  },
  {
   "cell_type": "markdown",
   "metadata": {},
   "source": [
    "### 1. ライブラリ類のインポートとファイルのロード"
   ]
  },
  {
   "cell_type": "code",
   "execution_count": null,
   "metadata": {},
   "outputs": [],
   "source": [
    "%matplotlib inline\n",
    "\n",
    "import os\n",
    "import copy\n",
    "import warnings\n",
    "\n",
    "import numpy as np\n",
    "import pandas as pd\n",
    "from pandas import DataFrame\n",
    "\n",
    "import matplotlib.pyplot as plt\n",
    "import datarobot as dr\n",
    "from datarobot_predict.deployment import predict\n",
    "\n",
    "\n",
    "import optuna\n",
    "import optunahub\n",
    "\n",
    "import japanize_matplotlib\n",
    "\n",
    "if not os.getenv(\"DATAROBOT_NOTEBOOK_IMAGE\"):\n",
    "    print(\"not running in DataRobot Notebook\")\n",
    "    from dotenv import load_dotenv\n",
    "    load_dotenv(\"../.env\", override=True)\n",
    "\n",
    "client = dr.Client()\n",
    "\n",
    "seed = 71\n",
    "np.random.seed(seed)\n",
    "warnings.filterwarnings(\"ignore\")\n",
    "plt.rcParams.update({\"figure.max_open_warning\": 0})\n",
    "optuna.visualization.is_available()\n",
    "pd.set_option('display.max_rows', 1000)\n",
    "pd.set_option('display.max_columns', 1000)\n",
    "pd.set_option('display.width', 1000)\n",
    "pd.set_option('display.max_colwidth', 1000)\n",
    "pd.set_option(\"display.precision\", 8)"
   ]
  },
  {
   "cell_type": "code",
   "execution_count": null,
   "metadata": {},
   "outputs": [],
   "source": [
    "targets = [\"降伏強度\", \"引張強度\"]\n",
    "\n",
    "df = pd.read_csv(\"../data/opt_steel_strength.csv\")"
   ]
  },
  {
   "cell_type": "code",
   "execution_count": null,
   "metadata": {},
   "outputs": [],
   "source": [
    "y_train1 = df[\"降伏強度\"]\n",
    "y_train2 = df[\"引張強度\"]\n",
    "X_train = df.drop([\"ID\", \"降伏強度\", \"引張強度\"], axis=1)"
   ]
  },
  {
   "cell_type": "markdown",
   "metadata": {},
   "source": [
    "### 2. 予測APIを用いる上での必要な情報を準備しておきます。"
   ]
  },
  {
   "cell_type": "code",
   "execution_count": null,
   "metadata": {},
   "outputs": [],
   "source": [
    "# 予測APIを叩くための諸々を設定する必要があります\n",
    "dr.Client()\n",
    "deployment_ids = [\"67bc6ab2f1b3f6b73d560ff8\", \"67bc6ab999dbbff523b1152a\"]\n",
    "deployments = [dr.Deployment.get(deployment_id) for deployment_id in deployment_ids]\n",
    "# 実験時間、実験回数（n_trials）での制御も可能\n",
    "timeout = 15\n",
    "\n",
    "# 結果格納用\n",
    "result = []"
   ]
  },
  {
   "cell_type": "markdown",
   "metadata": {},
   "source": [
    "### 3. `datarobot-predict`を使って予測APIを叩く"
   ]
  },
  {
   "cell_type": "code",
   "execution_count": null,
   "metadata": {},
   "outputs": [],
   "source": [
    "# 一回叩いてみる\n",
    "predictions_1, _ = predict(deployments[0], X_train.iloc[:1])\n",
    "predictions_2, _ = predict(deployments[1], X_train.iloc[:1])\n",
    "display(predictions_1)\n",
    "display(predictions_2)"
   ]
  },
  {
   "cell_type": "code",
   "execution_count": null,
   "metadata": {},
   "outputs": [],
   "source": [
    "# 予測の戻り値から予測値を取り出す\n",
    "predictions_1.loc[0, \"降伏強度_PREDICTION\"], predictions_2.loc[0, \"引張強度_PREDICTION\"]"
   ]
  },
  {
   "cell_type": "code",
   "execution_count": null,
   "metadata": {},
   "outputs": [],
   "source": [
    "# 結果記録用のヘルパーメソッド\n",
    "def update_result(result, study, sampler, pruner, n_jobs):\n",
    "    dict_trial = {\n",
    "        \"sampler\": sampler,\n",
    "        \"pruner\": pruner,\n",
    "        \"n_jobs\": n_jobs,\n",
    "        \"値\": study.best_trial.value,\n",
    "        \"回数\": len(study.trials),\n",
    "        **study.best_trial.params,\n",
    "    }\n",
    "    result.append(dict_trial)\n",
    "    print(dict_trial)\n",
    "    return result"
   ]
  },
  {
   "cell_type": "markdown",
   "metadata": {},
   "source": [
    "### 4. 二つのターゲットで試してみましょう\n",
    "複数の最適化する対象設定します。この関数の戻り値がそれぞれ最小/大化されるようにoptunaが探索空間からいい感じの入力データを見つけてくれます。"
   ]
  },
  {
   "cell_type": "code",
   "execution_count": null,
   "metadata": {},
   "outputs": [],
   "source": [
    "stat = X_train.describe().T\n",
    "\n",
    "\n",
    "def objective(trial):\n",
    "\n",
    "    df_target = DataFrame(index=[0], columns=X_train.columns)\n",
    "    for col in X_train.columns:\n",
    "        low = stat.loc[col, \"min\"] * 0.8\n",
    "        high = stat.loc[col, \"max\"] * 1.2\n",
    "        df_target[col] = trial.suggest_float(col, low, high, step=0.01)\n",
    "\n",
    "    pred_1 = predict(deployments[0], df_target)[0].loc[0, \"降伏強度_PREDICTION\"]\n",
    "    pred_2 = predict(deployments[1], df_target)[0].loc[0, \"引張強度_PREDICTION\"]\n",
    "\n",
    "    return pred_1, pred_2"
   ]
  },
  {
   "cell_type": "markdown",
   "metadata": {},
   "source": [
    "### 5. 最適化を実行する"
   ]
  },
  {
   "cell_type": "code",
   "execution_count": null,
   "metadata": {},
   "outputs": [],
   "source": [
    "%%time\n",
    "dr.Client()\n",
    "sampler1 = optuna.samplers.NSGAIISampler(seed=42)\n",
    "study1 = optuna.create_study(directions=[\"maximize\",\"maximize\"], study_name=f\"{sampler1.__class__.__name__}\",)\n",
    "study1.optimize(objective, timeout=timeout, gc_after_trial=True)"
   ]
  },
  {
   "cell_type": "code",
   "execution_count": null,
   "metadata": {},
   "outputs": [],
   "source": [
    "# 結果を一度保存します\n",
    "trails_bk = [copy.deepcopy(trials) for trials in study1.trials]\n",
    "for trial in study1.best_trials:\n",
    "    print(trial.number, trial.values[0], trial.values[1])"
   ]
  },
  {
   "cell_type": "code",
   "execution_count": null,
   "metadata": {},
   "outputs": [],
   "source": [
    "# 使われてる最適化手法を確認\n",
    "print(f\"Sampler is {study1.sampler.__class__.__name__}\")"
   ]
  },
  {
   "cell_type": "markdown",
   "metadata": {},
   "source": [
    "### 6. パレート最適解を可視化してみてみましょう"
   ]
  },
  {
   "cell_type": "code",
   "execution_count": null,
   "metadata": {},
   "outputs": [],
   "source": [
    "# optunaの可視化\n",
    "optuna.visualization.plot_pareto_front(study1)"
   ]
  },
  {
   "cell_type": "code",
   "execution_count": null,
   "metadata": {},
   "outputs": [],
   "source": [
    "# 手動で可視化してみる\n",
    "trial_all = []\n",
    "for trial in study1.get_trials():\n",
    "    trial_all.append([trial.number, trial.values[0], trial.values[1]])\n",
    "trial_all = pd.DataFrame(trial_all, columns=[\"Iteration\", \"降伏強度\", \"引張強度\"])\n",
    "\n",
    "trial_pareto = []\n",
    "for trial in study1.best_trials:\n",
    "    trial_pareto.append([trial.number, trial.values[0], trial.values[1]])\n",
    "trial_pareto = pd.DataFrame(trial_pareto, columns=[\"Iteration\", \"降伏強度\", \"引張強度\"])\n",
    "trial_pareto.sort_values(\"降伏強度\", inplace=True)\n",
    "# plot\n",
    "plt.clf()\n",
    "fig, ax = plt.subplots(figsize=(8, 8))\n",
    "ax.plot(trial_all[\"降伏強度\"], trial_all[\"引張強度\"], linestyle=\"\", marker=\"*\")\n",
    "ax.plot(trial_pareto[\"降伏強度\"], trial_pareto[\"引張強度\"])\n",
    "# ax.axis(\"equal\")\n",
    "fig.tight_layout()\n",
    "plt.show()\n",
    "# グラフの軸は０スタートではないので、ご注意ください"
   ]
  },
  {
   "cell_type": "markdown",
   "metadata": {},
   "source": [
    "### 7. OptunaHubの`Sampler`を試してみる"
   ]
  },
  {
   "cell_type": "code",
   "execution_count": null,
   "metadata": {},
   "outputs": [],
   "source": [
    "# optunaにあるNSGAIIは`RamdomSampler`で初期化して、下記は`TPESampler`で初期化している\n",
    "dr.Client()\n",
    "package_name = \"samplers/nsgaii_with_tpe_warmup\"\n",
    "sampler2 = optunahub.load_module(package=package_name).NSGAIIWithTPEWarmupSampler()\n",
    "study2 = optuna.create_study(\n",
    "    sampler=sampler2,\n",
    "    directions=[\"maximize\", \"maximize\"],\n",
    "    study_name=f\"{sampler2.__class__.__name__}\",\n",
    ")\n",
    "study2.optimize(objective, timeout=timeout, gc_after_trial=True)"
   ]
  },
  {
   "cell_type": "code",
   "execution_count": null,
   "metadata": {},
   "outputs": [],
   "source": [
    "# CMA-ESを多目的対応した`MoCmaSampler`も試してみる\n",
    "dr.Client()\n",
    "package_name = \"samplers/mocma\"\n",
    "sampler3 = optunahub.load_module(package=package_name).MoCmaSampler(seed=42)\n",
    "study3 = optuna.create_study(\n",
    "    sampler=sampler3,\n",
    "    directions=[\"maximize\", \"maximize\"],\n",
    "    study_name=f\"{sampler3.__class__.__name__}\",\n",
    ")\n",
    "study3.optimize(objective, timeout=timeout, gc_after_trial=True)"
   ]
  },
  {
   "cell_type": "markdown",
   "metadata": {},
   "source": [
    "### 8. 3つ`Sampler`の結果を比較してみる"
   ]
  },
  {
   "cell_type": "code",
   "execution_count": null,
   "metadata": {},
   "outputs": [],
   "source": [
    "from collections.abc import Sequence\n",
    "from optuna.study import Study\n",
    "from optuna.visualization._pareto_front import _get_pareto_front_info\n",
    "\n",
    "# optunahub.load_module(\"visualization/plot_pareto_front_multi\").plot_pareto_front(\n",
    "#     [study1, study2, study3]\n",
    "# ).show()\n",
    "\n",
    "\n",
    "def plot_pareto_front_matplotlib(studies: Sequence[Study]) -> None:\n",
    "    \"\"\"Plot pareto front for each study using Matplotlib.\n",
    "\n",
    "    Args:\n",
    "        studies:\n",
    "            A list of study object whose trials are plotted for their pareto fronts.\n",
    "            The number of objectives must be 2 for all trials and must be the same on all trials.\n",
    "    \"\"\"\n",
    "\n",
    "    if not all(study._is_multi_objective() for study in studies):\n",
    "        raise ValueError(\n",
    "            \"All studies must be multi-objective. For single-objective optimization, \"\n",
    "            \"please use plot_optimization_history instead.\"\n",
    "        )\n",
    "\n",
    "    if not all(\n",
    "        len(studies[0].directions) == len(study.directions) for study in studies\n",
    "    ):\n",
    "        raise ValueError(\"The number of objectives must be the same for all studies.\")\n",
    "\n",
    "    if not all(len(study.directions) == 2 for study in studies):\n",
    "        raise ValueError(\"The number of objectives must be 2 for all studies.\")\n",
    "\n",
    "    info_list = {}\n",
    "    for study in studies:\n",
    "        info = _get_pareto_front_info(study, include_dominated_trials=False)\n",
    "        info_list[study.study_name] = info\n",
    "\n",
    "    _get_pareto_front_plot_matplotlib(info_list)\n",
    "\n",
    "\n",
    "def _get_pareto_front_plot_matplotlib(info_dict) -> None:\n",
    "    title = \"Pareto-front Plot for multiple studies\"\n",
    "    fig, ax = plt.subplots()\n",
    "    ax.set_title(title)\n",
    "\n",
    "    for key, value in info_dict.items():\n",
    "        x = [values[0] for _, values in value.best_trials_with_values]\n",
    "        y = [values[1] for _, values in value.best_trials_with_values]\n",
    "        ax.scatter(x, y, label=key)\n",
    "\n",
    "    ax.set_xlabel(value.target_names[0])\n",
    "    ax.set_ylabel(value.target_names[1])\n",
    "    ax.legend()\n",
    "    plt.show()\n",
    "\n",
    "\n",
    "plot_pareto_front_matplotlib([study1, study2, study3])"
   ]
  },
  {
   "cell_type": "markdown",
   "metadata": {},
   "source": [
    "### 9. 3つのターゲットで最適化してみましょう"
   ]
  },
  {
   "cell_type": "code",
   "execution_count": null,
   "metadata": {},
   "outputs": [],
   "source": [
    "dr.Client()\n",
    "\n",
    "\n",
    "def objective(trial):\n",
    "\n",
    "    df_target = DataFrame(index=[0], columns=X_train.columns)\n",
    "    for col in X_train.columns:\n",
    "        low = stat.loc[col, \"min\"] * 0.8\n",
    "        high = stat.loc[col, \"max\"] * 1.2\n",
    "        df_target[col] = trial.suggest_float(col, low, high, step=0.01)\n",
    "\n",
    "    pred_1 = predict(deployments[0], df_target)[0].loc[0, \"降伏強度_PREDICTION\"]\n",
    "    pred_2 = predict(deployments[1], df_target)[0].loc[0, \"引張強度_PREDICTION\"]\n",
    "\n",
    "    return pred_1, pred_2, df_target[\"コバルト\"]\n",
    "\n",
    "\n",
    "samplers = [\n",
    "    optuna.samplers.RandomSampler(),\n",
    "    optuna.samplers.TPESampler(),\n",
    "    optuna.samplers.NSGAIISampler(),\n",
    "]\n",
    "studies = []\n",
    "for sampler in samplers:\n",
    "    print(\"--------------------\")\n",
    "    print(f\"最適化 Sampler: {sampler.__class__.__name__}\")\n",
    "    study = optuna.create_study(\n",
    "        sampler=sampler,\n",
    "        study_name=f\"{sampler.__class__.__name__}\",\n",
    "        directions=[\"maximize\", \"maximize\", \"minimize\"],\n",
    "    )\n",
    "    study.optimize(objective, n_trials=50)\n",
    "    studies.append(study)"
   ]
  },
  {
   "cell_type": "code",
   "execution_count": null,
   "metadata": {},
   "outputs": [],
   "source": [
    "# パレート曲線を描いてみる\n",
    "# m = optunahub.load_module(\"visualization/plot_pareto_front_multi\")\n",
    "# fig = m.plot_pareto_front(studies)\n",
    "# fig.show()"
   ]
  },
  {
   "cell_type": "code",
   "execution_count": null,
   "metadata": {},
   "outputs": [],
   "source": [
    "# `HyperVolume`を描いてみる\n",
    "# 平均点からどこまで改善できたかを確認する\n",
    "reference_point = [\n",
    "    df[\"降伏強度\"].mean(),\n",
    "    df[\"引張強度\"].mean(),\n",
    "    df[\"コバルト\"].mean(),\n",
    "]\n",
    "# m = optunahub.load_module(\"visualization/plot_hypervolume_history_multi\")\n",
    "# fig = m.plot_hypervolume_history(studies, reference_point)\n",
    "# fig.show()"
   ]
  },
  {
   "cell_type": "code",
   "execution_count": null,
   "metadata": {},
   "outputs": [],
   "source": [
    "from optuna.visualization._hypervolume_history import _get_hypervolume_history_info\n",
    "from typing import NamedTuple\n",
    "\n",
    "\n",
    "class _HypervolumeHistoryInfo(NamedTuple):\n",
    "    trial_numbers: list[int]\n",
    "    values: list[float]\n",
    "    study_name: str\n",
    "\n",
    "\n",
    "def plot_hypervolume_history_matplotlib(\n",
    "    studies: Sequence[Study], reference_point: Sequence[float]\n",
    "):\n",
    "    \"\"\"Plot hypervolume history for each study using Matplotlib.\n",
    "\n",
    "    Args:\n",
    "        studies:\n",
    "            A list of study object whose trials are plotted for their hypervolumes.\n",
    "            The number of objectives must be 2 or more for all trials and must be the same on all trials.\n",
    "\n",
    "        reference_point:\n",
    "            A reference point to use for hypervolume computation.\n",
    "            The dimension of the reference point must be the same as the number of objectives.\n",
    "\n",
    "    Returns:\n",
    "        A Matplotlib figure object.\n",
    "    \"\"\"\n",
    "    if not all(study._is_multi_objective() for study in studies):\n",
    "        raise ValueError(\n",
    "            \"All studies must be multi-objective. For single-objective optimization, \"\n",
    "            \"please use plot_optimization_history instead.\"\n",
    "        )\n",
    "\n",
    "    if not all(len(study.directions) == len(study.directions) for study in studies):\n",
    "        raise ValueError(\"The number of objectives must be the same for all studies.\")\n",
    "\n",
    "    if len(reference_point) != len(studies[0].directions):\n",
    "        raise ValueError(\n",
    "            \"The dimension of the reference point must be the same as the number of objectives.\"\n",
    "        )\n",
    "\n",
    "    info_list = []\n",
    "    for study in studies:\n",
    "        info_ = _get_hypervolume_history_info(\n",
    "            study, np.asarray(reference_point, dtype=np.float64)\n",
    "        )\n",
    "        info_list.append(\n",
    "            _HypervolumeHistoryInfo(info_.trial_numbers, info_.values, study.study_name)\n",
    "        )\n",
    "\n",
    "    return _get_hypervolume_history_plot_matplotlib(info_list)\n",
    "\n",
    "\n",
    "def _get_hypervolume_history_plot_matplotlib(info_list: list[_HypervolumeHistoryInfo]):\n",
    "    fig, ax = plt.subplots()\n",
    "    ax.set_title(\"Hypervolume History Plot\")\n",
    "    ax.set_xlabel(\"Trial\")\n",
    "    ax.set_ylabel(\"Hypervolume\")\n",
    "\n",
    "    for info in info_list:\n",
    "        ax.plot(info.trial_numbers, info.values, marker=\"o\", label=info.study_name)\n",
    "\n",
    "    ax.legend()\n",
    "    plt.show()\n",
    "    plt.close(fig)  # Close the figure to prevent it from displaying twice\n",
    "\n",
    "\n",
    "plot_hypervolume_history_matplotlib(studies, reference_point)"
   ]
  },
  {
   "cell_type": "code",
   "execution_count": null,
   "metadata": {},
   "outputs": [],
   "source": [
    "# This is the end of this code..."
   ]
  }
 ],
 "metadata": {
  "kernelspec": {
   "display_name": ".venv",
   "language": "python",
   "name": "python3"
  },
  "language_info": {
   "codemirror_mode": {
    "name": "ipython",
    "version": 3
   },
   "file_extension": ".py",
   "mimetype": "text/x-python",
   "name": "python",
   "nbconvert_exporter": "python",
   "pygments_lexer": "ipython3",
   "version": "3.11.11"
  }
 },
 "nbformat": 4,
 "nbformat_minor": 4
}
