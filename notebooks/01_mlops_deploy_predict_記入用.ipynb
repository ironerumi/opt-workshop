{
 "cells": [
  {
   "cell_type": "code",
   "execution_count": null,
   "metadata": {},
   "outputs": [],
   "source": [
    "%%time\n",
    "import json\n",
    "import os\n",
    "import warnings\n",
    "\n",
    "import pandas as pd\n",
    "import pulumi\n",
    "from datarobot_predict.deployment import predict\n",
    "\n",
    "import datarobot as dr\n",
    "import pulumi_datarobot as datarobot\n",
    "from pulumi import automation as auto\n",
    "\n",
    "if not os.getenv(\"DATAROBOT_NOTEBOOK_IMAGE\"):\n",
    "    print(\"not running in DataRobot Notebook\")\n",
    "    from dotenv import load_dotenv\n",
    "    load_dotenv(\"../.env\", override=True)\n",
    "else:\n",
    "    print(\"running in DataRobot Notebook\")\n",
    "    os.environ[\"PULUMI_CONFIG_PASSPHRASE\"] = \"dr\"\n",
    "warnings.filterwarnings(\"ignore\")\n",
    "\n",
    "client = dr.Client()\n",
    "\n",
    "pd.set_option(\"display.max_rows\", 1000)\n",
    "pd.set_option(\"display.max_columns\", 1000)\n",
    "pd.set_option(\"display.width\", 1000)\n",
    "pd.set_option(\"display.max_colwidth\", 1000)\n",
    "pd.set_option(\"display.precision\", 8)"
   ]
  },
  {
   "cell_type": "code",
   "execution_count": null,
   "metadata": {},
   "outputs": [],
   "source": [
    "model_id = \"67bb0f8070b10e0e4071f347\"\n",
    "usecase_id = os.getenv(\"DATAROBOT_DEFAULT_USE_CASE\")\n",
    "stack_name = \"mlops-bleedout\"\n",
    "project_name = \"dr-workshop\""
   ]
  },
  {
   "cell_type": "code",
   "execution_count": null,
   "metadata": {},
   "outputs": [],
   "source": [
    "def stack_up(project_name: str, stack_name: str, program: callable) -> auto.Stack:\n",
    "    # create (or select if one already exists) a stack that uses our inline program\n",
    "    stack = auto.create_or_select_stack(\n",
    "        stack_name=stack_name, project_name=project_name, program=program\n",
    "    )\n",
    "\n",
    "    stack.refresh(on_output=print)\n",
    "\n",
    "    stack.up(on_output=print)\n",
    "    return stack\n",
    "\n",
    "\n",
    "def destroy_project(stack: auto.Stack):\n",
    "    \"\"\"Destroy pulumi project\"\"\"\n",
    "    stack_name = stack.name\n",
    "    stack.destroy(on_output=print)\n",
    "\n",
    "    stack.workspace.remove_stack(stack_name)\n",
    "    print(f\"stack {stack_name} in project removed\")\n",
    "\n",
    "\n",
    "def make_deployment():\n",
    "    \"\"\"Deploy a trained model onto DataRobot.\"\"\"\n",
    "    user_name = client.get(\"account/info\").json()[\"email\"].split(\"@\")[0]\n",
    "    registered_model = datarobot.RegisteredModelFromLeaderboard(\n",
    "        resource_name=f\"[{user_name}]-registered-model\",\n",
    "        model_id=model_id,\n",
    "        name=f\"[{user_name}]-registered-model\",\n",
    "        use_case_ids=[usecase_id],\n",
    "    )\n",
    "    registered_model_id = registered_model.id\n",
    "    registered_model_version_id = registered_model.version_id\n",
    "    prediction_environment = datarobot.PredictionEnvironment(\n",
    "        resource_name=f\"[{user_name}]-prediction-environment\",\n",
    "        name=f\"[{user_name}]-prediction-environment\",\n",
    "        batch_jobs_max_concurrent=20,\n",
    "        platform=\"datarobotServerless\",\n",
    "        supported_model_formats=[\n",
    "            \"datarobot\",\n",
    "            # \"customModel\",\n",
    "        ],\n",
    "    )\n",
    "    prediction_environment_id = prediction_environment.id\n",
    "    deployment = datarobot.Deployment(\n",
    "        resource_name=f\"[{user_name}]-deployment\",\n",
    "        label=f\"[{user_name}]-deployment\",\n",
    "        registered_model_version_id=registered_model_version_id,\n",
    "        prediction_environment_id=prediction_environment_id,\n",
    "        drift_tracking_settings={\n",
    "            \"feature_drift_enabled\": True,\n",
    "            \"target_drift_enabled\": True,\n",
    "        },\n",
    "        association_id_settings={\n",
    "            \"auto_generate_id\": False,\n",
    "            \"column_names\": [\"association_id\"],\n",
    "            \"required_in_prediction_requests\": True,\n",
    "        },\n",
    "        health_settings={\n",
    "            \"data_drift\": {\n",
    "                \"time_interval\": \"P180D\",\n",
    "            },\n",
    "        },\n",
    "        challenger_models_settings={\n",
    "            \"enabled\": True,\n",
    "        },\n",
    "        predictions_by_forecast_date_settings={\n",
    "            \"enabled\": True,\n",
    "            \"column_name\": \"date\",\n",
    "            \"datetime_format\": \"%Y-%m-%d\",  # 2022-01-01\n",
    "        },\n",
    "        predictions_data_collection_settings={\n",
    "            \"enabled\": True,\n",
    "        },\n",
    "        batch_monitoring_settings={\n",
    "            \"enabled\": False,\n",
    "        },\n",
    "        segment_analysis_settings={\n",
    "            \"enabled\": True,\n",
    "            \"attributes\": [],\n",
    "        },\n",
    "        use_case_ids=[usecase_id],\n",
    "    )\n",
    "    pulumi.export(\"registered_model_id\", registered_model_id)\n",
    "    pulumi.export(\"registered_model_version_id\", registered_model_version_id)\n",
    "    pulumi.export(\"prediction_environment_id\", prediction_environment_id)\n",
    "    pulumi.export(\"deployment_id\", deployment.id)"
   ]
  },
  {
   "cell_type": "code",
   "execution_count": null,
   "metadata": {},
   "outputs": [],
   "source": [
    "stack = stack_up(project_name, stack_name, program=make_deployment)"
   ]
  },
  {
   "cell_type": "code",
   "execution_count": null,
   "metadata": {},
   "outputs": [],
   "source": [
    "result = stack.outputs()\n",
    "deployment_id = result[\"deployment_id\"].value\n",
    "deployment = dr.Deployment.get(deployment_id)"
   ]
  },
  {
   "cell_type": "markdown",
   "metadata": {},
   "source": [
    "### 予測"
   ]
  },
  {
   "cell_type": "code",
   "execution_count": null,
   "metadata": {},
   "outputs": [],
   "source": [
    "df_test = pd.read_csv(\"../data/mlops_bleed_out_test.csv\")\n",
    "display(df_test.head())\n",
    "df_result, _ = predict(deployment, df_test)\n",
    "display(df_result.head())"
   ]
  },
  {
   "cell_type": "markdown",
   "metadata": {},
   "source": [
    "### 実績値をアップロード"
   ]
  },
  {
   "cell_type": "code",
   "execution_count": null,
   "metadata": {},
   "outputs": [],
   "source": [
    "dr.Client()\n",
    "df_actuals = pd.read_csv(\"../data/mlops_bleed_out_actuals.csv\")\n",
    "deployment.submit_actuals(df_actuals)\n",
    "# json_actual = df_actuals.rename(\n",
    "#     columns={\"association_id\": \"associationId\", \"actual_value\": \"actualValue\"}\n",
    "# ).to_dict(orient=\"records\")\n",
    "# response = client.post(\n",
    "#     f\"deployments/{deployment_id}/actuals/fromJSON/\", json={\"data\": json_actual}\n",
    "# )\n",
    "# print(response.status_code)"
   ]
  },
  {
   "cell_type": "markdown",
   "metadata": {},
   "source": [
    "### デプロイなどリソースの削除"
   ]
  },
  {
   "cell_type": "code",
   "execution_count": null,
   "metadata": {},
   "outputs": [],
   "source": [
    "# destroy_project(stack)"
   ]
  }
 ],
 "metadata": {
  "kernelspec": {
   "display_name": ".venv",
   "language": "python",
   "name": "python3"
  },
  "language_info": {
   "codemirror_mode": {
    "name": "ipython",
    "version": 3
   },
   "file_extension": ".py",
   "mimetype": "text/x-python",
   "name": "python",
   "nbconvert_exporter": "python",
   "pygments_lexer": "ipython3",
   "version": "3.11.11"
  }
 },
 "nbformat": 4,
 "nbformat_minor": 2
}
