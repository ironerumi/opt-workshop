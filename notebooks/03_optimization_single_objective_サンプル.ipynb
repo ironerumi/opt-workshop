{
 "cells": [
  {
   "cell_type": "markdown",
   "metadata": {},
   "source": [
    "# Optimization and Simulation with DR"
   ]
  },
  {
   "cell_type": "markdown",
   "metadata": {},
   "source": [
    "## optunaによる単目的関数の最適化"
   ]
  },
  {
   "cell_type": "markdown",
   "metadata": {},
   "source": [
    "### 1. ライブラリ類のインポートとファイルのロード"
   ]
  },
  {
   "cell_type": "code",
   "execution_count": null,
   "metadata": {},
   "outputs": [
    {
     "name": "stdout",
     "output_type": "stream",
     "text": [
      "not running in DataRobot Notebook\n"
     ]
    }
   ],
   "source": [
    "%matplotlib inline\n",
    "\n",
    "import os\n",
    "import copy\n",
    "import warnings\n",
    "\n",
    "import numpy as np\n",
    "import pandas as pd\n",
    "from pandas import DataFrame\n",
    "\n",
    "import matplotlib.pyplot as plt\n",
    "import datarobot as dr\n",
    "from datarobot_predict.deployment import predict\n",
    "\n",
    "import optuna\n",
    "\n",
    "import japanize_matplotlib\n",
    "\n",
    "if not os.getenv(\"DATAROBOT_NOTEBOOK_IMAGE\"):\n",
    "    print(\"not running in DataRobot Notebook\")\n",
    "    from dotenv import load_dotenv\n",
    "    load_dotenv(\"../.env\", override=True)\n",
    "\n",
    "client = dr.Client()\n",
    "\n",
    "seed = 71\n",
    "np.random.seed(seed)\n",
    "warnings.filterwarnings(\"ignore\")\n",
    "plt.rcParams.update({\"figure.max_open_warning\": 0})\n",
    "optuna.visualization.is_available()\n",
    "pd.set_option('display.max_rows', 1000)\n",
    "pd.set_option('display.max_columns', 1000)\n",
    "pd.set_option('display.width', 1000)\n",
    "pd.set_option('display.max_colwidth', 1000)\n",
    "pd.set_option(\"display.precision\", 8)"
   ]
  },
  {
   "cell_type": "code",
   "execution_count": 28,
   "metadata": {},
   "outputs": [],
   "source": [
    "targets = [\"降伏強度\", \"引張強度\"]\n",
    "\n",
    "df = pd.read_csv(\"../data/opt_steel_strength.csv\")"
   ]
  },
  {
   "cell_type": "code",
   "execution_count": 29,
   "metadata": {},
   "outputs": [],
   "source": [
    "y_train1 = df[\"降伏強度\"]\n",
    "y_train2 = df[\"引張強度\"]\n",
    "X_train = df.drop([\"ID\", \"降伏強度\", \"引張強度\"], axis=1)"
   ]
  },
  {
   "cell_type": "markdown",
   "metadata": {},
   "source": [
    "### 2. 予測APIを用いる上での必要な情報を準備しておきます。"
   ]
  },
  {
   "cell_type": "code",
   "execution_count": null,
   "metadata": {},
   "outputs": [],
   "source": [
    "# 予測APIを叩くための諸々を設定する必要があります\n",
    "dr.Client()\n",
    "deployment_ids = [\"67bc6ab2f1b3f6b73d560ff8\", \"67bc6ab999dbbff523b1152a\"]\n",
    "deployment_quant_ids = [\"67bc6ad2fd8c6942c3561092\", \"67bc6ad599dbbff523b11589\"]\n",
    "deployments = [dr.Deployment.get(deployment_id) for deployment_id in deployment_ids]\n",
    "deployments_quant = [\n",
    "    dr.Deployment.get(deployment_id) for deployment_id in deployment_quant_ids\n",
    "]\n",
    "# 実験時間、実験回数（n_trials）での制御も可能\n",
    "timeout = 15\n",
    "\n",
    "# 結果格納用\n",
    "result = []"
   ]
  },
  {
   "cell_type": "markdown",
   "metadata": {},
   "source": [
    "### 3. `datarobot-predict`を使って予測APIを叩く"
   ]
  },
  {
   "cell_type": "code",
   "execution_count": 31,
   "metadata": {},
   "outputs": [
    {
     "data": {
      "text/html": [
       "<div>\n",
       "<style scoped>\n",
       "    .dataframe tbody tr th:only-of-type {\n",
       "        vertical-align: middle;\n",
       "    }\n",
       "\n",
       "    .dataframe tbody tr th {\n",
       "        vertical-align: top;\n",
       "    }\n",
       "\n",
       "    .dataframe thead th {\n",
       "        text-align: right;\n",
       "    }\n",
       "</style>\n",
       "<table border=\"1\" class=\"dataframe\">\n",
       "  <thead>\n",
       "    <tr style=\"text-align: right;\">\n",
       "      <th></th>\n",
       "      <th>降伏強度_PREDICTION</th>\n",
       "      <th>DEPLOYMENT_APPROVAL_STATUS</th>\n",
       "    </tr>\n",
       "  </thead>\n",
       "  <tbody>\n",
       "    <tr>\n",
       "      <th>0</th>\n",
       "      <td>2262.14794922</td>\n",
       "      <td>APPROVED</td>\n",
       "    </tr>\n",
       "  </tbody>\n",
       "</table>\n",
       "</div>"
      ],
      "text/plain": [
       "   降伏強度_PREDICTION DEPLOYMENT_APPROVAL_STATUS\n",
       "0    2262.14794922                   APPROVED"
      ]
     },
     "execution_count": 31,
     "metadata": {},
     "output_type": "execute_result"
    }
   ],
   "source": [
    "# 一回叩いてみる\n",
    "predictions, _ = predict(deployments[0], X_train.iloc[:1])\n",
    "predictions"
   ]
  },
  {
   "cell_type": "code",
   "execution_count": 32,
   "metadata": {},
   "outputs": [
    {
     "data": {
      "text/plain": [
       "np.float64(2262.1479492188)"
      ]
     },
     "execution_count": 32,
     "metadata": {},
     "output_type": "execute_result"
    }
   ],
   "source": [
    "# 予測の戻り値から予測値を取り出す\n",
    "predictions.loc[0, \"降伏強度_PREDICTION\"]"
   ]
  },
  {
   "cell_type": "code",
   "execution_count": 33,
   "metadata": {},
   "outputs": [],
   "source": [
    "# 結果記録用のヘルパーメソッド\n",
    "def update_result(result, study, sampler, pruner, n_jobs):\n",
    "    dict_trial = {\n",
    "        \"sampler\": sampler,\n",
    "        \"pruner\": pruner,\n",
    "        \"n_jobs\": n_jobs,\n",
    "        \"値\": study.best_trial.value,\n",
    "        \"回数\": len(study.trials),\n",
    "        **study.best_trial.params,\n",
    "    }\n",
    "    result.append(dict_trial)\n",
    "    print(dict_trial)\n",
    "    return result"
   ]
  },
  {
   "cell_type": "markdown",
   "metadata": {},
   "source": [
    "### 4. 最適化する対象設定します。この関数の戻り値が最小化されるようにoptunaが探索空間からいい感じの入力データを見つけてくれます。"
   ]
  },
  {
   "cell_type": "code",
   "execution_count": 34,
   "metadata": {},
   "outputs": [],
   "source": [
    "std_1 = y_train1.std()\n",
    "stat = X_train.describe().T\n",
    "\n",
    "\n",
    "def objective(trial):\n",
    "\n",
    "    df_target = DataFrame(index=[0], columns=X_train.columns)\n",
    "    for col in X_train.columns:\n",
    "        low = stat.loc[col, \"min\"] * 0.8\n",
    "        high = stat.loc[col, \"max\"] * 1.2\n",
    "        df_target[col] = trial.suggest_float(col, low, high, step=0.01)\n",
    "\n",
    "    pred_1 = predict(deployments[0], df_target)[0].loc[0, \"降伏強度_PREDICTION\"]\n",
    "\n",
    "    return pred_1"
   ]
  },
  {
   "cell_type": "markdown",
   "metadata": {},
   "source": [
    "### 5. 最適化を実行する"
   ]
  },
  {
   "cell_type": "code",
   "execution_count": 35,
   "metadata": {},
   "outputs": [
    {
     "name": "stderr",
     "output_type": "stream",
     "text": [
      "[I 2025-02-24 20:43:51,861] A new study created in memory with name: no-name-faf9fed4-5704-42a9-852a-2cc0021fea94\n",
      "[I 2025-02-24 20:43:52,497] Trial 0 finished with value: 2153.56640625 and parameters: {'炭素': 0.33, 'マンガン': 3.2680000000000002, 'ケイ素': 0.428, 'クロム': 13.617999999999999, 'ニッケル': 11.398, 'モリブデン': 1.956, 'バナジウム': 3.66, '窒素': 0.01, 'ニオブ': 1.41, 'コバルト': 12.988, 'タングステン': 3.49, 'アルミニウム': 1.618, 'チタン': 2.24}. Best is trial 0 with value: 2153.56640625.\n",
      "[I 2025-02-24 20:43:53,194] Trial 1 finished with value: 1462.9370117188 and parameters: {'炭素': 0.14, 'マンガン': 0.14800000000000002, 'ケイ素': 3.678, 'クロム': 19.988, 'ニッケル': 4.3580000000000005, 'モリブデン': 4.716, 'バナジウム': 2.5100000000000002, '窒素': 0.01, 'ニオブ': 2.13, 'コバルト': 15.128, 'タングステン': 2.98, 'アルミニウム': 1.018, 'チタン': 0.96}. Best is trial 0 with value: 2153.56640625.\n",
      "[I 2025-02-24 20:43:53,837] Trial 2 finished with value: 1513.265625 and parameters: {'炭素': 0.04, 'マンガン': 1.048, 'ケイ素': 3.3280000000000003, 'クロム': 9.628, 'ニッケル': 17.128, 'モリブデン': 10.986, 'バナジウム': 3.2, '窒素': 0.16, 'ニオブ': 0.25, 'コバルト': 6.2780000000000005, 'タングステン': 2.59, 'アルミニウム': 1.858, 'チタン': 0.19}. Best is trial 0 with value: 2153.56640625.\n",
      "[I 2025-02-24 20:43:54,337] Trial 3 finished with value: 1434.4552001953 and parameters: {'炭素': 0.44, 'マンガン': 3.0780000000000003, 'ケイ素': 2.908, 'クロム': 0.048, 'ニッケル': 7.078, 'モリブデン': 1.066, 'バナジウム': 0.4, '窒素': 0.09, 'ニオブ': 2.16, 'コバルト': 7.548, 'タングステン': 6.72, 'アルミニウム': 1.828, 'チタン': 0.89}. Best is trial 0 with value: 2153.56640625.\n",
      "[I 2025-02-24 20:43:54,859] Trial 4 finished with value: 1760.4005126953 and parameters: {'炭素': 0.3, 'マンガン': 3.0780000000000003, 'ケイ素': 2.388, 'クロム': 0.9580000000000001, 'ニッケル': 25.118, 'モリブデン': 9.226, 'バナジウム': 1.6400000000000001, '窒素': 0.18, 'ニオブ': 0.53, 'コバルト': 0.34800000000000003, 'タングステン': 7.26, 'アルミニウム': 0.268, 'チタン': 2.05}. Best is trial 0 with value: 2153.56640625.\n",
      "[I 2025-02-24 20:43:55,484] Trial 5 finished with value: 1832.0899658203 and parameters: {'炭素': 0.1, 'マンガン': 1.328, 'ケイ素': 2.228, 'クロム': 13.708, 'ニッケル': 2.688, 'モリブデン': 4.346, 'バナジウム': 0.17, '窒素': 0.13, 'ニオブ': 1.68, 'コバルト': 9.418, 'タングステン': 6.67, 'アルミニウム': 1.848, 'チタン': 1.17}. Best is trial 0 with value: 2153.56640625.\n",
      "[I 2025-02-24 20:43:56,465] Trial 6 finished with value: 1370.7562255859 and parameters: {'炭素': 0.48, 'マンガン': 3.118, 'ケイ素': 0.498, 'クロム': 1.618, 'ニッケル': 21.968, 'モリブデン': 4.746, 'バナジウム': 2.79, '窒素': 0.09, 'ニオブ': 0.84, 'コバルト': 1.488, 'タングステン': 1.05, 'アルミニウム': 0.808, 'チタン': 0.54}. Best is trial 0 with value: 2153.56640625.\n",
      "[I 2025-02-24 20:43:56,997] Trial 7 finished with value: 1477.9945068359 and parameters: {'炭素': 0.2, 'マンガン': 1.208, 'ケイ素': 5.0280000000000005, 'クロム': 14.258, 'ニッケル': 19.958, 'モリブデン': 11.256, 'バナジウム': 0.62, '窒素': 0.17, 'ニオブ': 0.08, 'コバルト': 0.668, 'タングステン': 10.64, 'アルミニウム': 1.238, 'チタン': 0.15}. Best is trial 0 with value: 2153.56640625.\n",
      "[I 2025-02-24 20:43:57,516] Trial 8 finished with value: 1866.8675537109 and parameters: {'炭素': 0.11, 'マンガン': 2.958, 'ケイ素': 3.918, 'クロム': 16.088, 'ニッケル': 4.868, 'モリブデン': 5.026, 'バナジウム': 4.51, '窒素': 0.08, 'ニオブ': 2.85, 'コバルト': 8.308, 'タングステン': 8.5, 'アルミニウム': 0.368, 'チタン': 1.46}. Best is trial 0 with value: 2153.56640625.\n",
      "[I 2025-02-24 20:43:58,040] Trial 9 finished with value: 2075.0739746094 and parameters: {'炭素': 0.17, 'マンガン': 2.488, 'ケイ素': 0.738, 'クロム': 11.078, 'ニッケル': 18.368, 'モリブデン': 8.026, 'バナジウム': 1.32, '窒素': 0.04, 'ニオブ': 1.37, 'コバルト': 23.227999999999998, 'タングステン': 8.16, 'アルミニウム': 1.748, 'チタン': 2.95}. Best is trial 0 with value: 2153.56640625.\n",
      "[I 2025-02-24 20:43:58,647] Trial 10 finished with value: 2080.7543945312 and parameters: {'炭素': 0.31, 'マンガン': 2.218, 'ケイ素': 0.028, 'クロム': 8.037999999999998, 'ニッケル': 11.398, 'モリブデン': 0.076, 'バナジウム': 4.82, '窒素': 0.0, 'ニオブ': 1.27, 'コバルト': 16.398, 'タングステン': 4.21, 'アルミニウム': 1.468, 'チタン': 2.2}. Best is trial 0 with value: 2153.56640625.\n",
      "[I 2025-02-24 20:43:59,190] Trial 11 finished with value: 2161.7497558594 and parameters: {'炭素': 0.33, 'マンガン': 2.168, 'ケイ素': 1.278, 'クロム': 5.828, 'ニッケル': 11.267999999999999, 'モリブデン': 1.016, 'バナジウム': 5.13, '窒素': 0.0, 'ニオブ': 1.12, 'コバルト': 15.927999999999999, 'タングステン': 4.2, 'アルミニウム': 1.4080000000000001, 'チタン': 2.2}. Best is trial 11 with value: 2161.7497558594.\n",
      "[I 2025-02-24 20:43:59,728] Trial 12 finished with value: 2204.9321289062 and parameters: {'炭素': 0.39, 'マンガン': 3.588, 'ケイ素': 1.6680000000000001, 'クロム': 5.768, 'ニッケル': 12.478, 'モリブデン': 1.986, 'バナジウム': 3.91, '窒素': 0.04, 'ニオブ': 1.04, 'コバルト': 19.048, 'タングステン': 4.64, 'アルミニウム': 1.358, 'チタン': 2.19}. Best is trial 12 with value: 2204.9321289062.\n",
      "[I 2025-02-24 20:44:00,383] Trial 13 finished with value: 2074.6801757812 and parameters: {'炭素': 0.4, 'マンガン': 1.8780000000000001, 'ケイ素': 1.578, 'クロム': 5.828, 'ニッケル': 9.947999999999999, 'モリブデン': 3.096, 'バナジウム': 3.99, '窒素': 0.05, 'ニオブ': 0.92, 'コバルト': 20.268, 'タングステン': 4.86, 'アルミニウム': 0.758, 'チタン': 2.71}. Best is trial 12 with value: 2204.9321289062.\n",
      "[I 2025-02-24 20:44:01,308] Trial 14 finished with value: 2158.3044433594 and parameters: {'炭素': 0.37, 'マンガン': 2.5380000000000003, 'ケイ素': 1.498, 'クロム': 4.908, 'ニッケル': 14.498, 'モリブデン': 2.556, 'バナジウム': 5.12, '窒素': 0.04, 'ニオブ': 1.8800000000000001, 'コバルト': 19.258, 'タングステン': 0.04, 'アルミニウム': 1.338, 'チタン': 1.7}. Best is trial 12 with value: 2204.9321289062.\n",
      "[I 2025-02-24 20:44:01,871] Trial 15 finished with value: 2162.3859863281 and parameters: {'炭素': 0.25, 'マンガン': 0.17800000000000002, 'ケイ素': 1.808, 'クロム': 5.208, 'ニッケル': 14.838, 'モリブデン': 6.776, 'バナジウム': 4.11, '窒素': 0.06, 'ニオブ': 0.92, 'コバルト': 24.108, 'タングステン': 5.5600000000000005, 'アルミニウム': 2.158, 'チタン': 2.54}. Best is trial 12 with value: 2204.9321289062.\n",
      "[I 2025-02-24 20:44:02,417] Trial 16 finished with value: 1913.7563476562 and parameters: {'炭素': 0.24, 'マンガン': 0.028, 'ケイ素': 2.138, 'クロム': 3.418, 'ニッケル': 16.148, 'モリブデン': 7.196, 'バナジウム': 4.14, '窒素': 0.12, 'ニオブ': 0.58, 'コバルト': 24.058, 'タングステン': 5.96, 'アルミニウム': 2.068, 'チタン': 2.6}. Best is trial 12 with value: 2204.9321289062.\n",
      "[I 2025-02-24 20:44:02,983] Trial 17 finished with value: 2204.1091308594 and parameters: {'炭素': 0.25, 'マンガン': 3.598, 'ケイ素': 4.808, 'クロム': 8.338, 'ニッケル': 8.158, 'モリブデン': 6.906000000000001, 'バナジウム': 3.2800000000000002, '窒素': 0.06, 'ニオブ': 0.61, 'コバルト': 20.148, 'タングステン': 5.45, 'アルミニウム': 2.138, 'チタン': 1.77}. Best is trial 12 with value: 2204.9321289062.\n",
      "[I 2025-02-24 20:44:03,560] Trial 18 finished with value: 2006.4047851562 and parameters: {'炭素': 0.51, 'マンガン': 3.5180000000000002, 'ケイ素': 5.578, 'クロム': 8.998, 'ニッケル': 8.668, 'モリブデン': 9.016, 'バナジウム': 2.2, '窒素': 0.07, 'ニオブ': 0.44, 'コバルト': 19.898, 'タングステン': 2.07, 'アルミニウム': 0.018000000000000002, 'チタン': 1.77}. Best is trial 12 with value: 2204.9321289062.\n",
      "[I 2025-02-24 20:44:04,107] Trial 19 finished with value: 2227.9709472656 and parameters: {'炭素': 0.4, 'マンガン': 3.548, 'ケイ素': 4.168, 'クロム': 7.388, 'ニッケル': 1.548, 'モリブデン': 6.236, 'バナジウム': 3.15, '窒素': 0.03, 'ニオブ': 2.73, 'コバルト': 12.418, 'タングステン': 9.43, 'アルミニウム': 1.028, 'チタン': 1.53}. Best is trial 19 with value: 2227.9709472656.\n",
      "[I 2025-02-24 20:44:04,684] Trial 20 finished with value: 2127.6708984375 and parameters: {'炭素': 0.41000000000000003, 'マンガン': 2.798, 'ケイ素': 4.238, 'クロム': 11.728, 'ニッケル': 2.478, 'モリブデン': 3.7560000000000002, 'バナジウム': 3.36, '窒素': 0.03, 'ニオブ': 2.94, 'コバルト': 11.648, 'タングステン': 10.43, 'アルミニウム': 1.038, 'チタン': 1.42}. Best is trial 19 with value: 2227.9709472656.\n",
      "[I 2025-02-24 20:44:05,232] Trial 21 finished with value: 2125.8483886719 and parameters: {'炭素': 0.38, 'マンガン': 3.5180000000000002, 'ケイ素': 4.8580000000000005, 'クロム': 7.628, 'ニッケル': 7.378, 'モリブデン': 6.066, 'バナジウム': 2.97, '窒素': 0.03, 'ニオブ': 0.74, 'コバルト': 18.198, 'タングステン': 9.19, 'アルミニウム': 0.798, 'チタン': 1.87}. Best is trial 19 with value: 2227.9709472656.\n",
      "[I 2025-02-24 20:44:05,775] Trial 22 finished with value: 2146.9111328125 and parameters: {'炭素': 0.46, 'マンガン': 3.428, 'ケイ素': 4.508, 'クロム': 7.738, 'ニッケル': 0.988, 'モリブデン': 6.166, 'バナジウム': 3.5300000000000002, '窒素': 0.11, 'ニオブ': 2.2800000000000002, 'コバルト': 21.758, 'タングステン': 5.0600000000000005, 'アルミニウム': 1.168, 'チタン': 1.18}. Best is trial 19 with value: 2227.9709472656.\n",
      "[I 2025-02-24 20:44:06,315] Trial 23 finished with value: 2085.4895019531 and parameters: {'炭素': 0.28, 'マンガン': 3.568, 'ケイ素': 5.468, 'クロム': 2.718, 'ニッケル': 0.058, 'モリブデン': 8.236, 'バナジウム': 2.23, '窒素': 0.06, 'ニオブ': 2.58, 'コバルト': 13.578, 'タングステン': 9.56, 'アルミニウム': 0.548, 'チタン': 1.6}. Best is trial 19 with value: 2227.9709472656.\n",
      "[I 2025-02-24 20:44:06,897] Trial 24 finished with value: 2132.0764160156 and parameters: {'炭素': 0.22, 'マンガン': 2.738, 'ケイ素': 3.5380000000000003, 'クロム': 6.198, 'ニッケル': 5.948, 'モリブデン': 5.6160000000000005, 'バナジウム': 3.7800000000000002, '窒素': 0.02, 'ニオブ': 1.75, 'コバルト': 17.338, 'タングステン': 7.68, 'アルミニウム': 1.598, 'チタン': 1.98}. Best is trial 19 with value: 2227.9709472656.\n",
      "[I 2025-02-24 20:44:07,446] Trial 25 finished with value: 2043.4884033203 and parameters: {'炭素': 0.43, 'マンガン': 3.258, 'ケイ素': 2.698, 'クロム': 3.758, 'ニッケル': 13.908, 'モリブデン': 7.146, 'バナジウム': 4.48, '窒素': 0.05, 'ニオブ': 1.09, 'コバルト': 21.618, 'タングステン': 6.26, 'アルミニウム': 0.9480000000000001, 'チタン': 2.47}. Best is trial 19 with value: 2227.9709472656.\n",
      "[I 2025-02-24 20:44:08,000] Trial 26 finished with value: 1998.2242431641 and parameters: {'炭素': 0.36, 'マンガン': 0.508, 'ケイ素': 4.288, 'クロム': 10.367999999999999, 'ニッケル': 9.468, 'モリブデン': 9.556000000000001, 'バナジウム': 2.99, '窒素': 0.07, 'ニオブ': 2.64, 'コバルト': 18.178, 'タングステン': 4.17, 'アルミニウム': 0.598, 'チタン': 1.29}. Best is trial 19 with value: 2227.9709472656.\n",
      "[I 2025-02-24 20:44:08,551] Trial 27 finished with value: 1756.2795410156 and parameters: {'炭素': 0.27, 'マンガン': 2.758, 'ケイ素': 5.058, 'クロム': 7.088, 'ニッケル': 12.937999999999999, 'モリブデン': 3.826, 'バナジウム': 2.09, '窒素': 0.03, 'ニオブ': 0.27, 'コバルト': 10.298, 'タングステン': 5.14, 'アルミニウム': 1.968, 'チタン': 0.8200000000000001}. Best is trial 19 with value: 2227.9709472656.\n",
      "[I 2025-02-24 20:44:09,097] Trial 28 finished with value: 2217.826171875 and parameters: {'炭素': 0.0, 'マンガン': 3.598, 'ケイ素': 2.978, 'クロム': 11.908, 'ニッケル': 4.298, 'モリブデン': 8.296, 'バナジウム': 2.52, '窒素': 0.1, 'ニオブ': 1.6300000000000001, 'コバルト': 4.888, 'タングステン': 1.9100000000000001, 'アルミニウム': 1.238, 'チタン': 2.32}. Best is trial 19 with value: 2227.9709472656.\n",
      "[I 2025-02-24 20:44:09,632] Trial 29 finished with value: 2187.3215332031 and parameters: {'炭素': 0.0, 'マンガン': 3.3080000000000003, 'ケイ素': 3.0780000000000003, 'クロム': 15.418, 'ニッケル': 2.818, 'モリブデン': 10.426, 'バナジウム': 1.54, '窒素': 0.14, 'ニオブ': 1.6500000000000001, 'コバルト': 4.008, 'タングステン': 1.58, 'アルミニウム': 1.608, 'チタン': 2.37}. Best is trial 19 with value: 2227.9709472656.\n",
      "[I 2025-02-24 20:44:10,163] Trial 30 finished with value: 2014.7062988281 and parameters: {'炭素': 0.33, 'マンガン': 1.6680000000000001, 'ケイ素': 0.968, 'クロム': 11.728, 'ニッケル': 4.538, 'モリブデン': 7.766, 'バナジウム': 0.98, '窒素': 0.1, 'ニオブ': 1.48, 'コバルト': 4.268, 'タングステン': 3.5300000000000002, 'アルミニウム': 1.238, 'チタン': 2.81}. Best is trial 19 with value: 2227.9709472656.\n",
      "[I 2025-02-24 20:44:10,716] Trial 31 finished with value: 2193.78515625 and parameters: {'炭素': 0.06, 'マンガン': 3.278, 'ケイ素': 3.908, 'クロム': 8.798, 'ニッケル': 7.5280000000000005, 'モリブデン': 6.636, 'バナジウム': 3.65, '窒素': 0.07, 'ニオブ': 1.17, 'コバルト': 13.968, 'タングステン': 0.22, 'アルミニウム': 1.508, 'チタン': 2.02}. Best is trial 19 with value: 2227.9709472656.\n",
      "[I 2025-02-24 20:44:11,276] Trial 32 finished with value: 2016.1872558594 and parameters: {'炭素': 0.18, 'マンガン': 3.598, 'ケイ素': 4.688, 'クロム': 12.708, 'ニッケル': 6.118, 'モリブデン': 5.556, 'バナジウム': 2.5300000000000002, '窒素': 0.02, 'ニオブ': 1.93, 'コバルト': 11.888, 'タングステン': 3.14, 'アルミニウム': 0.898, 'チタン': 2.33}. Best is trial 19 with value: 2227.9709472656.\n",
      "[I 2025-02-24 20:44:11,857] Trial 33 finished with value: 2093.8454589844 and parameters: {'炭素': 0.49, 'マンガン': 3.2880000000000003, 'ケイ素': 3.318, 'クロム': 19.438, 'ニッケル': 2.278, 'モリブデン': 8.196, 'バナジウム': 3.15, '窒素': 0.1, 'ニオブ': 2.44, 'コバルト': 14.588, 'タングステン': 2.46, 'アルミニウム': 1.068, 'チタン': 1.85}. Best is trial 19 with value: 2227.9709472656.\n",
      "[I 2025-02-24 20:44:12,427] Trial 34 finished with value: 2010.5373535156 and parameters: {'炭素': 0.0, 'マンガン': 2.958, 'ケイ素': 2.668, 'クロム': 9.918, 'ニッケル': 3.898, 'モリブデン': 8.916, 'バナジウム': 2.65, '窒素': 0.05, 'ニオブ': 0.66, 'コバルト': 5.178, 'タングステン': 3.86, 'アルミニウム': 1.298, 'チタン': 1.6300000000000001}. Best is trial 19 with value: 2227.9709472656.\n",
      "[I 2025-02-24 20:44:12,978] Trial 35 finished with value: 1981.7231445312 and parameters: {'炭素': 0.12, 'マンガン': 3.368, 'ケイ素': 4.058, 'クロム': 4.2780000000000005, 'ニッケル': 11.398, 'モリブデン': 9.936, 'バナジウム': 3.35, '窒素': 0.01, 'ニオブ': 2.08, 'コバルト': 3.008, 'タングステン': 7.07, 'アルミニウム': 1.118, 'チタン': 2.16}. Best is trial 19 with value: 2227.9709472656.\n",
      "[I 2025-02-24 20:44:13,531] Trial 36 finished with value: 1940.8084716797 and parameters: {'炭素': 0.07, 'マンガン': 3.0780000000000003, 'ケイ素': 3.128, 'クロム': 18.098, 'ニッケル': 0.908, 'モリブデン': 7.486, 'バナジウム': 2.32, '窒素': 0.08, 'ニオブ': 0.39, 'コバルト': 6.678, 'タングステン': 1.29, 'アルミニウム': 1.728, 'チタン': 2.02}. Best is trial 19 with value: 2227.9709472656.\n",
      "[I 2025-02-24 20:44:14,537] Trial 37 finished with value: 1674.5804443359 and parameters: {'炭素': 0.44, 'マンガン': 3.598, 'ケイ素': 3.588, 'クロム': 6.648000000000001, 'ニッケル': 6.008, 'モリブデン': 6.376, 'バナジウム': 1.96, '窒素': 0.04, 'ニオブ': 0.99, 'コバルト': 10.338, 'タングステン': 5.88, 'アルミニウム': 0.678, 'チタン': 0.65}. Best is trial 19 with value: 2227.9709472656.\n",
      "[I 2025-02-24 20:44:15,221] Trial 38 finished with value: 2041.2825927734 and parameters: {'炭素': 0.35000000000000003, 'マンガン': 0.888, 'ケイ素': 2.0180000000000002, 'クロム': 9.478, 'ニッケル': 8.258, 'モリブデン': 1.856, 'バナジウム': 2.7600000000000002, '窒素': 0.06, 'ニオブ': 0.04, 'コバルト': 21.448, 'タングステン': 2.98, 'アルミニウム': 0.928, 'チタン': 1.05}. Best is trial 19 with value: 2227.9709472656.\n",
      "[I 2025-02-24 20:44:15,937] Trial 39 finished with value: 1957.9489746094 and parameters: {'炭素': 0.15, 'マンガン': 3.198, 'ケイ素': 2.658, 'クロム': 12.328, 'ニッケル': 4.048, 'モリブデン': 5.0360000000000005, 'バナジウム': 3.83, '窒素': 0.14, 'ニオブ': 0.75, 'コバルト': 8.088, 'タングステン': 4.69, 'アルミニウム': 1.968, 'チタン': 1.36}. Best is trial 19 with value: 2227.9709472656.\n",
      "[I 2025-02-24 20:44:16,802] Trial 40 finished with value: 2109.1469726562 and parameters: {'炭素': 0.39, 'マンガン': 2.908, 'ケイ素': 3.8080000000000003, 'クロム': 2.338, 'ニッケル': 10.267999999999999, 'モリブデン': 8.606, 'バナジウム': 4.4, '窒素': 0.08, 'ニオブ': 1.29, 'コバルト': 16.518, 'タングステン': 6.59, 'アルミニウム': 0.468, 'チタン': 1.6}. Best is trial 19 with value: 2227.9709472656.\n",
      "[I 2025-02-24 20:44:17,383] Trial 41 finished with value: 2191.5810546875 and parameters: {'炭素': 0.04, 'マンガン': 3.368, 'ケイ素': 5.188, 'クロム': 8.107999999999999, 'ニッケル': 7.388, 'モリブデン': 6.876, 'バナジウム': 3.41, '窒素': 0.07, 'ニオブ': 1.1400000000000001, 'コバルト': 13.048, 'タングステン': 0.63, 'アルミニウム': 1.498, 'チタン': 1.99}. Best is trial 19 with value: 2227.9709472656.\n",
      "[I 2025-02-24 20:44:18,333] Trial 42 finished with value: 2193.4921875 and parameters: {'炭素': 0.07, 'マンガン': 3.148, 'ケイ素': 4.478, 'クロム': 9.238, 'ニッケル': 8.298, 'モリブデン': 6.5760000000000005, 'バナジウム': 3.64, '窒素': 0.1, 'ニオブ': 1.42, 'コバルト': 14.437999999999999, 'タングステン': 0.0, 'アルミニウム': 1.518, 'チタン': 2.11}. Best is trial 19 with value: 2227.9709472656.\n",
      "[I 2025-02-24 20:44:18,888] Trial 43 finished with value: 2377.5314941406 and parameters: {'炭素': 0.01, 'マンガン': 3.418, 'ケイ素': 4.0280000000000005, 'クロム': 8.617999999999999, 'ニッケル': 5.258, 'モリブデン': 4.236, 'バナジウム': 3.0700000000000003, '窒素': 0.09, 'ニオブ': 1.55, 'コバルト': 15.197999999999999, 'タングステン': 1.79, 'アルミニウム': 1.348, 'チタン': 2.36}. Best is trial 43 with value: 2377.5314941406.\n",
      "[I 2025-02-24 20:44:19,609] Trial 44 finished with value: 2188.1247558594 and parameters: {'炭素': 0.04, 'マンガン': 2.578, 'ケイ素': 5.328, 'クロム': 10.918, 'ニッケル': 5.538, 'モリブデン': 4.146, 'バナジウム': 3.0500000000000003, '窒素': 0.12, 'ニオブ': 1.7, 'コバルト': 18.067999999999998, 'タングステン': 1.9100000000000001, 'アルミニウム': 1.368, 'チタン': 2.38}. Best is trial 43 with value: 2377.5314941406.\n",
      "[I 2025-02-24 20:44:20,181] Trial 45 finished with value: 2071.0832519531 and parameters: {'炭素': 0.02, 'マンガン': 3.088, 'ケイ素': 2.448, 'クロム': 13.988, 'ニッケル': 3.5380000000000003, 'モリブデン': 3.0460000000000003, 'バナジウム': 1.81, '窒素': 0.09, 'ニオブ': 1.51, 'コバルト': 15.527999999999999, 'タングステン': 2.75, 'アルミニウム': 1.198, 'チタン': 2.67}. Best is trial 43 with value: 2377.5314941406.\n",
      "[I 2025-02-24 20:44:20,991] Trial 46 finished with value: 2260.6479492188 and parameters: {'炭素': 0.1, 'マンガン': 3.438, 'ケイ素': 4.728, 'クロム': 6.938, 'ニッケル': 1.748, 'モリブデン': 1.536, 'バナジウム': 2.48, '窒素': 0.02, 'ニオブ': 2.0, 'コバルト': 19.498, 'タングステン': 0.8200000000000001, 'アルミニウム': 1.768, 'チタン': 2.95}. Best is trial 43 with value: 2377.5314941406.\n",
      "[I 2025-02-24 20:44:21,599] Trial 47 finished with value: 2199.6530761719 and parameters: {'炭素': 0.09, 'マンガン': 3.408, 'ケイ素': 3.348, 'クロム': 4.978, 'ニッケル': 1.818, 'モリブデン': 0.196, 'バナジウム': 2.45, '窒素': 0.01, 'ニオブ': 1.99, 'コバルト': 10.578, 'タングステン': 0.77, 'アルミニウム': 1.738, 'チタン': 2.7800000000000002}. Best is trial 43 with value: 2377.5314941406.\n",
      "[I 2025-02-24 20:44:22,226] Trial 48 finished with value: 2331.3813476562 and parameters: {'炭素': 0.03, 'マンガン': 2.298, 'ケイ素': 4.148, 'クロム': 6.848, 'ニッケル': 18.348, 'モリブデン': 1.706, 'バナジウム': 2.86, '窒素': 0.0, 'ニオブ': 2.25, 'コバルト': 12.328, 'タングステン': 2.35, 'アルミニウム': 1.288, 'チタン': 2.94}. Best is trial 43 with value: 2377.5314941406.\n"
     ]
    },
    {
     "name": "stdout",
     "output_type": "stream",
     "text": [
      "CPU times: user 4.81 s, sys: 319 ms, total: 5.13 s\n",
      "Wall time: 31.1 s\n"
     ]
    }
   ],
   "source": [
    "%%time\n",
    "dr.Client()\n",
    "study = optuna.create_study(direction=\"maximize\")\n",
    "study.optimize(objective, timeout=timeout, gc_after_trial=True)"
   ]
  },
  {
   "cell_type": "code",
   "execution_count": 36,
   "metadata": {},
   "outputs": [
    {
     "name": "stdout",
     "output_type": "stream",
     "text": [
      "{'炭素': 0.01, 'マンガン': 3.418, 'ケイ素': 4.0280000000000005, 'クロム': 8.617999999999999, 'ニッケル': 5.258, 'モリブデン': 4.236, 'バナジウム': 3.0700000000000003, '窒素': 0.09, 'ニオブ': 1.55, 'コバルト': 15.197999999999999, 'タングステン': 1.79, 'アルミニウム': 1.348, 'チタン': 2.36}\n",
      "2377.5314941406\n",
      "43\n"
     ]
    }
   ],
   "source": [
    "# 結果を一度保存します\n",
    "trails_bk = [copy.deepcopy(trials) for trials in study.trials]\n",
    "print(study.best_trial.params)\n",
    "print(study.best_trial.value)\n",
    "print(study.best_trial.number)"
   ]
  },
  {
   "cell_type": "code",
   "execution_count": 37,
   "metadata": {},
   "outputs": [
    {
     "name": "stdout",
     "output_type": "stream",
     "text": [
      "Sampler is TPESampler\n"
     ]
    }
   ],
   "source": [
    "# 使われてる最適化手法を確認\n",
    "print(f\"Sampler is {study.sampler.__class__.__name__}\")"
   ]
  },
  {
   "cell_type": "code",
   "execution_count": 82,
   "metadata": {},
   "outputs": [
    {
     "data": {
      "image/png": "[encoded data removed]",
      "text/plain": [
       "<Figure size 1000x600 with 1 Axes>"
      ]
     },
     "metadata": {},
     "output_type": "display_data"
    }
   ],
   "source": [
    "# シミュレーション結果を確認\n",
    "# optuna.visualization.plot_optimization_history(study)\n",
    "\n",
    "\n",
    "def custom_plot_optimization_history(study):\n",
    "    # Extract trial numbers and values\n",
    "    trials = study.trials_dataframe()\n",
    "    trial_numbers = trials[\"number\"]\n",
    "    values = trials[\"value\"]\n",
    "\n",
    "    # Calculate the best value until each trial\n",
    "    best_values = values.cummax()\n",
    "\n",
    "    # Create the scatter plot\n",
    "    plt.figure(figsize=(10, 6))\n",
    "    plt.scatter(trial_numbers, values, label=\"Trial Values\", color=\"blue\")\n",
    "\n",
    "    # Plot the best values\n",
    "    plt.plot(\n",
    "        trial_numbers,\n",
    "        best_values,\n",
    "        color=\"red\",\n",
    "        linestyle=\"--\",\n",
    "        label=\"Best Value Until Each Trial\",\n",
    "    )\n",
    "\n",
    "    # Add labels and title\n",
    "    plt.xlabel(\"Trial Number\")\n",
    "    plt.ylabel(\"Value\")\n",
    "    plt.title(\"Optimization History\")\n",
    "    plt.legend()\n",
    "    plt.grid(True)\n",
    "    plt.show()\n",
    "\n",
    "\n",
    "# Example usage\n",
    "custom_plot_optimization_history(study)"
   ]
  },
  {
   "cell_type": "markdown",
   "metadata": {},
   "source": [
    "### 6. `Sampler`を変更してみる"
   ]
  },
  {
   "cell_type": "markdown",
   "metadata": {},
   "source": [
    "CMA-ES (一旦時間を倍にする)"
   ]
  },
  {
   "cell_type": "code",
   "execution_count": 39,
   "metadata": {},
   "outputs": [
    {
     "name": "stderr",
     "output_type": "stream",
     "text": [
      "[I 2025-02-24 20:44:23,150] A new study created in memory with name: no-name-930ed64d-0866-43cf-96ff-86ce970546fa\n",
      "[I 2025-02-24 20:44:23,618] Trial 0 finished with value: 1772.6025390625 and parameters: {'炭素': 0.02, 'マンガン': 1.188, 'ケイ素': 1.1380000000000001, 'クロム': 17.668, 'ニッケル': 13.697999999999999, 'モリブデン': 9.586, 'バナジウム': 3.4, '窒素': 0.04, 'ニオブ': 0.78, 'コバルト': 3.678, 'タングステン': 6.23, 'アルミニウム': 1.6280000000000001, 'チタン': 1.18}. Best is trial 0 with value: 1772.6025390625.\n",
      "[I 2025-02-24 20:44:24,154] Trial 1 finished with value: 1501.1370849609 and parameters: {'炭素': 0.21, 'マンガン': 1.508, 'ケイ素': 2.688, 'クロム': 8.367999999999999, 'ニッケル': 11.218, 'モリブデン': 9.336, 'バナジウム': 2.87, '窒素': 0.08, 'ニオブ': 2.06, 'コバルト': 17.018, 'タングステン': 4.32, 'アルミニウム': 0.10800000000000001, 'チタン': 0.54}. Best is trial 0 with value: 1772.6025390625.\n",
      "[I 2025-02-24 20:44:24,681] Trial 2 finished with value: 2093.8693847656 and parameters: {'炭素': 0.34, 'マンガン': 2.918, 'ケイ素': 2.838, 'クロム': 7.748, 'ニッケル': 18.988, 'モリブデン': 5.056, 'バナジウム': 3.15, '窒素': 0.13, 'ニオブ': 1.12, 'コバルト': 13.318, 'タングステン': 2.31, 'アルミニウム': 1.528, 'チタン': 2.34}. Best is trial 2 with value: 2093.8693847656.\n",
      "[I 2025-02-24 20:44:25,199] Trial 3 finished with value: 1575.7825927734 and parameters: {'炭素': 0.36, 'マンガン': 1.468, 'ケイ素': 1.428, 'クロム': 13.138, 'ニッケル': 8.347999999999999, 'モリブデン': 4.016, 'バナジウム': 3.19, '窒素': 0.1, 'ニオブ': 2.1, 'コバルト': 10.617999999999999, 'タングステン': 7.46, 'アルミニウム': 1.278, 'チタン': 0.88}. Best is trial 2 with value: 2093.8693847656.\n",
      "[I 2025-02-24 20:44:25,747] Trial 4 finished with value: 2058.3955078125 and parameters: {'炭素': 0.28, 'マンガン': 2.448, 'ケイ素': 3.5780000000000003, 'クロム': 8.427999999999999, 'ニッケル': 14.128, 'モリブデン': 5.496, 'バナジウム': 2.47, '窒素': 0.03, 'ニオブ': 1.95, 'コバルト': 12.048, 'タングステン': 5.71, 'アルミニウム': 1.438, 'チタン': 1.1}. Best is trial 2 with value: 2093.8693847656.\n",
      "[I 2025-02-24 20:44:26,266] Trial 5 finished with value: 2006.1636962891 and parameters: {'炭素': 0.08, 'マンガン': 2.198, 'ケイ素': 1.9180000000000001, 'クロム': 9.177999999999999, 'ニッケル': 14.908, 'モリブデン': 5.936, 'バナジウム': 1.27, '窒素': 0.08, 'ニオブ': 1.42, 'コバルト': 11.238, 'タングステン': 5.04, 'アルミニウム': 1.198, 'チタン': 1.72}. Best is trial 2 with value: 2093.8693847656.\n",
      "[I 2025-02-24 20:44:26,779] Trial 6 finished with value: 1634.3292236328 and parameters: {'炭素': 0.44, 'マンガン': 1.538, 'ケイ素': 3.5780000000000003, 'クロム': 17.028, 'ニッケル': 14.498, 'モリブデン': 3.946, 'バナジウム': 2.16, '窒素': 0.12, 'ニオブ': 1.87, 'コバルト': 11.597999999999999, 'タングステン': 2.35, 'アルミニウム': 1.208, 'チタン': 0.75}. Best is trial 2 with value: 2093.8693847656.\n",
      "[I 2025-02-24 20:44:27,330] Trial 7 finished with value: 1643.4334716797 and parameters: {'炭素': 0.32, 'マンガン': 2.088, 'ケイ素': 3.388, 'クロム': 7.628, 'ニッケル': 10.258, 'モリブデン': 4.456, 'バナジウム': 1.11, '窒素': 0.05, 'ニオブ': 1.0, 'コバルト': 16.678, 'タングステン': 5.57, 'アルミニウム': 1.558, 'チタン': 0.11}. Best is trial 2 with value: 2093.8693847656.\n",
      "[I 2025-02-24 20:44:27,873] Trial 8 finished with value: 2053.982421875 and parameters: {'炭素': 0.21, 'マンガン': 2.168, 'ケイ素': 2.168, 'クロム': 11.488, 'ニッケル': 18.518, 'モリブデン': 8.046, 'バナジウム': 2.29, '窒素': 0.02, 'ニオブ': 1.2, 'コバルト': 14.048, 'タングステン': 5.39, 'アルミニウム': 1.178, 'チタン': 1.53}. Best is trial 2 with value: 2093.8693847656.\n",
      "[I 2025-02-24 20:44:28,395] Trial 9 finished with value: 2292.3020019531 and parameters: {'炭素': 0.38, 'マンガン': 1.6280000000000001, 'ケイ素': 4.138, 'クロム': 7.768, 'ニッケル': 16.968, 'モリブデン': 5.266, 'バナジウム': 1.97, '窒素': 0.07, 'ニオブ': 1.05, 'コバルト': 9.908, 'タングステン': 3.31, 'アルミニウム': 1.178, 'チタン': 1.71}. Best is trial 9 with value: 2292.3020019531.\n",
      "[I 2025-02-24 20:44:28,911] Trial 10 finished with value: 2106.1872558594 and parameters: {'炭素': 0.34, 'マンガン': 1.938, 'ケイ素': 2.628, 'クロム': 10.677999999999999, 'ニッケル': 8.617999999999999, 'モリブデン': 7.3260000000000005, 'バナジウム': 3.3200000000000003, '窒素': 0.11, 'ニオブ': 2.43, 'コバルト': 19.878, 'タングステン': 6.75, 'アルミニウム': 1.1380000000000001, 'チタン': 1.86}. Best is trial 9 with value: 2292.3020019531.\n",
      "[I 2025-02-24 20:44:29,484] Trial 11 finished with value: 2313.33203125 and parameters: {'炭素': 0.22, 'マンガン': 2.228, 'ケイ素': 4.708, 'クロム': 7.908, 'ニッケル': 15.388, 'モリブデン': 7.356, 'バナジウム': 3.19, '窒素': 0.05, 'ニオブ': 1.26, 'コバルト': 10.578, 'タングステン': 4.37, 'アルミニウム': 0.9380000000000001, 'チタン': 1.36}. Best is trial 11 with value: 2313.33203125.\n",
      "[I 2025-02-24 20:44:30,016] Trial 12 finished with value: 1907.35546875 and parameters: {'炭素': 0.18, 'マンガン': 2.448, 'ケイ素': 5.658, 'クロム': 9.597999999999999, 'ニッケル': 12.578, 'モリブデン': 8.466, 'バナジウム': 2.66, '窒素': 0.05, 'ニオブ': 2.4, 'コバルト': 7.328, 'タングステン': 3.35, 'アルミニウム': 0.8280000000000001, 'チタン': 1.51}. Best is trial 11 with value: 2313.33203125.\n",
      "[I 2025-02-24 20:44:30,537] Trial 13 finished with value: 2256.6911621094 and parameters: {'炭素': 0.23, 'マンガン': 1.748, 'ケイ素': 4.498, 'クロム': 8.168, 'ニッケル': 10.408, 'モリブデン': 8.196, 'バナジウム': 1.05, '窒素': 0.05, 'ニオブ': 0.92, 'コバルト': 16.468, 'タングステン': 2.75, 'アルミニウム': 1.168, 'チタン': 1.59}. Best is trial 11 with value: 2313.33203125.\n",
      "[I 2025-02-24 20:44:31,048] Trial 14 finished with value: 2204.8774414062 and parameters: {'炭素': 0.26, 'マンガン': 1.518, 'ケイ素': 3.198, 'クロム': 7.8180000000000005, 'ニッケル': 16.848, 'モリブデン': 6.706, 'バナジウム': 3.1, '窒素': 0.06, 'ニオブ': 0.84, 'コバルト': 9.898, 'タングステン': 4.41, 'アルミニウム': 0.748, 'チタン': 1.83}. Best is trial 11 with value: 2313.33203125.\n",
      "[I 2025-02-24 20:44:31,583] Trial 15 finished with value: 2114.3359375 and parameters: {'炭素': 0.37, 'マンガン': 3.088, 'ケイ素': 5.0280000000000005, 'クロム': 5.8180000000000005, 'ニッケル': 12.058, 'モリブデン': 9.406, 'バナジウム': 2.24, '窒素': 0.06, 'ニオブ': 0.49, 'コバルト': 11.958, 'タングステン': 3.33, 'アルミニウム': 1.028, 'チタン': 1.6300000000000001}. Best is trial 11 with value: 2313.33203125.\n",
      "[I 2025-02-24 20:44:32,145] Trial 16 finished with value: 2131.7846679688 and parameters: {'炭素': 0.38, 'マンガン': 2.118, 'ケイ素': 3.338, 'クロム': 14.447999999999999, 'ニッケル': 16.668, 'モリブデン': 5.056, 'バナジウム': 2.21, '窒素': 0.07, 'ニオブ': 1.29, 'コバルト': 11.277999999999999, 'タングステン': 5.0200000000000005, 'アルミニウム': 0.608, 'チタン': 2.42}. Best is trial 11 with value: 2313.33203125.\n",
      "[I 2025-02-24 20:44:33,185] Trial 17 finished with value: 2377.7854003906 and parameters: {'炭素': 0.3, 'マンガン': 2.5580000000000003, 'ケイ素': 4.3580000000000005, 'クロム': 9.388, 'ニッケル': 17.378, 'モリブデン': 7.546, 'バナジウム': 3.59, '窒素': 0.08, 'ニオブ': 0.38, 'コバルト': 10.617999999999999, 'タングステン': 4.63, 'アルミニウム': 1.768, 'チタン': 2.47}. Best is trial 17 with value: 2377.7854003906.\n",
      "[I 2025-02-24 20:44:33,722] Trial 18 finished with value: 2093.9772949219 and parameters: {'炭素': 0.29, 'マンガン': 2.2680000000000002, 'ケイ素': 4.348, 'クロム': 10.638, 'ニッケル': 12.208, 'モリブデン': 8.626, 'バナジウム': 3.77, '窒素': 0.1, 'ニオブ': 1.29, 'コバルト': 10.617999999999999, 'タングステン': 4.29, 'アルミニウム': 0.488, 'チタン': 1.79}. Best is trial 17 with value: 2377.7854003906.\n",
      "[I 2025-02-24 20:44:34,243] Trial 19 finished with value: 1781.5889892578 and parameters: {'炭素': 0.28, 'マンガン': 1.868, 'ケイ素': 4.208, 'クロム': 10.687999999999999, 'ニッケル': 15.148, 'モリブデン': 7.5760000000000005, 'バナジウム': 3.0700000000000003, '窒素': 0.11, 'ニオブ': 1.6500000000000001, 'コバルト': 12.267999999999999, 'タングステン': 6.390000000000001, 'アルミニウム': 1.3980000000000001, 'チタン': 0.96}. Best is trial 17 with value: 2377.7854003906.\n",
      "[I 2025-02-24 20:44:35,176] Trial 20 finished with value: 2163.4255371094 and parameters: {'炭素': 0.28, 'マンガン': 1.928, 'ケイ素': 5.038, 'クロム': 2.848, 'ニッケル': 19.208, 'モリブデン': 6.876, 'バナジウム': 3.61, '窒素': 0.06, 'ニオブ': 1.01, 'コバルト': 17.538, 'タングステン': 5.2, 'アルミニウム': 1.098, 'チタン': 1.53}. Best is trial 17 with value: 2377.7854003906.\n",
      "[I 2025-02-24 20:44:35,716] Trial 21 finished with value: 1611.7926025391 and parameters: {'炭素': 0.25, 'マンガン': 2.048, 'ケイ素': 3.408, 'クロム': 5.908, 'ニッケル': 10.777999999999999, 'モリブデン': 4.306, 'バナジウム': 2.98, '窒素': 0.09, 'ニオブ': 1.94, 'コバルト': 14.908, 'タングステン': 3.14, 'アルミニウム': 0.498, 'チタン': 0.9400000000000001}. Best is trial 17 with value: 2377.7854003906.\n",
      "[I 2025-02-24 20:44:36,232] Trial 22 finished with value: 2170.3835449219 and parameters: {'炭素': 0.15, 'マンガン': 1.578, 'ケイ素': 3.208, 'クロム': 5.148, 'ニッケル': 17.558, 'モリブデン': 7.926, 'バナジウム': 2.7800000000000002, '窒素': 0.07, 'ニオブ': 1.76, 'コバルト': 14.138, 'タングステン': 3.41, 'アルミニウム': 1.318, 'チタン': 0.98}. Best is trial 17 with value: 2377.7854003906.\n",
      "[I 2025-02-24 20:44:36,751] Trial 23 finished with value: 2407.1623535156 and parameters: {'炭素': 0.29, 'マンガン': 2.068, 'ケイ素': 4.538, 'クロム': 9.017999999999999, 'ニッケル': 17.067999999999998, 'モリブデン': 6.606, 'バナジウム': 2.08, '窒素': 0.07, 'ニオブ': 0.0, 'コバルト': 15.458, 'タングステン': 1.52, 'アルミニウム': 1.608, 'チタン': 1.5}. Best is trial 23 with value: 2407.1623535156.\n",
      "[I 2025-02-24 20:44:37,282] Trial 24 finished with value: 2327.3937988281 and parameters: {'炭素': 0.18, 'マンガン': 1.798, 'ケイ素': 4.018, 'クロム': 8.677999999999999, 'ニッケル': 18.998, 'モリブデン': 3.996, 'バナジウム': 3.44, '窒素': 0.04, 'ニオブ': 1.1, 'コバルト': 13.208, 'タングステン': 5.18, 'アルミニウム': 1.248, 'チタン': 1.49}. Best is trial 23 with value: 2407.1623535156.\n",
      "[I 2025-02-24 20:44:37,806] Trial 25 finished with value: 2218.7980957031 and parameters: {'炭素': 0.4, 'マンガン': 2.278, 'ケイ素': 4.248, 'クロム': 7.3180000000000005, 'ニッケル': 13.218, 'モリブデン': 6.906000000000001, 'バナジウム': 3.2600000000000002, '窒素': 0.08, 'ニオブ': 1.08, 'コバルト': 15.888, 'タングステン': 6.18, 'アルミニウム': 1.038, 'チタン': 1.74}. Best is trial 23 with value: 2407.1623535156.\n",
      "[I 2025-02-24 20:44:38,349] Trial 26 finished with value: 2082.2351074219 and parameters: {'炭素': 0.19, 'マンガン': 3.138, 'ケイ素': 4.5680000000000005, 'クロム': 2.588, 'ニッケル': 20.188, 'モリブデン': 5.5360000000000005, 'バナジウム': 3.2, '窒素': 0.11, 'ニオブ': 1.08, 'コバルト': 12.898, 'タングステン': 5.46, 'アルミニウム': 1.048, 'チタン': 1.6500000000000001}. Best is trial 23 with value: 2407.1623535156.\n",
      "[I 2025-02-24 20:44:38,886] Trial 27 finished with value: 2098.1350097656 and parameters: {'炭素': 0.19, 'マンガン': 1.598, 'ケイ素': 4.648, 'クロム': 4.098, 'ニッケル': 10.318, 'モリブデン': 7.026, 'バナジウム': 2.3000000000000003, '窒素': 0.03, 'ニオブ': 0.65, 'コバルト': 10.287999999999998, 'タングステン': 7.38, 'アルミニウム': 1.1480000000000001, 'チタン': 1.42}. Best is trial 23 with value: 2407.1623535156.\n",
      "[I 2025-02-24 20:44:39,502] Trial 28 finished with value: 2238.4270019531 and parameters: {'炭素': 0.32, 'マンガン': 2.998, 'ケイ素': 3.638, 'クロム': 7.018, 'ニッケル': 12.357999999999999, 'モリブデン': 6.686, 'バナジウム': 1.86, '窒素': 0.14, 'ニオブ': 0.34, 'コバルト': 18.858, 'タングステン': 2.9, 'アルミニウム': 1.278, 'チタン': 1.92}. Best is trial 23 with value: 2407.1623535156.\n",
      "[I 2025-02-24 20:44:40,017] Trial 29 finished with value: 2054.9729003906 and parameters: {'炭素': 0.17, 'マンガン': 1.808, 'ケイ素': 5.628, 'クロム': 15.527999999999999, 'ニッケル': 7.638, 'モリブデン': 5.436, 'バナジウム': 2.46, '窒素': 0.08, 'ニオブ': 0.8200000000000001, 'コバルト': 12.298, 'タングステン': 1.78, 'アルミニウム': 1.818, 'チタン': 1.6600000000000001}. Best is trial 23 with value: 2407.1623535156.\n",
      "[I 2025-02-24 20:44:40,607] Trial 30 finished with value: 1913.8631591797 and parameters: {'炭素': 0.36, 'マンガン': 1.8780000000000001, 'ケイ素': 3.508, 'クロム': 3.158, 'ニッケル': 13.128, 'モリブデン': 8.176, 'バナジウム': 2.79, '窒素': 0.1, 'ニオブ': 0.22, 'コバルト': 8.677999999999999, 'タングステン': 4.43, 'アルミニウム': 0.6880000000000001, 'チタン': 2.17}. Best is trial 23 with value: 2407.1623535156.\n",
      "[I 2025-02-24 20:44:41,163] Trial 31 finished with value: 1765.1606445312 and parameters: {'炭素': 0.28, 'マンガン': 2.058, 'ケイ素': 3.638, 'クロム': 3.398, 'ニッケル': 12.568, 'モリブデン': 10.006, 'バナジウム': 2.8000000000000003, '窒素': 0.05, 'ニオブ': 1.03, 'コバルト': 7.3180000000000005, 'タングステン': 1.43, 'アルミニウム': 0.608, 'チタン': 1.12}. Best is trial 23 with value: 2407.1623535156.\n",
      "[I 2025-02-24 20:44:41,754] Trial 32 finished with value: 2320.9912109375 and parameters: {'炭素': 0.25, 'マンガン': 1.598, 'ケイ素': 4.0680000000000005, 'クロム': 10.388, 'ニッケル': 16.858, 'モリブデン': 6.3260000000000005, 'バナジウム': 2.63, '窒素': 0.06, 'ニオブ': 1.31, 'コバルト': 18.958, 'タングステン': 3.1, 'アルミニウム': 1.458, 'チタン': 1.92}. Best is trial 23 with value: 2407.1623535156.\n",
      "[I 2025-02-24 20:44:42,274] Trial 33 finished with value: 2149.6142578125 and parameters: {'炭素': 0.27, 'マンガン': 1.768, 'ケイ素': 5.3580000000000005, 'クロム': 10.138, 'ニッケル': 14.847999999999999, 'モリブデン': 6.8660000000000005, 'バナジウム': 2.04, '窒素': 0.04, 'ニオブ': 0.29, 'コバルト': 16.378, 'タングステン': 4.21, 'アルミニウム': 1.248, 'チタン': 2.0300000000000002}. Best is trial 23 with value: 2407.1623535156.\n",
      "[I 2025-02-24 20:44:42,884] Trial 34 finished with value: 2181.8381347656 and parameters: {'炭素': 0.21, 'マンガン': 1.828, 'ケイ素': 3.638, 'クロム': 4.0280000000000005, 'ニッケル': 20.528, 'モリブデン': 4.176, 'バナジウム': 2.95, '窒素': 0.03, 'ニオブ': 0.93, 'コバルト': 11.937999999999999, 'タングステン': 3.31, 'アルミニウム': 1.6680000000000001, 'チタン': 1.1500000000000001}. Best is trial 23 with value: 2407.1623535156.\n",
      "[I 2025-02-24 20:44:43,429] Trial 35 finished with value: 2185.9555664062 and parameters: {'炭素': 0.31, 'マンガン': 2.148, 'ケイ素': 3.918, 'クロム': 10.548, 'ニッケル': 16.368, 'モリブデン': 3.516, 'バナジウム': 2.98, '窒素': 0.04, 'ニオブ': 0.24, 'コバルト': 23.227999999999998, 'タングステン': 3.09, 'アルミニウム': 1.068, 'チタン': 1.6600000000000001}. Best is trial 23 with value: 2407.1623535156.\n",
      "[I 2025-02-24 20:44:43,954] Trial 36 finished with value: 2188.1206054688 and parameters: {'炭素': 0.23, 'マンガン': 1.858, 'ケイ素': 4.148, 'クロム': 7.748, 'ニッケル': 16.067999999999998, 'モリブデン': 4.5760000000000005, 'バナジウム': 1.8800000000000001, '窒素': 0.07, 'ニオブ': 0.4, 'コバルト': 11.048, 'タングステン': 3.71, 'アルミニウム': 0.898, 'チタン': 1.6500000000000001}. Best is trial 23 with value: 2407.1623535156.\n",
      "[I 2025-02-24 20:44:44,474] Trial 37 finished with value: 1957.3879394531 and parameters: {'炭素': 0.32, 'マンガン': 2.298, 'ケイ素': 4.638, 'クロム': 14.898, 'ニッケル': 22.268, 'モリブデン': 6.006, 'バナジウム': 1.79, '窒素': 0.06, 'ニオブ': 0.3, 'コバルト': 14.888, 'タングステン': 4.89, 'アルミニウム': 0.798, 'チタン': 1.82}. Best is trial 23 with value: 2407.1623535156.\n",
      "[I 2025-02-24 20:44:45,014] Trial 38 finished with value: 1973.2094726562 and parameters: {'炭素': 0.18, 'マンガン': 1.848, 'ケイ素': 5.168, 'クロム': 10.367999999999999, 'ニッケル': 14.758, 'モリブデン': 7.0760000000000005, 'バナジウム': 2.68, '窒素': 0.03, 'ニオブ': 0.28, 'コバルト': 16.028, 'タングステン': 0.58, 'アルミニウム': 0.9480000000000001, 'チタン': 1.78}. Best is trial 23 with value: 2407.1623535156.\n",
      "[I 2025-02-24 20:44:45,542] Trial 39 finished with value: 1812.6512451172 and parameters: {'炭素': 0.28, 'マンガン': 1.818, 'ケイ素': 3.988, 'クロム': 5.758, 'ニッケル': 16.018, 'モリブデン': 6.746, 'バナジウム': 3.37, '窒素': 0.09, 'ニオブ': 1.0, 'コバルト': 16.078, 'タングステン': 3.89, 'アルミニウム': 1.428, 'チタン': 0.96}. Best is trial 23 with value: 2407.1623535156.\n",
      "[I 2025-02-24 20:44:46,071] Trial 40 finished with value: 2347.533203125 and parameters: {'炭素': 0.27, 'マンガン': 1.6580000000000001, 'ケイ素': 3.878, 'クロム': 11.488, 'ニッケル': 17.098, 'モリブデン': 3.946, 'バナジウム': 2.32, '窒素': 0.09, 'ニオブ': 1.06, 'コバルト': 19.968, 'タングステン': 2.35, 'アルミニウム': 1.448, 'チタン': 1.6}. Best is trial 23 with value: 2407.1623535156.\n",
      "[I 2025-02-24 20:44:46,636] Trial 41 finished with value: 2270.8015136719 and parameters: {'炭素': 0.32, 'マンガン': 1.8980000000000001, 'ケイ素': 3.918, 'クロム': 11.078, 'ニッケル': 16.488, 'モリブデン': 6.0360000000000005, 'バナジウム': 2.97, '窒素': 0.08, 'ニオブ': 0.55, 'コバルト': 18.418, 'タングステン': 3.45, 'アルミニウム': 1.458, 'チタン': 1.51}. Best is trial 23 with value: 2407.1623535156.\n",
      "[I 2025-02-24 20:44:47,155] Trial 42 finished with value: 2153.986328125 and parameters: {'炭素': 0.42, 'マンガン': 1.958, 'ケイ素': 4.958, 'クロム': 13.107999999999999, 'ニッケル': 14.947999999999999, 'モリブデン': 6.996, 'バナジウム': 2.27, '窒素': 0.06, 'ニオブ': 0.52, 'コバルト': 15.267999999999999, 'タングステン': 3.14, 'アルミニウム': 1.798, 'チタン': 1.56}. Best is trial 23 with value: 2407.1623535156.\n",
      "[I 2025-02-24 20:44:47,751] Trial 43 finished with value: 1981.0390625 and parameters: {'炭素': 0.38, 'マンガン': 2.848, 'ケイ素': 5.468, 'クロム': 13.048, 'ニッケル': 19.477999999999998, 'モリブデン': 5.026, 'バナジウム': 1.87, '窒素': 0.06, 'ニオブ': 1.28, 'コバルト': 19.317999999999998, 'タングステン': 4.37, 'アルミニウム': 1.718, 'チタン': 1.22}. Best is trial 23 with value: 2407.1623535156.\n",
      "[I 2025-02-24 20:44:48,717] Trial 44 finished with value: 2239.2629394531 and parameters: {'炭素': 0.25, 'マンガン': 2.278, 'ケイ素': 3.468, 'クロム': 8.738, 'ニッケル': 14.078, 'モリブデン': 3.0060000000000002, 'バナジウム': 2.72, '窒素': 0.08, 'ニオブ': 0.35000000000000003, 'コバルト': 15.378, 'タングステン': 4.59, 'アルミニウム': 1.558, 'チタン': 2.41}. Best is trial 23 with value: 2407.1623535156.\n",
      "[I 2025-02-24 20:44:49,259] Trial 45 finished with value: 2119.3505859375 and parameters: {'炭素': 0.38, 'マンガン': 2.118, 'ケイ素': 2.618, 'クロム': 9.107999999999999, 'ニッケル': 10.437999999999999, 'モリブデン': 6.166, 'バナジウム': 2.15, '窒素': 0.1, 'ニオブ': 0.35000000000000003, 'コバルト': 13.748, 'タングステン': 2.27, 'アルミニウム': 1.9080000000000001, 'チタン': 1.49}. Best is trial 23 with value: 2407.1623535156.\n",
      "[I 2025-02-24 20:44:50,266] Trial 46 finished with value: 2242.1037597656 and parameters: {'炭素': 0.43, 'マンガン': 1.578, 'ケイ素': 2.5180000000000002, 'クロム': 10.208, 'ニッケル': 15.748, 'モリブデン': 4.096, 'バナジウム': 2.24, '窒素': 0.04, 'ニオブ': 1.09, 'コバルト': 14.238, 'タングステン': 0.84, 'アルミニウム': 1.468, 'チタン': 1.77}. Best is trial 23 with value: 2407.1623535156.\n",
      "[I 2025-02-24 20:44:51,042] Trial 47 finished with value: 2043.0012207031 and parameters: {'炭素': 0.3, 'マンガン': 1.598, 'ケイ素': 1.9080000000000001, 'クロム': 10.388, 'ニッケル': 14.208, 'モリブデン': 6.6160000000000005, 'バナジウム': 1.1500000000000001, '窒素': 0.04, 'ニオブ': 0.8300000000000001, 'コバルト': 14.068, 'タングステン': 1.3900000000000001, 'アルミニウム': 1.988, 'チタン': 2.27}. Best is trial 23 with value: 2407.1623535156.\n",
      "[I 2025-02-24 20:44:51,776] Trial 48 finished with value: 2224.9367675781 and parameters: {'炭素': 0.35000000000000003, 'マンガン': 0.34800000000000003, 'ケイ素': 4.298, 'クロム': 10.718, 'ニッケル': 15.838, 'モリブデン': 5.626, 'バナジウム': 2.25, '窒素': 0.15, 'ニオブ': 0.46, 'コバルト': 12.398, 'タングステン': 0.56, 'アルミニウム': 1.298, 'チタン': 1.74}. Best is trial 23 with value: 2407.1623535156.\n",
      "[I 2025-02-24 20:44:52,285] Trial 49 finished with value: 2231.123046875 and parameters: {'炭素': 0.32, 'マンガン': 2.028, 'ケイ素': 3.918, 'クロム': 7.948, 'ニッケル': 12.607999999999999, 'モリブデン': 6.146, 'バナジウム': 2.5100000000000002, '窒素': 0.06, 'ニオブ': 0.45, 'コバルト': 14.527999999999999, 'タングステン': 2.73, 'アルミニウム': 1.1380000000000001, 'チタン': 1.87}. Best is trial 23 with value: 2407.1623535156.\n",
      "[I 2025-02-24 20:44:52,802] Trial 50 finished with value: 2295.6931152344 and parameters: {'炭素': 0.25, 'マンガン': 2.0180000000000002, 'ケイ素': 3.0780000000000003, 'クロム': 5.348, 'ニッケル': 17.298, 'モリブデン': 5.186, 'バナジウム': 3.02, '窒素': 0.11, 'ニオブ': 1.23, 'コバルト': 23.738, 'タングステン': 0.84, 'アルミニウム': 1.198, 'チタン': 2.34}. Best is trial 23 with value: 2407.1623535156.\n",
      "[I 2025-02-24 20:44:53,381] Trial 51 finished with value: 2227.8020019531 and parameters: {'炭素': 0.22, 'マンガン': 1.838, 'ケイ素': 3.488, 'クロム': 8.718, 'ニッケル': 13.238, 'モリブデン': 3.866, 'バナジウム': 1.27, '窒素': 0.07, 'ニオブ': 0.21, 'コバルト': 20.158, 'タングステン': 1.11, 'アルミニウム': 1.708, 'チタン': 1.57}. Best is trial 23 with value: 2407.1623535156.\n",
      "[I 2025-02-24 20:44:53,939] Trial 52 finished with value: 2155.9079589844 and parameters: {'炭素': 0.43, 'マンガン': 1.118, 'ケイ素': 4.128, 'クロム': 10.228, 'ニッケル': 14.648, 'モリブデン': 3.656, 'バナジウム': 2.5, '窒素': 0.09, 'ニオブ': 0.75, 'コバルト': 20.128, 'タングステン': 3.86, 'アルミニウム': 1.838, 'チタン': 1.42}. Best is trial 23 with value: 2407.1623535156.\n",
      "[I 2025-02-24 20:44:54,370] Trial 53 finished with value: 2186.2963867188 and parameters: {'炭素': 0.28, 'マンガン': 1.718, 'ケイ素': 3.398, 'クロム': 10.648, 'ニッケル': 10.748, 'モリブデン': 3.606, 'バナジウム': 2.96, '窒素': 0.09, 'ニオブ': 0.33, 'コバルト': 16.528, 'タングステン': 1.56, 'アルミニウム': 1.448, 'チタン': 1.6}. Best is trial 23 with value: 2407.1623535156.\n",
      "[I 2025-02-24 20:44:54,882] Trial 54 finished with value: 2308.6994628906 and parameters: {'炭素': 0.25, 'マンガン': 1.498, 'ケイ素': 3.398, 'クロム': 6.978, 'ニッケル': 16.328, 'モリブデン': 5.566, 'バナジウム': 1.79, '窒素': 0.09, 'ニオブ': 1.5, 'コバルト': 20.458, 'タングステン': 6.16, 'アルミニウム': 1.318, 'チタン': 2.21}. Best is trial 23 with value: 2407.1623535156.\n",
      "[I 2025-02-24 20:44:55,483] Trial 55 finished with value: 2176.0756835938 and parameters: {'炭素': 0.38, 'マンガン': 2.278, 'ケイ素': 4.058, 'クロム': 12.788, 'ニッケル': 23.758, 'モリブデン': 3.8360000000000003, 'バナジウム': 1.74, '窒素': 0.08, 'ニオブ': 0.8200000000000001, 'コバルト': 19.908, 'タングステン': 1.1400000000000001, 'アルミニウム': 1.768, 'チタン': 1.81}. Best is trial 23 with value: 2407.1623535156.\n",
      "[I 2025-02-24 20:44:55,900] Trial 56 finished with value: 2358.5952148438 and parameters: {'炭素': 0.29, 'マンガン': 1.078, 'ケイ素': 3.918, 'クロム': 6.048, 'ニッケル': 17.808, 'モリブデン': 5.806, 'バナジウム': 2.49, '窒素': 0.07, 'ニオブ': 1.67, 'コバルト': 20.578, 'タングステン': 2.64, 'アルミニウム': 1.1580000000000001, 'チタン': 2.41}. Best is trial 23 with value: 2407.1623535156.\n",
      "[I 2025-02-24 20:44:56,313] Trial 57 finished with value: 2166.9284667969 and parameters: {'炭素': 0.28, 'マンガン': 1.3980000000000001, 'ケイ素': 4.478, 'クロム': 6.728, 'ニッケル': 14.027999999999999, 'モリブデン': 5.2860000000000005, 'バナジウム': 2.18, '窒素': 0.08, 'ニオブ': 1.26, 'コバルト': 22.188, 'タングステン': 1.21, 'アルミニウム': 1.468, 'チタン': 1.84}. Best is trial 23 with value: 2407.1623535156.\n",
      "[I 2025-02-24 20:44:56,833] Trial 58 finished with value: 2347.5432128906 and parameters: {'炭素': 0.32, 'マンガン': 1.458, 'ケイ素': 3.188, 'クロム': 6.948, 'ニッケル': 12.697999999999999, 'モリブデン': 4.266, 'バナジウム': 2.2800000000000002, '窒素': 0.08, 'ニオブ': 1.29, 'コバルト': 16.398, 'タングステン': 3.2600000000000002, 'アルミニウム': 1.188, 'チタン': 2.61}. Best is trial 23 with value: 2407.1623535156.\n",
      "[I 2025-02-24 20:44:57,361] Trial 59 finished with value: 2034.6123046875 and parameters: {'炭素': 0.3, 'マンガン': 2.238, 'ケイ素': 2.908, 'クロム': 8.668, 'ニッケル': 8.668, 'モリブデン': 5.226, 'バナジウム': 3.09, '窒素': 0.11, 'ニオブ': 0.79, 'コバルト': 22.658, 'タングステン': 3.08, 'アルミニウム': 1.288, 'チタン': 2.38}. Best is trial 23 with value: 2407.1623535156.\n",
      "[I 2025-02-24 20:44:57,934] Trial 60 finished with value: 2028.3962402344 and parameters: {'炭素': 0.21, 'マンガン': 0.8380000000000001, 'ケイ素': 2.668, 'クロム': 2.758, 'ニッケル': 15.777999999999999, 'モリブデン': 5.146, 'バナジウム': 1.33, '窒素': 0.14, 'ニオブ': 1.9100000000000001, 'コバルト': 20.368, 'タングステン': 5.34, 'アルミニウム': 0.8380000000000001, 'チタン': 2.0300000000000002}. Best is trial 23 with value: 2407.1623535156.\n",
      "[I 2025-02-24 20:44:58,548] Trial 61 finished with value: 2151.8747558594 and parameters: {'炭素': 0.35000000000000003, 'マンガン': 2.638, 'ケイ素': 2.708, 'クロム': 7.2780000000000005, 'ニッケル': 19.378, 'モリブデン': 7.216, 'バナジウム': 2.54, '窒素': 0.07, 'ニオブ': 0.87, 'コバルト': 23.817999999999998, 'タングステン': 1.93, 'アルミニウム': 1.078, 'チタン': 2.47}. Best is trial 23 with value: 2407.1623535156.\n",
      "[I 2025-02-24 20:44:59,163] Trial 62 finished with value: 2149.40625 and parameters: {'炭素': 0.31, 'マンガン': 2.178, 'ケイ素': 3.498, 'クロム': 6.018, 'ニッケル': 25.098, 'モリブデン': 4.676, 'バナジウム': 2.45, '窒素': 0.03, 'ニオブ': 0.49, 'コバルト': 14.677999999999999, 'タングステン': 4.55, 'アルミニウム': 1.268, 'チタン': 1.79}. Best is trial 23 with value: 2407.1623535156.\n",
      "[I 2025-02-24 20:44:59,682] Trial 63 finished with value: 1892.8940429688 and parameters: {'炭素': 0.22, 'マンガン': 1.768, 'ケイ素': 2.188, 'クロム': 11.058, 'ニッケル': 11.548, 'モリブデン': 4.8660000000000005, 'バナジウム': 3.13, '窒素': 0.06, 'ニオブ': 0.67, 'コバルト': 23.938, 'タングステン': 2.12, 'アルミニウム': 1.018, 'チタン': 2.37}. Best is trial 23 with value: 2407.1623535156.\n",
      "[I 2025-02-24 20:45:00,284] Trial 64 finished with value: 2237.2893066406 and parameters: {'炭素': 0.22, 'マンガン': 1.8880000000000001, 'ケイ素': 2.618, 'クロム': 8.177999999999999, 'ニッケル': 15.708, 'モリブデン': 6.816, 'バナジウム': 1.1300000000000001, '窒素': 0.08, 'ニオブ': 1.6600000000000001, 'コバルト': 17.918, 'タングステン': 5.8100000000000005, 'アルミニウム': 1.328, 'チタン': 1.62}. Best is trial 23 with value: 2407.1623535156.\n",
      "[I 2025-02-24 20:45:00,811] Trial 65 finished with value: 2059.8229980469 and parameters: {'炭素': 0.32, 'マンガン': 1.1380000000000001, 'ケイ素': 3.978, 'クロム': 10.508, 'ニッケル': 7.618, 'モリブデン': 7.686, 'バナジウム': 2.1, '窒素': 0.11, 'ニオブ': 1.12, 'コバルト': 14.978, 'タングステン': 3.9, 'アルミニウム': 0.898, 'チタン': 1.96}. Best is trial 23 with value: 2407.1623535156.\n",
      "[I 2025-02-24 20:45:01,321] Trial 66 finished with value: 2184.9645996094 and parameters: {'炭素': 0.33, 'マンガン': 1.498, 'ケイ素': 3.908, 'クロム': 11.338, 'ニッケル': 12.888, 'モリブデン': 7.906000000000001, 'バナジウム': 1.82, '窒素': 0.07, 'ニオブ': 0.18, 'コバルト': 16.407999999999998, 'タングステン': 1.83, 'アルミニウム': 1.478, 'チタン': 2.68}. Best is trial 23 with value: 2407.1623535156.\n",
      "[I 2025-02-24 20:45:01,900] Trial 67 finished with value: 2406.5390625 and parameters: {'炭素': 0.3, 'マンガン': 1.078, 'ケイ素': 4.438, 'クロム': 7.958, 'ニッケル': 16.218, 'モリブデン': 9.326, 'バナジウム': 2.7, '窒素': 0.07, 'ニオブ': 1.45, 'コバルト': 19.738, 'タングステン': 2.8000000000000003, 'アルミニウム': 1.328, 'チタン': 2.06}. Best is trial 23 with value: 2407.1623535156.\n",
      "[I 2025-02-24 20:45:02,542] Trial 68 finished with value: 2146.4401855469 and parameters: {'炭素': 0.28, 'マンガン': 0.998, 'ケイ素': 2.718, 'クロム': 6.8180000000000005, 'ニッケル': 23.738, 'モリブデン': 5.966, 'バナジウム': 2.24, '窒素': 0.05, 'ニオブ': 1.61, 'コバルト': 14.097999999999999, 'タングステン': 6.5600000000000005, 'アルミニウム': 1.308, 'チタン': 2.07}. Best is trial 23 with value: 2407.1623535156.\n",
      "[I 2025-02-24 20:45:03,087] Trial 69 finished with value: 2120.6567382812 and parameters: {'炭素': 0.24, 'マンガン': 1.1380000000000001, 'ケイ素': 3.5180000000000002, 'クロム': 6.238, 'ニッケル': 19.998, 'モリブデン': 7.086, 'バナジウム': 1.53, '窒素': 0.06, 'ニオブ': 1.29, 'コバルト': 19.328, 'タングステン': 1.27, 'アルミニウム': 1.028, 'チタン': 2.07}. Best is trial 23 with value: 2407.1623535156.\n",
      "[I 2025-02-24 20:45:03,605] Trial 70 finished with value: 2353.369140625 and parameters: {'炭素': 0.16, 'マンガン': 1.1380000000000001, 'ケイ素': 3.068, 'クロム': 6.288, 'ニッケル': 15.298, 'モリブデン': 5.776, 'バナジウム': 4.08, '窒素': 0.09, 'ニオブ': 1.42, 'コバルト': 18.448, 'タングステン': 3.98, 'アルミニウム': 1.498, 'チタン': 2.47}. Best is trial 23 with value: 2407.1623535156.\n",
      "[I 2025-02-24 20:45:04,154] Trial 71 finished with value: 2207.5883789062 and parameters: {'炭素': 0.27, 'マンガン': 1.418, 'ケイ素': 2.368, 'クロム': 6.8180000000000005, 'ニッケル': 16.928, 'モリブデン': 5.756, 'バナジウム': 1.51, '窒素': 0.09, 'ニオブ': 1.19, 'コバルト': 18.258, 'タングステン': 2.6, 'アルミニウム': 1.308, 'チタン': 1.94}. Best is trial 23 with value: 2407.1623535156.\n",
      "[I 2025-02-24 20:45:04,573] Trial 72 finished with value: 2117.9533691406 and parameters: {'炭素': 0.29, 'マンガン': 0.888, 'ケイ素': 3.168, 'クロム': 5.118, 'ニッケル': 18.817999999999998, 'モリブデン': 7.856, 'バナジウム': 2.72, '窒素': 0.04, 'ニオブ': 0.72, 'コバルト': 18.038, 'タングステン': 2.67, 'アルミニウム': 1.078, 'チタン': 2.2600000000000002}. Best is trial 23 with value: 2407.1623535156.\n",
      "[I 2025-02-24 20:45:04,986] Trial 73 finished with value: 2210.0329589844 and parameters: {'炭素': 0.43, 'マンガン': 1.9080000000000001, 'ケイ素': 3.878, 'クロム': 11.898, 'ニッケル': 14.798, 'モリブデン': 6.556, 'バナジウム': 2.22, '窒素': 0.07, 'ニオブ': 0.97, 'コバルト': 14.847999999999999, 'タングステン': 2.5100000000000002, 'アルミニウム': 1.198, 'チタン': 2.15}. Best is trial 23 with value: 2407.1623535156.\n",
      "[I 2025-02-24 20:45:05,618] Trial 74 finished with value: 2162.0229492188 and parameters: {'炭素': 0.33, 'マンガン': 1.6580000000000001, 'ケイ素': 3.3080000000000003, 'クロム': 8.578, 'ニッケル': 12.607999999999999, 'モリブデン': 5.306, 'バナジウム': 2.94, '窒素': 0.05, 'ニオブ': 1.77, 'コバルト': 18.358, 'タングステン': 4.67, 'アルミニウム': 0.998, 'チタン': 2.42}. Best is trial 23 with value: 2407.1623535156.\n",
      "[I 2025-02-24 20:45:06,341] Trial 75 finished with value: 2341.5375976562 and parameters: {'炭素': 0.27, 'マンガン': 0.638, 'ケイ素': 3.638, 'クロム': 10.128, 'ニッケル': 16.628, 'モリブデン': 5.676, 'バナジウム': 1.55, '窒素': 0.07, 'ニオブ': 1.6300000000000001, 'コバルト': 23.268, 'タングステン': 3.35, 'アルミニウム': 1.448, 'チタン': 2.3000000000000003}. Best is trial 23 with value: 2407.1623535156.\n",
      "[I 2025-02-24 20:45:06,754] Trial 76 finished with value: 2359.650390625 and parameters: {'炭素': 0.28, 'マンガン': 2.508, 'ケイ素': 2.648, 'クロム': 8.427999999999999, 'ニッケル': 15.228, 'モリブデン': 1.6260000000000001, 'バナジウム': 1.76, '窒素': 0.05, 'ニオブ': 1.34, 'コバルト': 21.188, 'タングステン': 4.3500000000000005, 'アルミニウム': 1.558, 'チタン': 2.09}. Best is trial 23 with value: 2407.1623535156.\n",
      "[I 2025-02-24 20:45:07,354] Trial 77 finished with value: 2184.3010253906 and parameters: {'炭素': 0.4, 'マンガン': 1.238, 'ケイ素': 3.438, 'クロム': 4.758, 'ニッケル': 18.168, 'モリブデン': 4.636, 'バナジウム': 1.6500000000000001, '窒素': 0.07, 'ニオブ': 1.17, 'コバルト': 20.408, 'タングステン': 3.3200000000000003, 'アルミニウム': 0.888, 'チタン': 2.42}. Best is trial 23 with value: 2407.1623535156.\n",
      "[I 2025-02-24 20:45:07,760] Trial 78 finished with value: 2369.0993652344 and parameters: {'炭素': 0.29, 'マンガン': 1.1380000000000001, 'ケイ素': 5.298, 'クロム': 12.078, 'ニッケル': 16.028, 'モリブデン': 2.736, 'バナジウム': 3.16, '窒素': 0.06, 'ニオブ': 1.61, 'コバルト': 15.947999999999999, 'タングステン': 5.82, 'アルミニウム': 1.478, 'チタン': 2.56}. Best is trial 23 with value: 2407.1623535156.\n",
      "[I 2025-02-24 20:45:08,295] Trial 79 finished with value: 2377.6276855469 and parameters: {'炭素': 0.22, 'マンガン': 1.198, 'ケイ素': 2.988, 'クロム': 5.288, 'ニッケル': 15.107999999999999, 'モリブデン': 8.806000000000001, 'バナジウム': 3.14, '窒素': 0.08, 'ニオブ': 2.15, 'コバルト': 18.248, 'タングステン': 3.83, 'アルミニウム': 1.518, 'チタン': 2.33}. Best is trial 23 with value: 2407.1623535156.\n",
      "[I 2025-02-24 20:45:08,804] Trial 80 finished with value: 2405.3217773438 and parameters: {'炭素': 0.19, 'マンガン': 1.218, 'ケイ素': 3.548, 'クロム': 6.658, 'ニッケル': 16.438, 'モリブデン': 5.746, 'バナジウム': 2.21, '窒素': 0.09, 'ニオブ': 1.46, 'コバルト': 19.988, 'タングステン': 6.63, 'アルミニウム': 1.508, 'チタン': 2.41}. Best is trial 23 with value: 2407.1623535156.\n",
      "[I 2025-02-24 20:45:09,324] Trial 81 finished with value: 2235.115234375 and parameters: {'炭素': 0.32, 'マンガン': 1.098, 'ケイ素': 3.278, 'クロム': 6.5280000000000005, 'ニッケル': 14.228, 'モリブデン': 8.216, 'バナジウム': 1.85, '窒素': 0.06, 'ニオブ': 2.23, 'コバルト': 23.438, 'タングステン': 4.24, 'アルミニウム': 1.278, 'チタン': 2.04}. Best is trial 23 with value: 2407.1623535156.\n",
      "[I 2025-02-24 20:45:09,736] Trial 82 finished with value: 2213.58203125 and parameters: {'炭素': 0.23, 'マンガン': 2.218, 'ケイ素': 3.2880000000000003, 'クロム': 7.958, 'ニッケル': 16.137999999999998, 'モリブデン': 6.936, 'バナジウム': 3.0, '窒素': 0.03, 'ニオブ': 1.6, 'コバルト': 17.227999999999998, 'タングステン': 6.11, 'アルミニウム': 1.068, 'チタン': 1.17}. Best is trial 23 with value: 2407.1623535156.\n",
      "[I 2025-02-24 20:45:10,633] Trial 83 finished with value: 2246.4680175781 and parameters: {'炭素': 0.2, 'マンガン': 0.508, 'ケイ素': 3.508, 'クロム': 7.898000000000001, 'ニッケル': 19.848, 'モリブデン': 8.286, 'バナジウム': 1.83, '窒素': 0.09, 'ニオブ': 1.23, 'コバルト': 18.477999999999998, 'タングステン': 3.69, 'アルミニウム': 1.338, 'チタン': 1.96}. Best is trial 23 with value: 2407.1623535156.\n",
      "[I 2025-02-24 20:45:11,180] Trial 84 finished with value: 2107.0612792969 and parameters: {'炭素': 0.22, 'マンガン': 1.6380000000000001, 'ケイ素': 2.818, 'クロム': 10.978, 'ニッケル': 14.878, 'モリブデン': 6.3260000000000005, 'バナジウム': 3.04, '窒素': 0.11, 'ニオブ': 1.6500000000000001, 'コバルト': 20.358, 'タングステン': 1.71, 'アルミニウム': 1.928, 'チタン': 2.5300000000000002}. Best is trial 23 with value: 2407.1623535156.\n",
      "[I 2025-02-24 20:45:11,758] Trial 85 finished with value: 2136.0869140625 and parameters: {'炭素': 0.29, 'マンガン': 1.208, 'ケイ素': 3.088, 'クロム': 5.958, 'ニッケル': 13.798, 'モリブデン': 6.136, 'バナジウム': 1.48, '窒素': 0.03, 'ニオブ': 0.81, 'コバルト': 16.157999999999998, 'タングステン': 3.49, 'アルミニウム': 1.868, 'チタン': 2.15}. Best is trial 23 with value: 2407.1623535156.\n",
      "[I 2025-02-24 20:45:12,283] Trial 86 finished with value: 2084.0927734375 and parameters: {'炭素': 0.3, 'マンガン': 1.748, 'ケイ素': 2.358, 'クロム': 6.038, 'ニッケル': 14.388, 'モリブデン': 6.216, 'バナジウム': 3.19, '窒素': 0.02, 'ニオブ': 1.6500000000000001, 'コバルト': 20.218, 'タングステン': 5.17, 'アルミニウム': 1.258, 'チタン': 1.85}. Best is trial 23 with value: 2407.1623535156.\n",
      "[I 2025-02-24 20:45:13,241] Trial 87 finished with value: 2159.4184570312 and parameters: {'炭素': 0.25, 'マンガン': 0.888, 'ケイ素': 3.818, 'クロム': 4.548, 'ニッケル': 14.978, 'モリブデン': 5.276, 'バナジウム': 2.7800000000000002, '窒素': 0.05, 'ニオブ': 1.77, 'コバルト': 18.998, 'タングステン': 2.68, 'アルミニウム': 1.428, 'チタン': 2.44}. Best is trial 23 with value: 2407.1623535156.\n",
      "[I 2025-02-24 20:45:13,851] Trial 88 finished with value: 2382.2067871094 and parameters: {'炭素': 0.32, 'マンガン': 0.138, 'ケイ素': 3.198, 'クロム': 12.658, 'ニッケル': 16.198, 'モリブデン': 6.556, 'バナジウム': 1.99, '窒素': 0.05, 'ニオブ': 1.05, 'コバルト': 20.817999999999998, 'タングステン': 2.83, 'アルミニウム': 1.068, 'チタン': 2.24}. Best is trial 23 with value: 2407.1623535156.\n",
      "[I 2025-02-24 20:45:14,416] Trial 89 finished with value: 2337.1525878906 and parameters: {'炭素': 0.31, 'マンガン': 1.008, 'ケイ素': 3.598, 'クロム': 7.808, 'ニッケル': 16.148, 'モリブデン': 5.716, 'バナジウム': 2.4, '窒素': 0.05, 'ニオブ': 1.74, 'コバルト': 17.898, 'タングステン': 6.24, 'アルミニウム': 1.768, 'チタン': 2.47}. Best is trial 23 with value: 2407.1623535156.\n",
      "[I 2025-02-24 20:45:14,931] Trial 90 finished with value: 2376.6123046875 and parameters: {'炭素': 0.23, 'マンガン': 1.118, 'ケイ素': 3.688, 'クロム': 8.238, 'ニッケル': 16.378, 'モリブデン': 8.746, 'バナジウム': 2.44, '窒素': 0.1, 'ニオブ': 1.3800000000000001, 'コバルト': 18.668, 'タングステン': 5.8100000000000005, 'アルミニウム': 1.078, 'チタン': 2.39}. Best is trial 23 with value: 2407.1623535156.\n",
      "[I 2025-02-24 20:45:15,529] Trial 91 finished with value: 2095.64453125 and parameters: {'炭素': 0.22, 'マンガン': 1.518, 'ケイ素': 2.988, 'クロム': 11.458, 'ニッケル': 19.317999999999998, 'モリブデン': 5.296, 'バナジウム': 2.93, '窒素': 0.07, 'ニオブ': 1.87, 'コバルト': 18.038, 'タングステン': 6.24, 'アルミニウム': 1.458, 'チタン': 1.9000000000000001}. Best is trial 23 with value: 2407.1623535156.\n",
      "[I 2025-02-24 20:45:16,147] Trial 92 finished with value: 2273.6511230469 and parameters: {'炭素': 0.24, 'マンガン': 0.428, 'ケイ素': 3.7680000000000002, 'クロム': 7.928, 'ニッケル': 20.848, 'モリブデン': 8.896, 'バナジウム': 1.68, '窒素': 0.05, 'ニオブ': 1.3900000000000001, 'コバルト': 17.718, 'タングステン': 6.44, 'アルミニウム': 1.268, 'チタン': 2.35}. Best is trial 23 with value: 2407.1623535156.\n",
      "[I 2025-02-24 20:45:16,674] Trial 93 finished with value: 2206.3918457031 and parameters: {'炭素': 0.24, 'マンガン': 0.268, 'ケイ素': 3.448, 'クロム': 9.798, 'ニッケル': 9.208, 'モリブデン': 5.496, 'バナジウム': 3.13, '窒素': 0.08, 'ニオブ': 1.08, 'コバルト': 15.578, 'タングステン': 5.8100000000000005, 'アルミニウム': 1.448, 'チタン': 2.46}. Best is trial 23 with value: 2407.1623535156.\n",
      "[I 2025-02-24 20:45:17,110] Trial 94 finished with value: 2382.6896972656 and parameters: {'炭素': 0.21, 'マンガン': 1.008, 'ケイ素': 2.988, 'クロム': 7.848, 'ニッケル': 15.718, 'モリブデン': 9.216000000000001, 'バナジウム': 1.97, '窒素': 0.09, 'ニオブ': 1.5, 'コバルト': 23.058, 'タングステン': 5.04, 'アルミニウム': 1.348, 'チタン': 1.62}. Best is trial 23 with value: 2407.1623535156.\n",
      "[I 2025-02-24 20:45:17,629] Trial 95 finished with value: 2281.6303710938 and parameters: {'炭素': 0.23, 'マンガン': 0.858, 'ケイ素': 4.008, 'クロム': 8.927999999999999, 'ニッケル': 13.728, 'モリブデン': 6.756, 'バナジウム': 2.49, '窒素': 0.07, 'ニオブ': 1.19, 'コバルト': 21.178, 'タングステン': 3.63, 'アルミニウム': 1.478, 'チタン': 2.3000000000000003}. Best is trial 23 with value: 2407.1623535156.\n",
      "[I 2025-02-24 20:45:18,149] Trial 96 finished with value: 2224.5771484375 and parameters: {'炭素': 0.31, 'マンガン': 0.40800000000000003, 'ケイ素': 2.968, 'クロム': 7.3580000000000005, 'ニッケル': 14.427999999999999, 'モリブデン': 5.636, 'バナジウム': 1.92, '窒素': 0.06, 'ニオブ': 1.69, 'コバルト': 15.357999999999999, 'タングステン': 2.32, 'アルミニウム': 1.178, 'チタン': 2.47}. Best is trial 23 with value: 2407.1623535156.\n",
      "[I 2025-02-24 20:45:18,743] Trial 97 finished with value: 2195.6081542969 and parameters: {'炭素': 0.24, 'マンガン': 0.458, 'ケイ素': 2.358, 'クロム': 7.968, 'ニッケル': 14.908, 'モリブデン': 10.086, 'バナジウム': 1.81, '窒素': 0.05, 'ニオブ': 1.6600000000000001, 'コバルト': 17.558, 'タングステン': 6.58, 'アルミニウム': 1.238, 'チタン': 2.37}. Best is trial 23 with value: 2407.1623535156.\n",
      "[I 2025-02-24 20:45:19,785] Trial 98 finished with value: 2344.1293945312 and parameters: {'炭素': 0.4, 'マンガン': 0.5680000000000001, 'ケイ素': 4.158, 'クロム': 9.588, 'ニッケル': 14.908, 'モリブデン': 3.8360000000000003, 'バナジウム': 1.74, '窒素': 0.07, 'ニオブ': 1.3, 'コバルト': 17.008, 'タングステン': 4.71, 'アルミニウム': 1.338, 'チタン': 2.14}. Best is trial 23 with value: 2407.1623535156.\n",
      "[I 2025-02-24 20:45:20,318] Trial 99 finished with value: 2257.1550292969 and parameters: {'炭素': 0.22, 'マンガン': 0.998, 'ケイ素': 3.658, 'クロム': 10.568, 'ニッケル': 15.538, 'モリブデン': 5.426, 'バナジウム': 3.38, '窒素': 0.08, 'ニオブ': 1.76, 'コバルト': 20.258, 'タングステン': 6.99, 'アルミニウム': 1.588, 'チタン': 2.58}. Best is trial 23 with value: 2407.1623535156.\n",
      "[I 2025-02-24 20:45:20,846] Trial 100 finished with value: 2049.6696777344 and parameters: {'炭素': 0.26, 'マンガン': 1.448, 'ケイ素': 2.688, 'クロム': 8.568, 'ニッケル': 12.588, 'モリブデン': 8.536, 'バナジウム': 2.1, '窒素': 0.11, 'ニオブ': 2.04, 'コバルト': 21.218, 'タングステン': 4.55, 'アルミニウム': 0.7080000000000001, 'チタン': 2.07}. Best is trial 23 with value: 2407.1623535156.\n",
      "[I 2025-02-24 20:45:21,356] Trial 101 finished with value: 2211.5300292969 and parameters: {'炭素': 0.24, 'マンガン': 1.608, 'ケイ素': 2.5580000000000003, 'クロム': 5.488, 'ニッケル': 15.388, 'モリブデン': 7.0760000000000005, 'バナジウム': 1.71, '窒素': 0.05, 'ニオブ': 1.54, 'コバルト': 19.387999999999998, 'タングステン': 2.79, 'アルミニウム': 1.338, 'チタン': 1.72}. Best is trial 23 with value: 2407.1623535156.\n",
      "[I 2025-02-24 20:45:22,029] Trial 102 finished with value: 2397.4587402344 and parameters: {'炭素': 0.27, 'マンガン': 1.178, 'ケイ素': 3.988, 'クロム': 7.648000000000001, 'ニッケル': 17.998, 'モリブデン': 10.266, 'バナジウム': 2.14, '窒素': 0.08, 'ニオブ': 1.42, 'コバルト': 14.038, 'タングステン': 5.18, 'アルミニウム': 1.358, 'チタン': 2.11}. Best is trial 23 with value: 2407.1623535156.\n",
      "[I 2025-02-24 20:45:22,583] Trial 103 finished with value: 2212.3811035156 and parameters: {'炭素': 0.32, 'マンガン': 0.928, 'ケイ素': 3.298, 'クロム': 9.498, 'ニッケル': 15.187999999999999, 'モリブデン': 5.486, 'バナジウム': 2.5500000000000003, '窒素': 0.08, 'ニオブ': 1.43, 'コバルト': 19.468, 'タングステン': 4.25, 'アルミニウム': 0.858, 'チタン': 1.93}. Best is trial 23 with value: 2407.1623535156.\n",
      "[I 2025-02-24 20:45:23,175] Trial 104 finished with value: 2330.7521972656 and parameters: {'炭素': 0.18, 'マンガン': 0.228, 'ケイ素': 2.688, 'クロム': 5.948, 'ニッケル': 15.968, 'モリブデン': 7.236, 'バナジウム': 1.6600000000000001, '窒素': 0.09, 'ニオブ': 1.48, 'コバルト': 19.067999999999998, 'タングステン': 6.03, 'アルミニウム': 1.6380000000000001, 'チタン': 2.21}. Best is trial 23 with value: 2407.1623535156.\n"
     ]
    },
    {
     "name": "stdout",
     "output_type": "stream",
     "text": [
      "CPU times: user 7.92 s, sys: 403 ms, total: 8.33 s\n",
      "Wall time: 1min\n"
     ]
    }
   ],
   "source": [
    "%%time\n",
    "dr.Client()\n",
    "study = optuna.create_study(direction=\"maximize\", sampler=optuna.samplers.CmaEsSampler())\n",
    "study.optimize(objective, timeout=timeout*2, gc_after_trial=True)"
   ]
  },
  {
   "cell_type": "code",
   "execution_count": 40,
   "metadata": {},
   "outputs": [
    {
     "name": "stdout",
     "output_type": "stream",
     "text": [
      "{'炭素': 0.29, 'マンガン': 2.068, 'ケイ素': 4.538, 'クロム': 9.017999999999999, 'ニッケル': 17.067999999999998, 'モリブデン': 6.606, 'バナジウム': 2.08, '窒素': 0.07, 'ニオブ': 0.0, 'コバルト': 15.458, 'タングステン': 1.52, 'アルミニウム': 1.608, 'チタン': 1.5}\n",
      "2407.1623535156\n",
      "23\n"
     ]
    }
   ],
   "source": [
    "print(study.best_trial.params)\n",
    "print(study.best_trial.value)\n",
    "print(study.best_trial.number)"
   ]
  },
  {
   "cell_type": "code",
   "execution_count": null,
   "metadata": {},
   "outputs": [
    {
     "data": {
      "application/vnd.plotly.v1+json": {
       "config": {
        "plotlyServerURL": "https://plot.ly"
       },
       "data": [
        {
         "mode": "markers",
         "name": "Objective Value",
         "type": "scatter",
         "x": [
          0,
          1,
          2,
          3,
          4,
          5,
          6,
          7,
          8,
          9,
          10,
          11,
          12,
          13,
          14,
          15,
          16,
          17,
          18,
          19,
          20,
          21,
          22,
          23,
          24,
          25,
          26,
          27,
          28,
          29,
          30,
          31,
          32,
          33,
          34,
          35,
          36,
          37,
          38,
          39,
          40,
          41,
          42,
          43,
          44,
          45,
          46,
          47,
          48,
          49,
          50,
          51,
          52,
          53,
          54,
          55,
          56,
          57,
          58,
          59,
          60,
          61,
          62,
          63,
          64,
          65,
          66,
          67,
          68,
          69,
          70,
          71,
          72,
          73,
          74,
          75,
          76,
          77,
          78,
          79,
          80,
          81,
          82,
          83,
          84,
          85,
          86,
          87,
          88,
          89,
          90,
          91,
          92,
          93,
          94,
          95,
          96,
          97,
          98,
          99,
          100,
          101,
          102,
          103,
          104
         ],
         "y": [
          1772.6025390625,
          1501.1370849609,
          2093.8693847656,
          1575.7825927734,
          2058.3955078125,
          2006.1636962891,
          1634.3292236328,
          1643.4334716797,
          2053.982421875,
          2292.3020019531,
          2106.1872558594,
          2313.33203125,
          1907.35546875,
          2256.6911621094,
          2204.8774414062,
          2114.3359375,
          2131.7846679688,
          2377.7854003906,
          2093.9772949219,
          1781.5889892578,
          2163.4255371094,
          1611.7926025391,
          2170.3835449219,
          2407.1623535156,
          2327.3937988281,
          2218.7980957031,
          2082.2351074219,
          2098.1350097656,
          2238.4270019531,
          2054.9729003906,
          1913.8631591797,
          1765.1606445312,
          2320.9912109375,
          2149.6142578125,
          2181.8381347656,
          2185.9555664062,
          2188.1206054688,
          1957.3879394531,
          1973.2094726562,
          1812.6512451172,
          2347.533203125,
          2270.8015136719,
          2153.986328125,
          1981.0390625,
          2239.2629394531,
          2119.3505859375,
          2242.1037597656,
          2043.0012207031,
          2224.9367675781,
          2231.123046875,
          2295.6931152344,
          2227.8020019531,
          2155.9079589844,
          2186.2963867188,
          2308.6994628906,
          2176.0756835938,
          2358.5952148438,
          2166.9284667969,
          2347.5432128906,
          2034.6123046875,
          2028.3962402344,
          2151.8747558594,
          2149.40625,
          1892.8940429688,
          2237.2893066406,
          2059.8229980469,
          2184.9645996094,
          2406.5390625,
          2146.4401855469,
          2120.6567382812,
          2353.369140625,
          2207.5883789062,
          2117.9533691406,
          2210.0329589844,
          2162.0229492188,
          2341.5375976562,
          2359.650390625,
          2184.3010253906,
          2369.0993652344,
          2377.6276855469,
          2405.3217773438,
          2235.115234375,
          2213.58203125,
          2246.4680175781,
          2107.0612792969,
          2136.0869140625,
          2084.0927734375,
          2159.4184570312,
          2382.2067871094,
          2337.1525878906,
          2376.6123046875,
          2095.64453125,
          2273.6511230469,
          2206.3918457031,
          2382.6896972656,
          2281.6303710938,
          2224.5771484375,
          2195.6081542969,
          2344.1293945312,
          2257.1550292969,
          2049.6696777344,
          2211.5300292969,
          2397.4587402344,
          2212.3811035156,
          2330.7521972656
         ]
        },
        {
         "mode": "lines",
         "name": "Best Value",
         "type": "scatter",
         "x": [
          0,
          1,
          2,
          3,
          4,
          5,
          6,
          7,
          8,
          9,
          10,
          11,
          12,
          13,
          14,
          15,
          16,
          17,
          18,
          19,
          20,
          21,
          22,
          23,
          24,
          25,
          26,
          27,
          28,
          29,
          30,
          31,
          32,
          33,
          34,
          35,
          36,
          37,
          38,
          39,
          40,
          41,
          42,
          43,
          44,
          45,
          46,
          47,
          48,
          49,
          50,
          51,
          52,
          53,
          54,
          55,
          56,
          57,
          58,
          59,
          60,
          61,
          62,
          63,
          64,
          65,
          66,
          67,
          68,
          69,
          70,
          71,
          72,
          73,
          74,
          75,
          76,
          77,
          78,
          79,
          80,
          81,
          82,
          83,
          84,
          85,
          86,
          87,
          88,
          89,
          90,
          91,
          92,
          93,
          94,
          95,
          96,
          97,
          98,
          99,
          100,
          101,
          102,
          103,
          104
         ],
         "y": [
          1772.6025390625,
          1772.6025390625,
          2093.8693847656,
          2093.8693847656,
          2093.8693847656,
          2093.8693847656,
          2093.8693847656,
          2093.8693847656,
          2093.8693847656,
          2292.3020019531,
          2292.3020019531,
          2313.33203125,
          2313.33203125,
          2313.33203125,
          2313.33203125,
          2313.33203125,
          2313.33203125,
          2377.7854003906,
          2377.7854003906,
          2377.7854003906,
          2377.7854003906,
          2377.7854003906,
          2377.7854003906,
          2407.1623535156,
          2407.1623535156,
          2407.1623535156,
          2407.1623535156,
          2407.1623535156,
          2407.1623535156,
          2407.1623535156,
          2407.1623535156,
          2407.1623535156,
          2407.1623535156,
          2407.1623535156,
          2407.1623535156,
          2407.1623535156,
          2407.1623535156,
          2407.1623535156,
          2407.1623535156,
          2407.1623535156,
          2407.1623535156,
          2407.1623535156,
          2407.1623535156,
          2407.1623535156,
          2407.1623535156,
          2407.1623535156,
          2407.1623535156,
          2407.1623535156,
          2407.1623535156,
          2407.1623535156,
          2407.1623535156,
          2407.1623535156,
          2407.1623535156,
          2407.1623535156,
          2407.1623535156,
          2407.1623535156,
          2407.1623535156,
          2407.1623535156,
          2407.1623535156,
          2407.1623535156,
          2407.1623535156,
          2407.1623535156,
          2407.1623535156,
          2407.1623535156,
          2407.1623535156,
          2407.1623535156,
          2407.1623535156,
          2407.1623535156,
          2407.1623535156,
          2407.1623535156,
          2407.1623535156,
          2407.1623535156,
          2407.1623535156,
          2407.1623535156,
          2407.1623535156,
          2407.1623535156,
          2407.1623535156,
          2407.1623535156,
          2407.1623535156,
          2407.1623535156,
          2407.1623535156,
          2407.1623535156,
          2407.1623535156,
          2407.1623535156,
          2407.1623535156,
          2407.1623535156,
          2407.1623535156,
          2407.1623535156,
          2407.1623535156,
          2407.1623535156,
          2407.1623535156,
          2407.1623535156,
          2407.1623535156,
          2407.1623535156,
          2407.1623535156,
          2407.1623535156,
          2407.1623535156,
          2407.1623535156,
          2407.1623535156,
          2407.1623535156,
          2407.1623535156,
          2407.1623535156,
          2407.1623535156,
          2407.1623535156,
          2407.1623535156
         ]
        },
        {
         "marker": {
          "color": "#cccccc"
         },
         "mode": "markers",
         "name": "Infeasible Trial",
         "showlegend": false,
         "type": "scatter",
         "x": [],
         "y": []
        }
       ],
       "layout": {
        "template": {
         "data": {
          "bar": [
           {
            "error_x": {
             "color": "#2a3f5f"
            },
            "error_y": {
             "color": "#2a3f5f"
            },
            "marker": {
             "line": {
              "color": "#E5ECF6",
              "width": 0.5
             },
             "pattern": {
              "fillmode": "overlay",
              "size": 10,
              "solidity": 0.2
             }
            },
            "type": "bar"
           }
          ],
          "barpolar": [
           {
            "marker": {
             "line": {
              "color": "#E5ECF6",
              "width": 0.5
             },
             "pattern": {
              "fillmode": "overlay",
              "size": 10,
              "solidity": 0.2
             }
            },
            "type": "barpolar"
           }
          ],
          "carpet": [
           {
            "aaxis": {
             "endlinecolor": "#2a3f5f",
             "gridcolor": "white",
             "linecolor": "white",
             "minorgridcolor": "white",
             "startlinecolor": "#2a3f5f"
            },
            "baxis": {
             "endlinecolor": "#2a3f5f",
             "gridcolor": "white",
             "linecolor": "white",
             "minorgridcolor": "white",
             "startlinecolor": "#2a3f5f"
            },
            "type": "carpet"
           }
          ],
          "choropleth": [
           {
            "colorbar": {
             "outlinewidth": 0,
             "ticks": ""
            },
            "type": "choropleth"
           }
          ],
          "contour": [
           {
            "colorbar": {
             "outlinewidth": 0,
             "ticks": ""
            },
            "colorscale": [
             [
              0,
              "#0d0887"
             ],
             [
              0.1111111111111111,
              "#46039f"
             ],
             [
              0.2222222222222222,
              "#7201a8"
             ],
             [
              0.3333333333333333,
              "#9c179e"
             ],
             [
              0.4444444444444444,
              "#bd3786"
             ],
             [
              0.5555555555555556,
              "#d8576b"
             ],
             [
              0.6666666666666666,
              "#ed7953"
             ],
             [
              0.7777777777777778,
              "#fb9f3a"
             ],
             [
              0.8888888888888888,
              "#fdca26"
             ],
             [
              1,
              "#f0f921"
             ]
            ],
            "type": "contour"
           }
          ],
          "contourcarpet": [
           {
            "colorbar": {
             "outlinewidth": 0,
             "ticks": ""
            },
            "type": "contourcarpet"
           }
          ],
          "heatmap": [
           {
            "colorbar": {
             "outlinewidth": 0,
             "ticks": ""
            },
            "colorscale": [
             [
              0,
              "#0d0887"
             ],
             [
              0.1111111111111111,
              "#46039f"
             ],
             [
              0.2222222222222222,
              "#7201a8"
             ],
             [
              0.3333333333333333,
              "#9c179e"
             ],
             [
              0.4444444444444444,
              "#bd3786"
             ],
             [
              0.5555555555555556,
              "#d8576b"
             ],
             [
              0.6666666666666666,
              "#ed7953"
             ],
             [
              0.7777777777777778,
              "#fb9f3a"
             ],
             [
              0.8888888888888888,
              "#fdca26"
             ],
             [
              1,
              "#f0f921"
             ]
            ],
            "type": "heatmap"
           }
          ],
          "histogram": [
           {
            "marker": {
             "pattern": {
              "fillmode": "overlay",
              "size": 10,
              "solidity": 0.2
             }
            },
            "type": "histogram"
           }
          ],
          "histogram2d": [
           {
            "colorbar": {
             "outlinewidth": 0,
             "ticks": ""
            },
            "colorscale": [
             [
              0,
              "#0d0887"
             ],
             [
              0.1111111111111111,
              "#46039f"
             ],
             [
              0.2222222222222222,
              "#7201a8"
             ],
             [
              0.3333333333333333,
              "#9c179e"
             ],
             [
              0.4444444444444444,
              "#bd3786"
             ],
             [
              0.5555555555555556,
              "#d8576b"
             ],
             [
              0.6666666666666666,
              "#ed7953"
             ],
             [
              0.7777777777777778,
              "#fb9f3a"
             ],
             [
              0.8888888888888888,
              "#fdca26"
             ],
             [
              1,
              "#f0f921"
             ]
            ],
            "type": "histogram2d"
           }
          ],
          "histogram2dcontour": [
           {
            "colorbar": {
             "outlinewidth": 0,
             "ticks": ""
            },
            "colorscale": [
             [
              0,
              "#0d0887"
             ],
             [
              0.1111111111111111,
              "#46039f"
             ],
             [
              0.2222222222222222,
              "#7201a8"
             ],
             [
              0.3333333333333333,
              "#9c179e"
             ],
             [
              0.4444444444444444,
              "#bd3786"
             ],
             [
              0.5555555555555556,
              "#d8576b"
             ],
             [
              0.6666666666666666,
              "#ed7953"
             ],
             [
              0.7777777777777778,
              "#fb9f3a"
             ],
             [
              0.8888888888888888,
              "#fdca26"
             ],
             [
              1,
              "#f0f921"
             ]
            ],
            "type": "histogram2dcontour"
           }
          ],
          "mesh3d": [
           {
            "colorbar": {
             "outlinewidth": 0,
             "ticks": ""
            },
            "type": "mesh3d"
           }
          ],
          "parcoords": [
           {
            "line": {
             "colorbar": {
              "outlinewidth": 0,
              "ticks": ""
             }
            },
            "type": "parcoords"
           }
          ],
          "pie": [
           {
            "automargin": true,
            "type": "pie"
           }
          ],
          "scatter": [
           {
            "fillpattern": {
             "fillmode": "overlay",
             "size": 10,
             "solidity": 0.2
            },
            "type": "scatter"
           }
          ],
          "scatter3d": [
           {
            "line": {
             "colorbar": {
              "outlinewidth": 0,
              "ticks": ""
             }
            },
            "marker": {
             "colorbar": {
              "outlinewidth": 0,
              "ticks": ""
             }
            },
            "type": "scatter3d"
           }
          ],
          "scattercarpet": [
           {
            "marker": {
             "colorbar": {
              "outlinewidth": 0,
              "ticks": ""
             }
            },
            "type": "scattercarpet"
           }
          ],
          "scattergeo": [
           {
            "marker": {
             "colorbar": {
              "outlinewidth": 0,
              "ticks": ""
             }
            },
            "type": "scattergeo"
           }
          ],
          "scattergl": [
           {
            "marker": {
             "colorbar": {
              "outlinewidth": 0,
              "ticks": ""
             }
            },
            "type": "scattergl"
           }
          ],
          "scattermap": [
           {
            "marker": {
             "colorbar": {
              "outlinewidth": 0,
              "ticks": ""
             }
            },
            "type": "scattermap"
           }
          ],
          "scattermapbox": [
           {
            "marker": {
             "colorbar": {
              "outlinewidth": 0,
              "ticks": ""
             }
            },
            "type": "scattermapbox"
           }
          ],
          "scatterpolar": [
           {
            "marker": {
             "colorbar": {
              "outlinewidth": 0,
              "ticks": ""
             }
            },
            "type": "scatterpolar"
           }
          ],
          "scatterpolargl": [
           {
            "marker": {
             "colorbar": {
              "outlinewidth": 0,
              "ticks": ""
             }
            },
            "type": "scatterpolargl"
           }
          ],
          "scatterternary": [
           {
            "marker": {
             "colorbar": {
              "outlinewidth": 0,
              "ticks": ""
             }
            },
            "type": "scatterternary"
           }
          ],
          "surface": [
           {
            "colorbar": {
             "outlinewidth": 0,
             "ticks": ""
            },
            "colorscale": [
             [
              0,
              "#0d0887"
             ],
             [
              0.1111111111111111,
              "#46039f"
             ],
             [
              0.2222222222222222,
              "#7201a8"
             ],
             [
              0.3333333333333333,
              "#9c179e"
             ],
             [
              0.4444444444444444,
              "#bd3786"
             ],
             [
              0.5555555555555556,
              "#d8576b"
             ],
             [
              0.6666666666666666,
              "#ed7953"
             ],
             [
              0.7777777777777778,
              "#fb9f3a"
             ],
             [
              0.8888888888888888,
              "#fdca26"
             ],
             [
              1,
              "#f0f921"
             ]
            ],
            "type": "surface"
           }
          ],
          "table": [
           {
            "cells": {
             "fill": {
              "color": "#EBF0F8"
             },
             "line": {
              "color": "white"
             }
            },
            "header": {
             "fill": {
              "color": "#C8D4E3"
             },
             "line": {
              "color": "white"
             }
            },
            "type": "table"
           }
          ]
         },
         "layout": {
          "annotationdefaults": {
           "arrowcolor": "#2a3f5f",
           "arrowhead": 0,
           "arrowwidth": 1
          },
          "autotypenumbers": "strict",
          "coloraxis": {
           "colorbar": {
            "outlinewidth": 0,
            "ticks": ""
           }
          },
          "colorscale": {
           "diverging": [
            [
             0,
             "#8e0152"
            ],
            [
             0.1,
             "#c51b7d"
            ],
            [
             0.2,
             "#de77ae"
            ],
            [
             0.3,
             "#f1b6da"
            ],
            [
             0.4,
             "#fde0ef"
            ],
            [
             0.5,
             "#f7f7f7"
            ],
            [
             0.6,
             "#e6f5d0"
            ],
            [
             0.7,
             "#b8e186"
            ],
            [
             0.8,
             "#7fbc41"
            ],
            [
             0.9,
             "#4d9221"
            ],
            [
             1,
             "#276419"
            ]
           ],
           "sequential": [
            [
             0,
             "#0d0887"
            ],
            [
             0.1111111111111111,
             "#46039f"
            ],
            [
             0.2222222222222222,
             "#7201a8"
            ],
            [
             0.3333333333333333,
             "#9c179e"
            ],
            [
             0.4444444444444444,
             "#bd3786"
            ],
            [
             0.5555555555555556,
             "#d8576b"
            ],
            [
             0.6666666666666666,
             "#ed7953"
            ],
            [
             0.7777777777777778,
             "#fb9f3a"
            ],
            [
             0.8888888888888888,
             "#fdca26"
            ],
            [
             1,
             "#f0f921"
            ]
           ],
           "sequentialminus": [
            [
             0,
             "#0d0887"
            ],
            [
             0.1111111111111111,
             "#46039f"
            ],
            [
             0.2222222222222222,
             "#7201a8"
            ],
            [
             0.3333333333333333,
             "#9c179e"
            ],
            [
             0.4444444444444444,
             "#bd3786"
            ],
            [
             0.5555555555555556,
             "#d8576b"
            ],
            [
             0.6666666666666666,
             "#ed7953"
            ],
            [
             0.7777777777777778,
             "#fb9f3a"
            ],
            [
             0.8888888888888888,
             "#fdca26"
            ],
            [
             1,
             "#f0f921"
            ]
           ]
          },
          "colorway": [
           "#636efa",
           "#EF553B",
           "#00cc96",
           "#ab63fa",
           "#FFA15A",
           "#19d3f3",
           "#FF6692",
           "#B6E880",
           "#FF97FF",
           "#FECB52"
          ],
          "font": {
           "color": "#2a3f5f"
          },
          "geo": {
           "bgcolor": "white",
           "lakecolor": "white",
           "landcolor": "#E5ECF6",
           "showlakes": true,
           "showland": true,
           "subunitcolor": "white"
          },
          "hoverlabel": {
           "align": "left"
          },
          "hovermode": "closest",
          "mapbox": {
           "style": "light"
          },
          "paper_bgcolor": "white",
          "plot_bgcolor": "#E5ECF6",
          "polar": {
           "angularaxis": {
            "gridcolor": "white",
            "linecolor": "white",
            "ticks": ""
           },
           "bgcolor": "#E5ECF6",
           "radialaxis": {
            "gridcolor": "white",
            "linecolor": "white",
            "ticks": ""
           }
          },
          "scene": {
           "xaxis": {
            "backgroundcolor": "#E5ECF6",
            "gridcolor": "white",
            "gridwidth": 2,
            "linecolor": "white",
            "showbackground": true,
            "ticks": "",
            "zerolinecolor": "white"
           },
           "yaxis": {
            "backgroundcolor": "#E5ECF6",
            "gridcolor": "white",
            "gridwidth": 2,
            "linecolor": "white",
            "showbackground": true,
            "ticks": "",
            "zerolinecolor": "white"
           },
           "zaxis": {
            "backgroundcolor": "#E5ECF6",
            "gridcolor": "white",
            "gridwidth": 2,
            "linecolor": "white",
            "showbackground": true,
            "ticks": "",
            "zerolinecolor": "white"
           }
          },
          "shapedefaults": {
           "line": {
            "color": "#2a3f5f"
           }
          },
          "ternary": {
           "aaxis": {
            "gridcolor": "white",
            "linecolor": "white",
            "ticks": ""
           },
           "baxis": {
            "gridcolor": "white",
            "linecolor": "white",
            "ticks": ""
           },
           "bgcolor": "#E5ECF6",
           "caxis": {
            "gridcolor": "white",
            "linecolor": "white",
            "ticks": ""
           }
          },
          "title": {
           "x": 0.05
          },
          "xaxis": {
           "automargin": true,
           "gridcolor": "white",
           "linecolor": "white",
           "ticks": "",
           "title": {
            "standoff": 15
           },
           "zerolinecolor": "white",
           "zerolinewidth": 2
          },
          "yaxis": {
           "automargin": true,
           "gridcolor": "white",
           "linecolor": "white",
           "ticks": "",
           "title": {
            "standoff": 15
           },
           "zerolinecolor": "white",
           "zerolinewidth": 2
          }
         }
        },
        "title": {
         "text": "Optimization History Plot"
        },
        "xaxis": {
         "title": {
          "text": "Trial"
         }
        },
        "yaxis": {
         "title": {
          "text": "Objective Value"
         }
        }
       }
      }
     },
     "metadata": {},
     "output_type": "display_data"
    }
   ],
   "source": [
    "# シミュレーション結果を確認\n",
    "# optuna.visualization.plot_optimization_history(study)\n",
    "custom_plot_optimization_history(study)"
   ]
  },
  {
   "cell_type": "markdown",
   "metadata": {},
   "source": [
    "もしTPE Samplerの結果をベースにCMA-ESで最適化したら"
   ]
  },
  {
   "cell_type": "code",
   "execution_count": 42,
   "metadata": {},
   "outputs": [
    {
     "name": "stderr",
     "output_type": "stream",
     "text": [
      "[I 2025-02-24 20:45:23,310] A new study created in memory with name: no-name-b68ff769-939b-43ac-aef8-9db45ca1a924\n",
      "[I 2025-02-24 20:45:23,852] Trial 0 finished with value: 1393.7081298828 and parameters: {'炭素': 0.09, 'マンガン': 1.3980000000000001, 'ケイ素': 4.748, 'クロム': 4.178, 'ニッケル': 23.098, 'モリブデン': 9.146, 'バナジウム': 3.75, '窒素': 0.18, 'ニオブ': 2.54, 'コバルト': 5.638, 'タングステン': 3.5500000000000003, 'アルミニウム': 1.548, 'チタン': 0.3}. Best is trial 0 with value: 1393.7081298828.\n",
      "[I 2025-02-24 20:45:24,387] Trial 1 finished with value: 2145.5375976562 and parameters: {'炭素': 0.18, 'マンガン': 3.5380000000000003, 'ケイ素': 4.308, 'クロム': 6.378, 'ニッケル': 4.508, 'モリブデン': 4.976, 'バナジウム': 2.5300000000000002, '窒素': 0.06, 'ニオブ': 1.98, 'コバルト': 15.517999999999999, 'タングステン': 4.19, 'アルミニウム': 1.988, 'チタン': 2.59}. Best is trial 1 with value: 2145.5375976562.\n",
      "[I 2025-02-24 20:45:24,859] Trial 2 finished with value: 2116.8862304688 and parameters: {'炭素': 0.42, 'マンガン': 2.708, 'ケイ素': 4.158, 'クロム': 9.607999999999999, 'ニッケル': 12.218, 'モリブデン': 7.816, 'バナジウム': 2.5300000000000002, '窒素': 0.02, 'ニオブ': 2.85, 'コバルト': 10.718, 'タングステン': 10.28, 'アルミニウム': 0.928, 'チタン': 1.16}. Best is trial 1 with value: 2145.5375976562.\n",
      "[I 2025-02-24 20:45:25,788] Trial 3 finished with value: 2193.5466308594 and parameters: {'炭素': 0.11, 'マンガン': 2.878, 'ケイ素': 4.428, 'クロム': 4.918, 'ニッケル': 14.097999999999999, 'モリブデン': 3.7760000000000002, 'バナジウム': 2.44, '窒素': 0.0, 'ニオブ': 2.4, 'コバルト': 9.398, 'タングステン': 6.23, 'アルミニウム': 1.238, 'チタン': 2.48}. Best is trial 3 with value: 2193.5466308594.\n",
      "[I 2025-02-24 20:45:26,306] Trial 4 finished with value: 2224.9516601562 and parameters: {'炭素': 0.15, 'マンガン': 3.458, 'ケイ素': 3.7880000000000003, 'クロム': 7.348, 'ニッケル': 3.958, 'モリブデン': 6.396, 'バナジウム': 2.84, '窒素': 0.09, 'ニオブ': 1.72, 'コバルト': 10.597999999999999, 'タングステン': 6.59, 'アルミニウム': 1.418, 'チタン': 1.71}. Best is trial 4 with value: 2224.9516601562.\n",
      "[I 2025-02-24 20:45:26,723] Trial 5 finished with value: 2252.1254882812 and parameters: {'炭素': 0.07, 'マンガン': 3.368, 'ケイ素': 4.498, 'クロム': 6.168, 'ニッケル': 19.008, 'モリブデン': 2.786, 'バナジウム': 2.64, '窒素': 0.04, 'ニオブ': 1.96, 'コバルト': 10.008, 'タングステン': 3.71, 'アルミニウム': 1.338, 'チタン': 2.68}. Best is trial 5 with value: 2252.1254882812.\n",
      "[I 2025-02-24 20:45:27,139] Trial 6 finished with value: 2065.0581054688 and parameters: {'炭素': 0.1, 'マンガン': 3.358, 'ケイ素': 3.948, 'クロム': 2.5180000000000002, 'ニッケル': 1.6480000000000001, 'モリブデン': 4.506, 'バナジウム': 3.56, '窒素': 0.05, 'ニオブ': 1.71, 'コバルト': 19.288, 'タングステン': 4.5, 'アルミニウム': 1.288, 'チタン': 2.05}. Best is trial 5 with value: 2252.1254882812.\n",
      "[I 2025-02-24 20:45:27,552] Trial 7 finished with value: 2049.7966308594 and parameters: {'炭素': 0.1, 'マンガン': 3.098, 'ケイ素': 3.478, 'クロム': 8.357999999999999, 'ニッケル': 4.938, 'モリブデン': 5.056, 'バナジウム': 2.44, '窒素': 0.06, 'ニオブ': 2.5100000000000002, 'コバルト': 16.137999999999998, 'タングステン': 2.29, 'アルミニウム': 0.888, 'チタン': 2.88}. Best is trial 5 with value: 2252.1254882812.\n",
      "[I 2025-02-24 20:45:28,145] Trial 8 finished with value: 2057.9106445312 and parameters: {'炭素': 0.18, 'マンガン': 2.408, 'ケイ素': 3.348, 'クロム': 4.978, 'ニッケル': 14.658, 'モリブデン': 4.886, 'バナジウム': 2.86, '窒素': 0.06, 'ニオブ': 2.77, 'コバルト': 9.697999999999999, 'タングステン': 8.8, 'アルミニウム': 0.378, 'チタン': 2.31}. Best is trial 5 with value: 2252.1254882812.\n",
      "[I 2025-02-24 20:45:28,670] Trial 9 finished with value: 2183.7333984375 and parameters: {'炭素': 0.04, 'マンガン': 3.098, 'ケイ素': 3.128, 'クロム': 8.378, 'ニッケル': 10.078, 'モリブデン': 3.286, 'バナジウム': 2.77, '窒素': 0.03, 'ニオブ': 1.85, 'コバルト': 15.038, 'タングステン': 4.65, 'アルミニウム': 0.978, 'チタン': 2.0100000000000002}. Best is trial 5 with value: 2252.1254882812.\n",
      "[I 2025-02-24 20:45:29,202] Trial 10 finished with value: 2272.8359375 and parameters: {'炭素': 0.09, 'マンガン': 2.688, 'ケイ素': 4.6080000000000005, 'クロム': 8.828, 'ニッケル': 7.2780000000000005, 'モリブデン': 2.066, 'バナジウム': 2.5500000000000003, '窒素': 0.0, 'ニオブ': 1.97, 'コバルト': 16.838, 'タングステン': 2.68, 'アルミニウム': 1.478, 'チタン': 2.97}. Best is trial 10 with value: 2272.8359375.\n",
      "[I 2025-02-24 20:45:29,802] Trial 11 finished with value: 2024.9868164062 and parameters: {'炭素': 0.08, 'マンガン': 2.658, 'ケイ素': 2.758, 'クロム': 6.428, 'ニッケル': 13.617999999999999, 'モリブデン': 7.016, 'バナジウム': 4.3, '窒素': 0.08, 'ニオブ': 2.27, 'コバルト': 12.468, 'タングステン': 7.17, 'アルミニウム': 0.6980000000000001, 'チタン': 2.16}. Best is trial 10 with value: 2272.8359375.\n",
      "[I 2025-02-24 20:45:30,342] Trial 12 finished with value: 2318.7434082031 and parameters: {'炭素': 0.33, 'マンガン': 3.5580000000000003, 'ケイ素': 4.098, 'クロム': 7.628, 'ニッケル': 2.868, 'モリブデン': 4.306, 'バナジウム': 3.0700000000000003, '窒素': 0.03, 'ニオブ': 2.31, 'コバルト': 11.898, 'タングステン': 9.16, 'アルミニウム': 1.1380000000000001, 'チタン': 1.56}. Best is trial 12 with value: 2318.7434082031.\n",
      "[I 2025-02-24 20:45:30,868] Trial 13 finished with value: 2206.5561523438 and parameters: {'炭素': 0.15, 'マンガン': 3.088, 'ケイ素': 4.988, 'クロム': 9.708, 'ニッケル': 14.318, 'モリブデン': 3.0060000000000002, 'バナジウム': 2.85, '窒素': 0.02, 'ニオブ': 2.11, 'コバルト': 13.508, 'タングステン': 4.46, 'アルミニウム': 1.038, 'チタン': 2.97}. Best is trial 12 with value: 2318.7434082031.\n",
      "[I 2025-02-24 20:45:31,276] Trial 14 finished with value: 2063.4643554688 and parameters: {'炭素': 0.18, 'マンガン': 2.278, 'ケイ素': 3.158, 'クロム': 7.768, 'ニッケル': 14.437999999999999, 'モリブデン': 4.0760000000000005, 'バナジウム': 2.82, '窒素': 0.03, 'ニオブ': 2.42, 'コバルト': 7.578, 'タングステン': 6.75, 'アルミニウム': 0.8380000000000001, 'チタン': 2.52}. Best is trial 12 with value: 2318.7434082031.\n",
      "[I 2025-02-24 20:45:32,153] Trial 15 finished with value: 2234.1315917969 and parameters: {'炭素': 0.38, 'マンガン': 3.5780000000000003, 'ケイ素': 4.258, 'クロム': 4.878, 'ニッケル': 6.498, 'モリブデン': 5.976, 'バナジウム': 2.48, '窒素': 0.01, 'ニオブ': 2.68, 'コバルト': 14.838, 'タングステン': 8.52, 'アルミニウム': 1.358, 'チタン': 2.6}. Best is trial 12 with value: 2318.7434082031.\n",
      "[I 2025-02-24 20:45:32,675] Trial 16 finished with value: 2113.3107910156 and parameters: {'炭素': 0.19, 'マンガン': 3.028, 'ケイ素': 5.098, 'クロム': 5.888, 'ニッケル': 5.158, 'モリブデン': 5.356, 'バナジウム': 2.95, '窒素': 0.08, 'ニオブ': 2.06, 'コバルト': 11.508, 'タングステン': 6.65, 'アルミニウム': 1.258, 'チタン': 1.74}. Best is trial 12 with value: 2318.7434082031.\n",
      "[I 2025-02-24 20:45:33,199] Trial 17 finished with value: 2415.2807617188 and parameters: {'炭素': 0.1, 'マンガン': 2.898, 'ケイ素': 4.578, 'クロム': 5.718, 'ニッケル': 15.808, 'モリブデン': 3.606, 'バナジウム': 2.18, '窒素': 0.01, 'ニオブ': 2.52, 'コバルト': 11.668, 'タングステン': 6.53, 'アルミニウム': 1.318, 'チタン': 2.92}. Best is trial 17 with value: 2415.2807617188.\n",
      "[I 2025-02-24 20:45:33,711] Trial 18 finished with value: 2188.7624511719 and parameters: {'炭素': 0.16, 'マンガン': 2.7880000000000003, 'ケイ素': 4.758, 'クロム': 7.078, 'ニッケル': 13.527999999999999, 'モリブデン': 5.0760000000000005, 'バナジウム': 3.56, '窒素': 0.06, 'ニオブ': 2.68, 'コバルト': 14.607999999999999, 'タングステン': 6.15, 'アルミニウム': 1.258, 'チタン': 2.7}. Best is trial 17 with value: 2415.2807617188.\n",
      "[I 2025-02-24 20:45:34,118] Trial 19 finished with value: 2117.1799316406 and parameters: {'炭素': 0.09, 'マンガン': 2.948, 'ケイ素': 4.658, 'クロム': 4.988, 'ニッケル': 14.628, 'モリブデン': 2.766, 'バナジウム': 2.02, '窒素': 0.03, 'ニオブ': 1.96, 'コバルト': 14.277999999999999, 'タングステン': 7.05, 'アルミニウム': 0.9480000000000001, 'チタン': 2.0300000000000002}. Best is trial 17 with value: 2415.2807617188.\n",
      "[I 2025-02-24 20:45:34,528] Trial 20 finished with value: 2249.0627441406 and parameters: {'炭素': 0.25, 'マンガン': 2.908, 'ケイ素': 4.058, 'クロム': 4.478, 'ニッケル': 10.728, 'モリブデン': 4.386, 'バナジウム': 2.58, '窒素': 0.02, 'ニオブ': 2.2600000000000002, 'コバルト': 14.478, 'タングステン': 6.3100000000000005, 'アルミニウム': 1.478, 'チタン': 2.67}. Best is trial 17 with value: 2415.2807617188.\n",
      "[I 2025-02-24 20:45:35,043] Trial 21 finished with value: 2071.8171386719 and parameters: {'炭素': 0.12, 'マンガン': 2.818, 'ケイ素': 5.238, 'クロム': 10.388, 'ニッケル': 9.228, 'モリブデン': 4.406, 'バナジウム': 2.3000000000000003, '窒素': 0.07, 'ニオブ': 1.87, 'コバルト': 11.017999999999999, 'タングステン': 3.46, 'アルミニウム': 1.048, 'チタン': 2.17}. Best is trial 17 with value: 2415.2807617188.\n",
      "[I 2025-02-24 20:45:35,713] Trial 22 finished with value: 2096.0361328125 and parameters: {'炭素': 0.12, 'マンガン': 3.548, 'ケイ素': 4.628, 'クロム': 4.678, 'ニッケル': 4.218, 'モリブデン': 4.986, 'バナジウム': 2.59, '窒素': 0.04, 'ニオブ': 1.6600000000000001, 'コバルト': 17.067999999999998, 'タングステン': 3.2, 'アルミニウム': 1.618, 'チタン': 2.67}. Best is trial 17 with value: 2415.2807617188.\n",
      "[I 2025-02-24 20:45:36,236] Trial 23 finished with value: 2191.0031738281 and parameters: {'炭素': 0.18, 'マンガン': 3.598, 'ケイ素': 4.538, 'クロム': 7.098, 'ニッケル': 3.5780000000000003, 'モリブデン': 5.2860000000000005, 'バナジウム': 3.11, '窒素': 0.07, 'ニオブ': 1.73, 'コバルト': 17.778, 'タングステン': 4.19, 'アルミニウム': 1.308, 'チタン': 2.2}. Best is trial 17 with value: 2415.2807617188.\n",
      "[I 2025-02-24 20:45:36,759] Trial 24 finished with value: 2271.00390625 and parameters: {'炭素': 0.07, 'マンガン': 2.968, 'ケイ素': 4.578, 'クロム': 7.298, 'ニッケル': 9.648, 'モリブデン': 3.0860000000000003, 'バナジウム': 2.38, '窒素': 0.03, 'ニオブ': 1.82, 'コバルト': 17.067999999999998, 'タングステン': 4.0200000000000005, 'アルミニウム': 1.238, 'チタン': 2.91}. Best is trial 17 with value: 2415.2807617188.\n",
      "[I 2025-02-24 20:45:37,358] Trial 25 finished with value: 2205.529296875 and parameters: {'炭素': 0.37, 'マンガン': 3.378, 'ケイ素': 3.948, 'クロム': 7.118, 'ニッケル': 8.947999999999999, 'モリブデン': 4.846, 'バナジウム': 2.5100000000000002, '窒素': 0.02, 'ニオブ': 2.77, 'コバルト': 11.878, 'タングステン': 10.4, 'アルミニウム': 1.088, 'チタン': 1.83}. Best is trial 17 with value: 2415.2807617188.\n",
      "[I 2025-02-24 20:45:37,773] Trial 26 finished with value: 2162.0539550781 and parameters: {'炭素': 0.3, 'マンガン': 2.8080000000000003, 'ケイ素': 4.728, 'クロム': 4.488, 'ニッケル': 10.017999999999999, 'モリブデン': 4.756, 'バナジウム': 3.5300000000000002, '窒素': 0.03, 'ニオブ': 2.42, 'コバルト': 11.718, 'タングステン': 7.15, 'アルミニウム': 1.1480000000000001, 'チタン': 2.73}. Best is trial 17 with value: 2415.2807617188.\n",
      "[I 2025-02-24 20:45:38,287] Trial 27 finished with value: 2240.3330078125 and parameters: {'炭素': 0.22, 'マンガン': 3.188, 'ケイ素': 4.048, 'クロム': 4.678, 'ニッケル': 7.958, 'モリブデン': 1.466, 'バナジウム': 2.71, '窒素': 0.0, 'ニオブ': 1.98, 'コバルト': 13.378, 'タングステン': 6.46, 'アルミニウム': 1.548, 'チタン': 2.48}. Best is trial 17 with value: 2415.2807617188.\n",
      "[I 2025-02-24 20:45:38,818] Trial 28 finished with value: 2106.1159667969 and parameters: {'炭素': 0.25, 'マンガン': 3.488, 'ケイ素': 4.538, 'クロム': 3.098, 'ニッケル': 10.738, 'モリブデン': 4.216, 'バナジウム': 2.5300000000000002, '窒素': 0.02, 'ニオブ': 2.44, 'コバルト': 8.687999999999999, 'タングステン': 9.35, 'アルミニウム': 1.188, 'チタン': 2.24}. Best is trial 17 with value: 2415.2807617188.\n",
      "[I 2025-02-24 20:45:39,388] Trial 29 finished with value: 2154.3664550781 and parameters: {'炭素': 0.35000000000000003, 'マンガン': 3.198, 'ケイ素': 4.338, 'クロム': 7.0680000000000005, 'ニッケル': 12.597999999999999, 'モリブデン': 4.246, 'バナジウム': 2.7600000000000002, '窒素': 0.02, 'ニオブ': 2.47, 'コバルト': 8.548, 'タングステン': 9.07, 'アルミニウム': 0.928, 'チタン': 1.93}. Best is trial 17 with value: 2415.2807617188.\n",
      "[I 2025-02-24 20:45:40,015] Trial 30 finished with value: 2315.7104492188 and parameters: {'炭素': 0.21, 'マンガン': 2.698, 'ケイ素': 4.788, 'クロム': 5.208, 'ニッケル': 17.088, 'モリブデン': 5.706, 'バナジウム': 2.4, '窒素': 0.04, 'ニオブ': 2.3000000000000003, 'コバルト': 11.197999999999999, 'タングステン': 8.24, 'アルミニウム': 1.188, 'チタン': 2.95}. Best is trial 17 with value: 2415.2807617188.\n",
      "[I 2025-02-24 20:45:40,544] Trial 31 finished with value: 2218.8425292969 and parameters: {'炭素': 0.12, 'マンガン': 3.168, 'ケイ素': 4.338, 'クロム': 7.258, 'ニッケル': 14.197999999999999, 'モリブデン': 3.606, 'バナジウム': 2.62, '窒素': 0.02, 'ニオブ': 2.3000000000000003, 'コバルト': 9.117999999999999, 'タングステン': 6.45, 'アルミニウム': 1.208, 'チタン': 2.93}. Best is trial 17 with value: 2415.2807617188.\n",
      "[I 2025-02-24 20:45:41,076] Trial 32 finished with value: 2277.5085449219 and parameters: {'炭素': 0.22, 'マンガン': 2.878, 'ケイ素': 4.448, 'クロム': 1.548, 'ニッケル': 11.708, 'モリブデン': 3.096, 'バナジウム': 3.0300000000000002, '窒素': 0.0, 'ニオブ': 2.5300000000000002, 'コバルト': 12.968, 'タングステン': 7.72, 'アルミニウム': 1.368, 'チタン': 2.19}. Best is trial 17 with value: 2415.2807617188.\n",
      "[I 2025-02-24 20:45:41,668] Trial 33 finished with value: 2290.5700683594 and parameters: {'炭素': 0.18, 'マンガン': 2.598, 'ケイ素': 5.418, 'クロム': 6.638, 'ニッケル': 14.697999999999999, 'モリブデン': 3.406, 'バナジウム': 2.06, '窒素': 0.0, 'ニオブ': 2.16, 'コバルト': 13.808, 'タングステン': 5.65, 'アルミニウム': 1.168, 'チタン': 2.57}. Best is trial 17 with value: 2415.2807617188.\n",
      "[I 2025-02-24 20:45:42,248] Trial 34 finished with value: 2115.7307128906 and parameters: {'炭素': 0.38, 'マンガン': 3.138, 'ケイ素': 4.938, 'クロム': 5.018, 'ニッケル': 11.668, 'モリブデン': 5.596, 'バナジウム': 2.33, '窒素': 0.03, 'ニオブ': 2.58, 'コバルト': 10.508, 'タングステン': 10.97, 'アルミニウム': 1.038, 'チタン': 2.29}. Best is trial 17 with value: 2415.2807617188.\n",
      "[I 2025-02-24 20:45:42,690] Trial 35 finished with value: 2139.529296875 and parameters: {'炭素': 0.22, 'マンガン': 2.528, 'ケイ素': 5.1080000000000005, 'クロム': 4.888, 'ニッケル': 10.027999999999999, 'モリブデン': 5.466, 'バナジウム': 2.05, '窒素': 0.04, 'ニオブ': 2.07, 'コバルト': 13.728, 'タングステン': 7.15, 'アルミニウム': 1.458, 'チタン': 2.7}. Best is trial 17 with value: 2415.2807617188.\n",
      "[I 2025-02-24 20:45:43,444] Trial 36 finished with value: 2427.6352539062 and parameters: {'炭素': 0.12, 'マンガン': 2.658, 'ケイ素': 4.208, 'クロム': 3.008, 'ニッケル': 16.558, 'モリブデン': 4.306, 'バナジウム': 2.64, '窒素': 0.0, 'ニオブ': 2.25, 'コバルト': 11.048, 'タングステン': 6.41, 'アルミニウム': 1.238, 'チタン': 2.69}. Best is trial 36 with value: 2427.6352539062.\n",
      "[I 2025-02-24 20:45:44,019] Trial 37 finished with value: 2225.0354003906 and parameters: {'炭素': 0.12, 'マンガン': 2.588, 'ケイ素': 5.268, 'クロム': 5.448, 'ニッケル': 13.117999999999999, 'モリブデン': 4.116, 'バナジウム': 2.47, '窒素': 0.07, 'ニオブ': 1.99, 'コバルト': 15.988, 'タングステン': 3.44, 'アルミニウム': 1.498, 'チタン': 2.7}. Best is trial 36 with value: 2427.6352539062.\n",
      "[I 2025-02-24 20:45:44,691] Trial 38 finished with value: 2009.3172607422 and parameters: {'炭素': 0.1, 'マンガン': 2.5580000000000003, 'ケイ素': 4.688, 'クロム': 5.7780000000000005, 'ニッケル': 10.357999999999999, 'モリブデン': 5.236, 'バナジウム': 2.35, '窒素': 0.03, 'ニオブ': 1.29, 'コバルト': 14.197999999999999, 'タングステン': 7.07, 'アルミニウム': 1.018, 'チタン': 2.44}. Best is trial 36 with value: 2427.6352539062.\n",
      "[I 2025-02-24 20:45:45,208] Trial 39 finished with value: 2092.2216796875 and parameters: {'炭素': 0.45, 'マンガン': 3.458, 'ケイ素': 4.918, 'クロム': 6.258, 'ニッケル': 4.148, 'モリブデン': 5.0760000000000005, 'バナジウム': 2.46, '窒素': 0.04, 'ニオブ': 2.27, 'コバルト': 12.488, 'タングステン': 9.89, 'アルミニウム': 0.9580000000000001, 'チタン': 1.97}. Best is trial 36 with value: 2427.6352539062.\n",
      "[I 2025-02-24 20:45:45,728] Trial 40 finished with value: 2168.0541992188 and parameters: {'炭素': 0.11, 'マンガン': 3.198, 'ケイ素': 4.828, 'クロム': 4.118, 'ニッケル': 9.058, 'モリブデン': 2.676, 'バナジウム': 2.24, '窒素': 0.03, 'ニオブ': 1.72, 'コバルト': 18.218, 'タングステン': 4.99, 'アルミニウム': 1.6380000000000001, 'チタン': 2.86}. Best is trial 36 with value: 2427.6352539062.\n",
      "[I 2025-02-24 20:45:46,735] Trial 41 finished with value: 2345.8288574219 and parameters: {'炭素': 0.12, 'マンガン': 2.908, 'ケイ素': 3.548, 'クロム': 6.8580000000000005, 'ニッケル': 20.328, 'モリブデン': 3.716, 'バナジウム': 2.63, '窒素': 0.0, 'ニオブ': 1.93, 'コバルト': 13.148, 'タングステン': 6.640000000000001, 'アルミニウム': 1.038, 'チタン': 2.7}. Best is trial 36 with value: 2427.6352539062.\n",
      "[I 2025-02-24 20:45:47,275] Trial 42 finished with value: 2237.2275390625 and parameters: {'炭素': 0.24, 'マンガン': 3.028, 'ケイ素': 4.798, 'クロム': 3.098, 'ニッケル': 10.097999999999999, 'モリブデン': 4.406, 'バナジウム': 1.97, '窒素': 0.02, 'ニオブ': 2.11, 'コバルト': 17.128, 'タングステン': 5.8100000000000005, 'アルミニウム': 1.328, 'チタン': 2.37}. Best is trial 36 with value: 2427.6352539062.\n",
      "[I 2025-02-24 20:45:47,799] Trial 43 finished with value: 2221.0349121094 and parameters: {'炭素': 0.4, 'マンガン': 2.638, 'ケイ素': 4.6080000000000005, 'クロム': 6.998, 'ニッケル': 7.518, 'モリブデン': 6.456, 'バナジウム': 2.19, '窒素': 0.02, 'ニオブ': 2.71, 'コバルト': 13.857999999999999, 'タングステン': 10.35, 'アルミニウム': 1.048, 'チタン': 1.97}. Best is trial 36 with value: 2427.6352539062.\n",
      "[I 2025-02-24 20:45:48,215] Trial 44 finished with value: 2203.6413574219 and parameters: {'炭素': 0.3, 'マンガン': 3.358, 'ケイ素': 5.198, 'クロム': 4.868, 'ニッケル': 10.947999999999999, 'モリブデン': 4.986, 'バナジウム': 3.18, '窒素': 0.05, 'ニオブ': 2.32, 'コバルト': 11.898, 'タングステン': 6.05, 'アルミニウム': 1.538, 'チタン': 2.67}. Best is trial 36 with value: 2427.6352539062.\n",
      "[I 2025-02-24 20:45:48,623] Trial 45 finished with value: 2397.3088378906 and parameters: {'炭素': 0.24, 'マンガン': 2.828, 'ケイ素': 4.098, 'クロム': 1.698, 'ニッケル': 18.188, 'モリブデン': 4.046, 'バナジウム': 2.29, '窒素': 0.0, 'ニオブ': 2.36, 'コバルト': 11.838, 'タングステン': 6.78, 'アルミニウム': 1.468, 'チタン': 2.85}. Best is trial 36 with value: 2427.6352539062.\n",
      "[I 2025-02-24 20:45:49,521] Trial 46 finished with value: 2155.6127929688 and parameters: {'炭素': 0.29, 'マンガン': 2.778, 'ケイ素': 3.988, 'クロム': 3.318, 'ニッケル': 10.838, 'モリブデン': 5.216, 'バナジウム': 3.0500000000000003, '窒素': 0.02, 'ニオブ': 2.56, 'コバルト': 11.148, 'タングステン': 8.38, 'アルミニウム': 1.188, 'チタン': 2.2}. Best is trial 36 with value: 2427.6352539062.\n",
      "[I 2025-02-24 20:45:50,052] Trial 47 finished with value: 2336.068359375 and parameters: {'炭素': 0.13, 'マンガン': 2.7880000000000003, 'ケイ素': 4.088, 'クロム': 4.198, 'ニッケル': 21.128, 'モリブデン': 3.5060000000000002, 'バナジウム': 3.49, '窒素': 0.0, 'ニオブ': 1.79, 'コバルト': 16.518, 'タングステン': 4.3, 'アルミニウム': 1.218, 'チタン': 2.98}. Best is trial 36 with value: 2427.6352539062.\n",
      "[I 2025-02-24 20:45:50,476] Trial 48 finished with value: 2336.01171875 and parameters: {'炭素': 0.09, 'マンガン': 2.688, 'ケイ素': 3.648, 'クロム': 6.7780000000000005, 'ニッケル': 24.828, 'モリブデン': 4.266, 'バナジウム': 2.5, '窒素': 0.03, 'ニオブ': 1.6600000000000001, 'コバルト': 10.628, 'タングステン': 5.96, 'アルミニウム': 1.068, 'チタン': 2.48}. Best is trial 36 with value: 2427.6352539062.\n",
      "[I 2025-02-24 20:45:51,004] Trial 49 finished with value: 2340.7426757812 and parameters: {'炭素': 0.24, 'マンガン': 2.678, 'ケイ素': 3.728, 'クロム': 5.8580000000000005, 'ニッケル': 15.148, 'モリブデン': 5.8260000000000005, 'バナジウム': 2.9, '窒素': 0.0, 'ニオブ': 2.39, 'コバルト': 12.258, 'タングステン': 10.07, 'アルミニウム': 1.018, 'チタン': 2.14}. Best is trial 36 with value: 2427.6352539062.\n",
      "[I 2025-02-24 20:45:51,520] Trial 50 finished with value: 2146.2202148438 and parameters: {'炭素': 0.41000000000000003, 'マンガン': 3.198, 'ケイ素': 4.238, 'クロム': 6.008, 'ニッケル': 9.798, 'モリブデン': 6.126, 'バナジウム': 2.81, '窒素': 0.01, 'ニオブ': 2.67, 'コバルト': 9.338, 'タングステン': 10.94, 'アルミニウム': 0.638, 'チタン': 1.83}. Best is trial 36 with value: 2427.6352539062.\n",
      "[I 2025-02-24 20:45:52,100] Trial 51 finished with value: 2024.6256103516 and parameters: {'炭素': 0.15, 'マンガン': 3.0780000000000003, 'ケイ素': 3.868, 'クロム': 6.3580000000000005, 'ニッケル': 9.777999999999999, 'モリブデン': 5.256, 'バナジウム': 2.64, '窒素': 0.05, 'ニオブ': 1.81, 'コバルト': 10.238, 'タングステン': 5.63, 'アルミニウム': 0.918, 'チタン': 2.23}. Best is trial 36 with value: 2427.6352539062.\n",
      "[I 2025-02-24 20:45:52,536] Trial 52 finished with value: 2412.9899902344 and parameters: {'炭素': 0.1, 'マンガン': 2.898, 'ケイ素': 4.678, 'クロム': 6.128, 'ニッケル': 17.358, 'モリブデン': 2.596, 'バナジウム': 1.81, '窒素': 0.0, 'ニオブ': 1.42, 'コバルト': 14.277999999999999, 'タングステン': 4.51, 'アルミニウム': 1.308, 'チタン': 2.79}. Best is trial 36 with value: 2427.6352539062.\n",
      "[I 2025-02-24 20:45:53,400] Trial 53 finished with value: 2211.9497070312 and parameters: {'炭素': 0.24, 'マンガン': 3.438, 'ケイ素': 4.138, 'クロム': 5.298, 'ニッケル': 13.388, 'モリブデン': 6.406000000000001, 'バナジウム': 2.15, '窒素': 0.03, 'ニオブ': 2.19, 'コバルト': 15.367999999999999, 'タングステン': 7.87, 'アルミニウム': 1.068, 'チタン': 2.49}. Best is trial 36 with value: 2427.6352539062.\n"
     ]
    },
    {
     "name": "stdout",
     "output_type": "stream",
     "text": [
      "CPU times: user 4.2 s, sys: 187 ms, total: 4.39 s\n",
      "Wall time: 30.2 s\n"
     ]
    }
   ],
   "source": [
    "%%time\n",
    "# TPE Samplerの結果を既知の結果として投入\n",
    "sampler = optuna.samplers.CmaEsSampler(seed=seed, source_trials=trails_bk)\n",
    "study = optuna.create_study(direction=\"maximize\", sampler=sampler)\n",
    "study.optimize(objective, timeout=timeout, gc_after_trial=True)"
   ]
  },
  {
   "cell_type": "code",
   "execution_count": null,
   "metadata": {},
   "outputs": [
    {
     "data": {
      "application/vnd.plotly.v1+json": {
       "config": {
        "plotlyServerURL": "https://plot.ly"
       },
       "data": [
        {
         "mode": "markers",
         "name": "Objective Value",
         "type": "scatter",
         "x": [
          0,
          1,
          2,
          3,
          4,
          5,
          6,
          7,
          8,
          9,
          10,
          11,
          12,
          13,
          14,
          15,
          16,
          17,
          18,
          19,
          20,
          21,
          22,
          23,
          24,
          25,
          26,
          27,
          28,
          29,
          30,
          31,
          32,
          33,
          34,
          35,
          36,
          37,
          38,
          39,
          40,
          41,
          42,
          43,
          44,
          45,
          46,
          47,
          48,
          49,
          50,
          51,
          52,
          53
         ],
         "y": [
          1393.7081298828,
          2145.5375976562,
          2116.8862304688,
          2193.5466308594,
          2224.9516601562,
          2252.1254882812,
          2065.0581054688,
          2049.7966308594,
          2057.9106445312,
          2183.7333984375,
          2272.8359375,
          2024.9868164062,
          2318.7434082031,
          2206.5561523438,
          2063.4643554688,
          2234.1315917969,
          2113.3107910156,
          2415.2807617188,
          2188.7624511719,
          2117.1799316406,
          2249.0627441406,
          2071.8171386719,
          2096.0361328125,
          2191.0031738281,
          2271.00390625,
          2205.529296875,
          2162.0539550781,
          2240.3330078125,
          2106.1159667969,
          2154.3664550781,
          2315.7104492188,
          2218.8425292969,
          2277.5085449219,
          2290.5700683594,
          2115.7307128906,
          2139.529296875,
          2427.6352539062,
          2225.0354003906,
          2009.3172607422,
          2092.2216796875,
          2168.0541992188,
          2345.8288574219,
          2237.2275390625,
          2221.0349121094,
          2203.6413574219,
          2397.3088378906,
          2155.6127929688,
          2336.068359375,
          2336.01171875,
          2340.7426757812,
          2146.2202148438,
          2024.6256103516,
          2412.9899902344,
          2211.9497070312
         ]
        },
        {
         "mode": "lines",
         "name": "Best Value",
         "type": "scatter",
         "x": [
          0,
          1,
          2,
          3,
          4,
          5,
          6,
          7,
          8,
          9,
          10,
          11,
          12,
          13,
          14,
          15,
          16,
          17,
          18,
          19,
          20,
          21,
          22,
          23,
          24,
          25,
          26,
          27,
          28,
          29,
          30,
          31,
          32,
          33,
          34,
          35,
          36,
          37,
          38,
          39,
          40,
          41,
          42,
          43,
          44,
          45,
          46,
          47,
          48,
          49,
          50,
          51,
          52,
          53
         ],
         "y": [
          1393.7081298828,
          2145.5375976562,
          2145.5375976562,
          2193.5466308594,
          2224.9516601562,
          2252.1254882812,
          2252.1254882812,
          2252.1254882812,
          2252.1254882812,
          2252.1254882812,
          2272.8359375,
          2272.8359375,
          2318.7434082031,
          2318.7434082031,
          2318.7434082031,
          2318.7434082031,
          2318.7434082031,
          2415.2807617188,
          2415.2807617188,
          2415.2807617188,
          2415.2807617188,
          2415.2807617188,
          2415.2807617188,
          2415.2807617188,
          2415.2807617188,
          2415.2807617188,
          2415.2807617188,
          2415.2807617188,
          2415.2807617188,
          2415.2807617188,
          2415.2807617188,
          2415.2807617188,
          2415.2807617188,
          2415.2807617188,
          2415.2807617188,
          2415.2807617188,
          2427.6352539062,
          2427.6352539062,
          2427.6352539062,
          2427.6352539062,
          2427.6352539062,
          2427.6352539062,
          2427.6352539062,
          2427.6352539062,
          2427.6352539062,
          2427.6352539062,
          2427.6352539062,
          2427.6352539062,
          2427.6352539062,
          2427.6352539062,
          2427.6352539062,
          2427.6352539062,
          2427.6352539062,
          2427.6352539062
         ]
        },
        {
         "marker": {
          "color": "#cccccc"
         },
         "mode": "markers",
         "name": "Infeasible Trial",
         "showlegend": false,
         "type": "scatter",
         "x": [],
         "y": []
        }
       ],
       "layout": {
        "template": {
         "data": {
          "bar": [
           {
            "error_x": {
             "color": "#2a3f5f"
            },
            "error_y": {
             "color": "#2a3f5f"
            },
            "marker": {
             "line": {
              "color": "#E5ECF6",
              "width": 0.5
             },
             "pattern": {
              "fillmode": "overlay",
              "size": 10,
              "solidity": 0.2
             }
            },
            "type": "bar"
           }
          ],
          "barpolar": [
           {
            "marker": {
             "line": {
              "color": "#E5ECF6",
              "width": 0.5
             },
             "pattern": {
              "fillmode": "overlay",
              "size": 10,
              "solidity": 0.2
             }
            },
            "type": "barpolar"
           }
          ],
          "carpet": [
           {
            "aaxis": {
             "endlinecolor": "#2a3f5f",
             "gridcolor": "white",
             "linecolor": "white",
             "minorgridcolor": "white",
             "startlinecolor": "#2a3f5f"
            },
            "baxis": {
             "endlinecolor": "#2a3f5f",
             "gridcolor": "white",
             "linecolor": "white",
             "minorgridcolor": "white",
             "startlinecolor": "#2a3f5f"
            },
            "type": "carpet"
           }
          ],
          "choropleth": [
           {
            "colorbar": {
             "outlinewidth": 0,
             "ticks": ""
            },
            "type": "choropleth"
           }
          ],
          "contour": [
           {
            "colorbar": {
             "outlinewidth": 0,
             "ticks": ""
            },
            "colorscale": [
             [
              0,
              "#0d0887"
             ],
             [
              0.1111111111111111,
              "#46039f"
             ],
             [
              0.2222222222222222,
              "#7201a8"
             ],
             [
              0.3333333333333333,
              "#9c179e"
             ],
             [
              0.4444444444444444,
              "#bd3786"
             ],
             [
              0.5555555555555556,
              "#d8576b"
             ],
             [
              0.6666666666666666,
              "#ed7953"
             ],
             [
              0.7777777777777778,
              "#fb9f3a"
             ],
             [
              0.8888888888888888,
              "#fdca26"
             ],
             [
              1,
              "#f0f921"
             ]
            ],
            "type": "contour"
           }
          ],
          "contourcarpet": [
           {
            "colorbar": {
             "outlinewidth": 0,
             "ticks": ""
            },
            "type": "contourcarpet"
           }
          ],
          "heatmap": [
           {
            "colorbar": {
             "outlinewidth": 0,
             "ticks": ""
            },
            "colorscale": [
             [
              0,
              "#0d0887"
             ],
             [
              0.1111111111111111,
              "#46039f"
             ],
             [
              0.2222222222222222,
              "#7201a8"
             ],
             [
              0.3333333333333333,
              "#9c179e"
             ],
             [
              0.4444444444444444,
              "#bd3786"
             ],
             [
              0.5555555555555556,
              "#d8576b"
             ],
             [
              0.6666666666666666,
              "#ed7953"
             ],
             [
              0.7777777777777778,
              "#fb9f3a"
             ],
             [
              0.8888888888888888,
              "#fdca26"
             ],
             [
              1,
              "#f0f921"
             ]
            ],
            "type": "heatmap"
           }
          ],
          "histogram": [
           {
            "marker": {
             "pattern": {
              "fillmode": "overlay",
              "size": 10,
              "solidity": 0.2
             }
            },
            "type": "histogram"
           }
          ],
          "histogram2d": [
           {
            "colorbar": {
             "outlinewidth": 0,
             "ticks": ""
            },
            "colorscale": [
             [
              0,
              "#0d0887"
             ],
             [
              0.1111111111111111,
              "#46039f"
             ],
             [
              0.2222222222222222,
              "#7201a8"
             ],
             [
              0.3333333333333333,
              "#9c179e"
             ],
             [
              0.4444444444444444,
              "#bd3786"
             ],
             [
              0.5555555555555556,
              "#d8576b"
             ],
             [
              0.6666666666666666,
              "#ed7953"
             ],
             [
              0.7777777777777778,
              "#fb9f3a"
             ],
             [
              0.8888888888888888,
              "#fdca26"
             ],
             [
              1,
              "#f0f921"
             ]
            ],
            "type": "histogram2d"
           }
          ],
          "histogram2dcontour": [
           {
            "colorbar": {
             "outlinewidth": 0,
             "ticks": ""
            },
            "colorscale": [
             [
              0,
              "#0d0887"
             ],
             [
              0.1111111111111111,
              "#46039f"
             ],
             [
              0.2222222222222222,
              "#7201a8"
             ],
             [
              0.3333333333333333,
              "#9c179e"
             ],
             [
              0.4444444444444444,
              "#bd3786"
             ],
             [
              0.5555555555555556,
              "#d8576b"
             ],
             [
              0.6666666666666666,
              "#ed7953"
             ],
             [
              0.7777777777777778,
              "#fb9f3a"
             ],
             [
              0.8888888888888888,
              "#fdca26"
             ],
             [
              1,
              "#f0f921"
             ]
            ],
            "type": "histogram2dcontour"
           }
          ],
          "mesh3d": [
           {
            "colorbar": {
             "outlinewidth": 0,
             "ticks": ""
            },
            "type": "mesh3d"
           }
          ],
          "parcoords": [
           {
            "line": {
             "colorbar": {
              "outlinewidth": 0,
              "ticks": ""
             }
            },
            "type": "parcoords"
           }
          ],
          "pie": [
           {
            "automargin": true,
            "type": "pie"
           }
          ],
          "scatter": [
           {
            "fillpattern": {
             "fillmode": "overlay",
             "size": 10,
             "solidity": 0.2
            },
            "type": "scatter"
           }
          ],
          "scatter3d": [
           {
            "line": {
             "colorbar": {
              "outlinewidth": 0,
              "ticks": ""
             }
            },
            "marker": {
             "colorbar": {
              "outlinewidth": 0,
              "ticks": ""
             }
            },
            "type": "scatter3d"
           }
          ],
          "scattercarpet": [
           {
            "marker": {
             "colorbar": {
              "outlinewidth": 0,
              "ticks": ""
             }
            },
            "type": "scattercarpet"
           }
          ],
          "scattergeo": [
           {
            "marker": {
             "colorbar": {
              "outlinewidth": 0,
              "ticks": ""
             }
            },
            "type": "scattergeo"
           }
          ],
          "scattergl": [
           {
            "marker": {
             "colorbar": {
              "outlinewidth": 0,
              "ticks": ""
             }
            },
            "type": "scattergl"
           }
          ],
          "scattermap": [
           {
            "marker": {
             "colorbar": {
              "outlinewidth": 0,
              "ticks": ""
             }
            },
            "type": "scattermap"
           }
          ],
          "scattermapbox": [
           {
            "marker": {
             "colorbar": {
              "outlinewidth": 0,
              "ticks": ""
             }
            },
            "type": "scattermapbox"
           }
          ],
          "scatterpolar": [
           {
            "marker": {
             "colorbar": {
              "outlinewidth": 0,
              "ticks": ""
             }
            },
            "type": "scatterpolar"
           }
          ],
          "scatterpolargl": [
           {
            "marker": {
             "colorbar": {
              "outlinewidth": 0,
              "ticks": ""
             }
            },
            "type": "scatterpolargl"
           }
          ],
          "scatterternary": [
           {
            "marker": {
             "colorbar": {
              "outlinewidth": 0,
              "ticks": ""
             }
            },
            "type": "scatterternary"
           }
          ],
          "surface": [
           {
            "colorbar": {
             "outlinewidth": 0,
             "ticks": ""
            },
            "colorscale": [
             [
              0,
              "#0d0887"
             ],
             [
              0.1111111111111111,
              "#46039f"
             ],
             [
              0.2222222222222222,
              "#7201a8"
             ],
             [
              0.3333333333333333,
              "#9c179e"
             ],
             [
              0.4444444444444444,
              "#bd3786"
             ],
             [
              0.5555555555555556,
              "#d8576b"
             ],
             [
              0.6666666666666666,
              "#ed7953"
             ],
             [
              0.7777777777777778,
              "#fb9f3a"
             ],
             [
              0.8888888888888888,
              "#fdca26"
             ],
             [
              1,
              "#f0f921"
             ]
            ],
            "type": "surface"
           }
          ],
          "table": [
           {
            "cells": {
             "fill": {
              "color": "#EBF0F8"
             },
             "line": {
              "color": "white"
             }
            },
            "header": {
             "fill": {
              "color": "#C8D4E3"
             },
             "line": {
              "color": "white"
             }
            },
            "type": "table"
           }
          ]
         },
         "layout": {
          "annotationdefaults": {
           "arrowcolor": "#2a3f5f",
           "arrowhead": 0,
           "arrowwidth": 1
          },
          "autotypenumbers": "strict",
          "coloraxis": {
           "colorbar": {
            "outlinewidth": 0,
            "ticks": ""
           }
          },
          "colorscale": {
           "diverging": [
            [
             0,
             "#8e0152"
            ],
            [
             0.1,
             "#c51b7d"
            ],
            [
             0.2,
             "#de77ae"
            ],
            [
             0.3,
             "#f1b6da"
            ],
            [
             0.4,
             "#fde0ef"
            ],
            [
             0.5,
             "#f7f7f7"
            ],
            [
             0.6,
             "#e6f5d0"
            ],
            [
             0.7,
             "#b8e186"
            ],
            [
             0.8,
             "#7fbc41"
            ],
            [
             0.9,
             "#4d9221"
            ],
            [
             1,
             "#276419"
            ]
           ],
           "sequential": [
            [
             0,
             "#0d0887"
            ],
            [
             0.1111111111111111,
             "#46039f"
            ],
            [
             0.2222222222222222,
             "#7201a8"
            ],
            [
             0.3333333333333333,
             "#9c179e"
            ],
            [
             0.4444444444444444,
             "#bd3786"
            ],
            [
             0.5555555555555556,
             "#d8576b"
            ],
            [
             0.6666666666666666,
             "#ed7953"
            ],
            [
             0.7777777777777778,
             "#fb9f3a"
            ],
            [
             0.8888888888888888,
             "#fdca26"
            ],
            [
             1,
             "#f0f921"
            ]
           ],
           "sequentialminus": [
            [
             0,
             "#0d0887"
            ],
            [
             0.1111111111111111,
             "#46039f"
            ],
            [
             0.2222222222222222,
             "#7201a8"
            ],
            [
             0.3333333333333333,
             "#9c179e"
            ],
            [
             0.4444444444444444,
             "#bd3786"
            ],
            [
             0.5555555555555556,
             "#d8576b"
            ],
            [
             0.6666666666666666,
             "#ed7953"
            ],
            [
             0.7777777777777778,
             "#fb9f3a"
            ],
            [
             0.8888888888888888,
             "#fdca26"
            ],
            [
             1,
             "#f0f921"
            ]
           ]
          },
          "colorway": [
           "#636efa",
           "#EF553B",
           "#00cc96",
           "#ab63fa",
           "#FFA15A",
           "#19d3f3",
           "#FF6692",
           "#B6E880",
           "#FF97FF",
           "#FECB52"
          ],
          "font": {
           "color": "#2a3f5f"
          },
          "geo": {
           "bgcolor": "white",
           "lakecolor": "white",
           "landcolor": "#E5ECF6",
           "showlakes": true,
           "showland": true,
           "subunitcolor": "white"
          },
          "hoverlabel": {
           "align": "left"
          },
          "hovermode": "closest",
          "mapbox": {
           "style": "light"
          },
          "paper_bgcolor": "white",
          "plot_bgcolor": "#E5ECF6",
          "polar": {
           "angularaxis": {
            "gridcolor": "white",
            "linecolor": "white",
            "ticks": ""
           },
           "bgcolor": "#E5ECF6",
           "radialaxis": {
            "gridcolor": "white",
            "linecolor": "white",
            "ticks": ""
           }
          },
          "scene": {
           "xaxis": {
            "backgroundcolor": "#E5ECF6",
            "gridcolor": "white",
            "gridwidth": 2,
            "linecolor": "white",
            "showbackground": true,
            "ticks": "",
            "zerolinecolor": "white"
           },
           "yaxis": {
            "backgroundcolor": "#E5ECF6",
            "gridcolor": "white",
            "gridwidth": 2,
            "linecolor": "white",
            "showbackground": true,
            "ticks": "",
            "zerolinecolor": "white"
           },
           "zaxis": {
            "backgroundcolor": "#E5ECF6",
            "gridcolor": "white",
            "gridwidth": 2,
            "linecolor": "white",
            "showbackground": true,
            "ticks": "",
            "zerolinecolor": "white"
           }
          },
          "shapedefaults": {
           "line": {
            "color": "#2a3f5f"
           }
          },
          "ternary": {
           "aaxis": {
            "gridcolor": "white",
            "linecolor": "white",
            "ticks": ""
           },
           "baxis": {
            "gridcolor": "white",
            "linecolor": "white",
            "ticks": ""
           },
           "bgcolor": "#E5ECF6",
           "caxis": {
            "gridcolor": "white",
            "linecolor": "white",
            "ticks": ""
           }
          },
          "title": {
           "x": 0.05
          },
          "xaxis": {
           "automargin": true,
           "gridcolor": "white",
           "linecolor": "white",
           "ticks": "",
           "title": {
            "standoff": 15
           },
           "zerolinecolor": "white",
           "zerolinewidth": 2
          },
          "yaxis": {
           "automargin": true,
           "gridcolor": "white",
           "linecolor": "white",
           "ticks": "",
           "title": {
            "standoff": 15
           },
           "zerolinecolor": "white",
           "zerolinewidth": 2
          }
         }
        },
        "title": {
         "text": "Optimization History Plot"
        },
        "xaxis": {
         "title": {
          "text": "Trial"
         }
        },
        "yaxis": {
         "title": {
          "text": "Objective Value"
         }
        }
       }
      }
     },
     "metadata": {},
     "output_type": "display_data"
    }
   ],
   "source": [
    "# シミュレーション結果を確認\n",
    "# optuna.visualization.plot_optimization_history(study)\n",
    "custom_plot_optimization_history(study)"
   ]
  },
  {
   "cell_type": "code",
   "execution_count": 84,
   "metadata": {},
   "outputs": [
    {
     "data": {
      "image/png": "[encoded data removed]",
      "text/plain": [
       "<Figure size 1000x600 with 1 Axes>"
      ]
     },
     "metadata": {},
     "output_type": "display_data"
    }
   ],
   "source": [
    "# どの変数が一番聞いているのかをみてみましょう\n",
    "# optuna.visualization.plot_param_importances(study)\n",
    "def custom_plot_param_importances(study):\n",
    "    importances = optuna.importance.get_param_importances(study)\n",
    "    params = list(importances.keys())\n",
    "    values = list(importances.values())\n",
    "\n",
    "    plt.figure(figsize=(10, 6))\n",
    "    plt.barh(params, values, color=\"skyblue\")\n",
    "    plt.xlabel(\"Importance\")\n",
    "    plt.title(\"Hyperparameter Importances\")\n",
    "    plt.gca().invert_yaxis()\n",
    "    plt.grid(True)\n",
    "    plt.show()\n",
    "\n",
    "\n",
    "# Example usage\n",
    "custom_plot_param_importances(study)"
   ]
  },
  {
   "cell_type": "code",
   "execution_count": null,
   "metadata": {},
   "outputs": [
    {
     "data": {
      "application/vnd.plotly.v1+json": {
       "config": {
        "plotlyServerURL": "https://plot.ly"
       },
       "data": [
        {
         "dimensions": [
          {
           "label": "Objective Value",
           "range": [
            1393.7081298828,
            2427.6352539062
           ],
           "values": [
            1393.7081298828,
            2145.5375976562,
            2116.8862304688,
            2193.5466308594,
            2224.9516601562,
            2252.1254882812,
            2065.0581054688,
            2049.7966308594,
            2057.9106445312,
            2183.7333984375,
            2272.8359375,
            2024.9868164062,
            2318.7434082031,
            2206.5561523438,
            2063.4643554688,
            2234.1315917969,
            2113.3107910156,
            2415.2807617188,
            2188.7624511719,
            2117.1799316406,
            2249.0627441406,
            2071.8171386719,
            2096.0361328125,
            2191.0031738281,
            2271.00390625,
            2205.529296875,
            2162.0539550781,
            2240.3330078125,
            2106.1159667969,
            2154.3664550781,
            2315.7104492188,
            2218.8425292969,
            2277.5085449219,
            2290.5700683594,
            2115.7307128906,
            2139.529296875,
            2427.6352539062,
            2225.0354003906,
            2009.3172607422,
            2092.2216796875,
            2168.0541992188,
            2345.8288574219,
            2237.2275390625,
            2221.0349121094,
            2203.6413574219,
            2397.3088378906,
            2155.6127929688,
            2336.068359375,
            2336.01171875,
            2340.7426757812,
            2146.2202148438,
            2024.6256103516,
            2412.9899902344,
            2211.9497070312
           ]
          },
          {
           "label": "コバルト",
           "range": [
            5.638,
            19.288
           ],
           "values": [
            5.638,
            15.517999999999999,
            10.718,
            9.398,
            10.597999999999999,
            10.008,
            19.288,
            16.137999999999998,
            9.697999999999999,
            15.038,
            16.838,
            12.468,
            11.898,
            13.508,
            7.578,
            14.838,
            11.508,
            11.668,
            14.607999999999999,
            14.277999999999999,
            14.478,
            11.017999999999999,
            17.067999999999998,
            17.778,
            17.067999999999998,
            11.878,
            11.718,
            13.378,
            8.687999999999999,
            8.548,
            11.197999999999999,
            9.117999999999999,
            12.968,
            13.808,
            10.508,
            13.728,
            11.048,
            15.988,
            14.197999999999999,
            12.488,
            18.218,
            13.148,
            17.128,
            13.857999999999999,
            11.898,
            11.838,
            11.148,
            16.518,
            10.628,
            12.258,
            9.338,
            10.238,
            14.277999999999999,
            15.367999999999999
           ]
          },
          {
           "label": "チタン",
           "range": [
            0.3,
            2.98
           ],
           "values": [
            0.3,
            2.59,
            1.16,
            2.48,
            1.71,
            2.68,
            2.05,
            2.88,
            2.31,
            2.0100000000000002,
            2.97,
            2.16,
            1.56,
            2.97,
            2.52,
            2.6,
            1.74,
            2.92,
            2.7,
            2.0300000000000002,
            2.67,
            2.17,
            2.67,
            2.2,
            2.91,
            1.83,
            2.73,
            2.48,
            2.24,
            1.93,
            2.95,
            2.93,
            2.19,
            2.57,
            2.29,
            2.7,
            2.69,
            2.7,
            2.44,
            1.97,
            2.86,
            2.7,
            2.37,
            1.97,
            2.67,
            2.85,
            2.2,
            2.98,
            2.48,
            2.14,
            1.83,
            2.23,
            2.79,
            2.49
           ]
          },
          {
           "label": "ニオブ",
           "range": [
            1.29,
            2.85
           ],
           "values": [
            2.54,
            1.98,
            2.85,
            2.4,
            1.72,
            1.96,
            1.71,
            2.5100000000000002,
            2.77,
            1.85,
            1.97,
            2.27,
            2.31,
            2.11,
            2.42,
            2.68,
            2.06,
            2.52,
            2.68,
            1.96,
            2.2600000000000002,
            1.87,
            1.6600000000000001,
            1.73,
            1.82,
            2.77,
            2.42,
            1.98,
            2.44,
            2.47,
            2.3000000000000003,
            2.3000000000000003,
            2.5300000000000002,
            2.16,
            2.58,
            2.07,
            2.25,
            1.99,
            1.29,
            2.27,
            1.72,
            1.93,
            2.11,
            2.71,
            2.32,
            2.36,
            2.56,
            1.79,
            1.6600000000000001,
            2.39,
            2.67,
            1.81,
            1.42,
            2.19
           ]
          }
         ],
         "labelangle": 30,
         "labelside": "bottom",
         "line": {
          "color": [
           1393.7081298828,
           2145.5375976562,
           2116.8862304688,
           2193.5466308594,
           2224.9516601562,
           2252.1254882812,
           2065.0581054688,
           2049.7966308594,
           2057.9106445312,
           2183.7333984375,
           2272.8359375,
           2024.9868164062,
           2318.7434082031,
           2206.5561523438,
           2063.4643554688,
           2234.1315917969,
           2113.3107910156,
           2415.2807617188,
           2188.7624511719,
           2117.1799316406,
           2249.0627441406,
           2071.8171386719,
           2096.0361328125,
           2191.0031738281,
           2271.00390625,
           2205.529296875,
           2162.0539550781,
           2240.3330078125,
           2106.1159667969,
           2154.3664550781,
           2315.7104492188,
           2218.8425292969,
           2277.5085449219,
           2290.5700683594,
           2115.7307128906,
           2139.529296875,
           2427.6352539062,
           2225.0354003906,
           2009.3172607422,
           2092.2216796875,
           2168.0541992188,
           2345.8288574219,
           2237.2275390625,
           2221.0349121094,
           2203.6413574219,
           2397.3088378906,
           2155.6127929688,
           2336.068359375,
           2336.01171875,
           2340.7426757812,
           2146.2202148438,
           2024.6256103516,
           2412.9899902344,
           2211.9497070312
          ],
          "colorbar": {
           "title": {
            "text": "Objective Value"
           }
          },
          "colorscale": [
           [
            0,
            "rgb(247,251,255)"
           ],
           [
            0.125,
            "rgb(222,235,247)"
           ],
           [
            0.25,
            "rgb(198,219,239)"
           ],
           [
            0.375,
            "rgb(158,202,225)"
           ],
           [
            0.5,
            "rgb(107,174,214)"
           ],
           [
            0.625,
            "rgb(66,146,198)"
           ],
           [
            0.75,
            "rgb(33,113,181)"
           ],
           [
            0.875,
            "rgb(8,81,156)"
           ],
           [
            1,
            "rgb(8,48,107)"
           ]
          ],
          "reversescale": false,
          "showscale": true
         },
         "type": "parcoords"
        }
       ],
       "layout": {
        "template": {
         "data": {
          "bar": [
           {
            "error_x": {
             "color": "#2a3f5f"
            },
            "error_y": {
             "color": "#2a3f5f"
            },
            "marker": {
             "line": {
              "color": "#E5ECF6",
              "width": 0.5
             },
             "pattern": {
              "fillmode": "overlay",
              "size": 10,
              "solidity": 0.2
             }
            },
            "type": "bar"
           }
          ],
          "barpolar": [
           {
            "marker": {
             "line": {
              "color": "#E5ECF6",
              "width": 0.5
             },
             "pattern": {
              "fillmode": "overlay",
              "size": 10,
              "solidity": 0.2
             }
            },
            "type": "barpolar"
           }
          ],
          "carpet": [
           {
            "aaxis": {
             "endlinecolor": "#2a3f5f",
             "gridcolor": "white",
             "linecolor": "white",
             "minorgridcolor": "white",
             "startlinecolor": "#2a3f5f"
            },
            "baxis": {
             "endlinecolor": "#2a3f5f",
             "gridcolor": "white",
             "linecolor": "white",
             "minorgridcolor": "white",
             "startlinecolor": "#2a3f5f"
            },
            "type": "carpet"
           }
          ],
          "choropleth": [
           {
            "colorbar": {
             "outlinewidth": 0,
             "ticks": ""
            },
            "type": "choropleth"
           }
          ],
          "contour": [
           {
            "colorbar": {
             "outlinewidth": 0,
             "ticks": ""
            },
            "colorscale": [
             [
              0,
              "#0d0887"
             ],
             [
              0.1111111111111111,
              "#46039f"
             ],
             [
              0.2222222222222222,
              "#7201a8"
             ],
             [
              0.3333333333333333,
              "#9c179e"
             ],
             [
              0.4444444444444444,
              "#bd3786"
             ],
             [
              0.5555555555555556,
              "#d8576b"
             ],
             [
              0.6666666666666666,
              "#ed7953"
             ],
             [
              0.7777777777777778,
              "#fb9f3a"
             ],
             [
              0.8888888888888888,
              "#fdca26"
             ],
             [
              1,
              "#f0f921"
             ]
            ],
            "type": "contour"
           }
          ],
          "contourcarpet": [
           {
            "colorbar": {
             "outlinewidth": 0,
             "ticks": ""
            },
            "type": "contourcarpet"
           }
          ],
          "heatmap": [
           {
            "colorbar": {
             "outlinewidth": 0,
             "ticks": ""
            },
            "colorscale": [
             [
              0,
              "#0d0887"
             ],
             [
              0.1111111111111111,
              "#46039f"
             ],
             [
              0.2222222222222222,
              "#7201a8"
             ],
             [
              0.3333333333333333,
              "#9c179e"
             ],
             [
              0.4444444444444444,
              "#bd3786"
             ],
             [
              0.5555555555555556,
              "#d8576b"
             ],
             [
              0.6666666666666666,
              "#ed7953"
             ],
             [
              0.7777777777777778,
              "#fb9f3a"
             ],
             [
              0.8888888888888888,
              "#fdca26"
             ],
             [
              1,
              "#f0f921"
             ]
            ],
            "type": "heatmap"
           }
          ],
          "histogram": [
           {
            "marker": {
             "pattern": {
              "fillmode": "overlay",
              "size": 10,
              "solidity": 0.2
             }
            },
            "type": "histogram"
           }
          ],
          "histogram2d": [
           {
            "colorbar": {
             "outlinewidth": 0,
             "ticks": ""
            },
            "colorscale": [
             [
              0,
              "#0d0887"
             ],
             [
              0.1111111111111111,
              "#46039f"
             ],
             [
              0.2222222222222222,
              "#7201a8"
             ],
             [
              0.3333333333333333,
              "#9c179e"
             ],
             [
              0.4444444444444444,
              "#bd3786"
             ],
             [
              0.5555555555555556,
              "#d8576b"
             ],
             [
              0.6666666666666666,
              "#ed7953"
             ],
             [
              0.7777777777777778,
              "#fb9f3a"
             ],
             [
              0.8888888888888888,
              "#fdca26"
             ],
             [
              1,
              "#f0f921"
             ]
            ],
            "type": "histogram2d"
           }
          ],
          "histogram2dcontour": [
           {
            "colorbar": {
             "outlinewidth": 0,
             "ticks": ""
            },
            "colorscale": [
             [
              0,
              "#0d0887"
             ],
             [
              0.1111111111111111,
              "#46039f"
             ],
             [
              0.2222222222222222,
              "#7201a8"
             ],
             [
              0.3333333333333333,
              "#9c179e"
             ],
             [
              0.4444444444444444,
              "#bd3786"
             ],
             [
              0.5555555555555556,
              "#d8576b"
             ],
             [
              0.6666666666666666,
              "#ed7953"
             ],
             [
              0.7777777777777778,
              "#fb9f3a"
             ],
             [
              0.8888888888888888,
              "#fdca26"
             ],
             [
              1,
              "#f0f921"
             ]
            ],
            "type": "histogram2dcontour"
           }
          ],
          "mesh3d": [
           {
            "colorbar": {
             "outlinewidth": 0,
             "ticks": ""
            },
            "type": "mesh3d"
           }
          ],
          "parcoords": [
           {
            "line": {
             "colorbar": {
              "outlinewidth": 0,
              "ticks": ""
             }
            },
            "type": "parcoords"
           }
          ],
          "pie": [
           {
            "automargin": true,
            "type": "pie"
           }
          ],
          "scatter": [
           {
            "fillpattern": {
             "fillmode": "overlay",
             "size": 10,
             "solidity": 0.2
            },
            "type": "scatter"
           }
          ],
          "scatter3d": [
           {
            "line": {
             "colorbar": {
              "outlinewidth": 0,
              "ticks": ""
             }
            },
            "marker": {
             "colorbar": {
              "outlinewidth": 0,
              "ticks": ""
             }
            },
            "type": "scatter3d"
           }
          ],
          "scattercarpet": [
           {
            "marker": {
             "colorbar": {
              "outlinewidth": 0,
              "ticks": ""
             }
            },
            "type": "scattercarpet"
           }
          ],
          "scattergeo": [
           {
            "marker": {
             "colorbar": {
              "outlinewidth": 0,
              "ticks": ""
             }
            },
            "type": "scattergeo"
           }
          ],
          "scattergl": [
           {
            "marker": {
             "colorbar": {
              "outlinewidth": 0,
              "ticks": ""
             }
            },
            "type": "scattergl"
           }
          ],
          "scattermap": [
           {
            "marker": {
             "colorbar": {
              "outlinewidth": 0,
              "ticks": ""
             }
            },
            "type": "scattermap"
           }
          ],
          "scattermapbox": [
           {
            "marker": {
             "colorbar": {
              "outlinewidth": 0,
              "ticks": ""
             }
            },
            "type": "scattermapbox"
           }
          ],
          "scatterpolar": [
           {
            "marker": {
             "colorbar": {
              "outlinewidth": 0,
              "ticks": ""
             }
            },
            "type": "scatterpolar"
           }
          ],
          "scatterpolargl": [
           {
            "marker": {
             "colorbar": {
              "outlinewidth": 0,
              "ticks": ""
             }
            },
            "type": "scatterpolargl"
           }
          ],
          "scatterternary": [
           {
            "marker": {
             "colorbar": {
              "outlinewidth": 0,
              "ticks": ""
             }
            },
            "type": "scatterternary"
           }
          ],
          "surface": [
           {
            "colorbar": {
             "outlinewidth": 0,
             "ticks": ""
            },
            "colorscale": [
             [
              0,
              "#0d0887"
             ],
             [
              0.1111111111111111,
              "#46039f"
             ],
             [
              0.2222222222222222,
              "#7201a8"
             ],
             [
              0.3333333333333333,
              "#9c179e"
             ],
             [
              0.4444444444444444,
              "#bd3786"
             ],
             [
              0.5555555555555556,
              "#d8576b"
             ],
             [
              0.6666666666666666,
              "#ed7953"
             ],
             [
              0.7777777777777778,
              "#fb9f3a"
             ],
             [
              0.8888888888888888,
              "#fdca26"
             ],
             [
              1,
              "#f0f921"
             ]
            ],
            "type": "surface"
           }
          ],
          "table": [
           {
            "cells": {
             "fill": {
              "color": "#EBF0F8"
             },
             "line": {
              "color": "white"
             }
            },
            "header": {
             "fill": {
              "color": "#C8D4E3"
             },
             "line": {
              "color": "white"
             }
            },
            "type": "table"
           }
          ]
         },
         "layout": {
          "annotationdefaults": {
           "arrowcolor": "#2a3f5f",
           "arrowhead": 0,
           "arrowwidth": 1
          },
          "autotypenumbers": "strict",
          "coloraxis": {
           "colorbar": {
            "outlinewidth": 0,
            "ticks": ""
           }
          },
          "colorscale": {
           "diverging": [
            [
             0,
             "#8e0152"
            ],
            [
             0.1,
             "#c51b7d"
            ],
            [
             0.2,
             "#de77ae"
            ],
            [
             0.3,
             "#f1b6da"
            ],
            [
             0.4,
             "#fde0ef"
            ],
            [
             0.5,
             "#f7f7f7"
            ],
            [
             0.6,
             "#e6f5d0"
            ],
            [
             0.7,
             "#b8e186"
            ],
            [
             0.8,
             "#7fbc41"
            ],
            [
             0.9,
             "#4d9221"
            ],
            [
             1,
             "#276419"
            ]
           ],
           "sequential": [
            [
             0,
             "#0d0887"
            ],
            [
             0.1111111111111111,
             "#46039f"
            ],
            [
             0.2222222222222222,
             "#7201a8"
            ],
            [
             0.3333333333333333,
             "#9c179e"
            ],
            [
             0.4444444444444444,
             "#bd3786"
            ],
            [
             0.5555555555555556,
             "#d8576b"
            ],
            [
             0.6666666666666666,
             "#ed7953"
            ],
            [
             0.7777777777777778,
             "#fb9f3a"
            ],
            [
             0.8888888888888888,
             "#fdca26"
            ],
            [
             1,
             "#f0f921"
            ]
           ],
           "sequentialminus": [
            [
             0,
             "#0d0887"
            ],
            [
             0.1111111111111111,
             "#46039f"
            ],
            [
             0.2222222222222222,
             "#7201a8"
            ],
            [
             0.3333333333333333,
             "#9c179e"
            ],
            [
             0.4444444444444444,
             "#bd3786"
            ],
            [
             0.5555555555555556,
             "#d8576b"
            ],
            [
             0.6666666666666666,
             "#ed7953"
            ],
            [
             0.7777777777777778,
             "#fb9f3a"
            ],
            [
             0.8888888888888888,
             "#fdca26"
            ],
            [
             1,
             "#f0f921"
            ]
           ]
          },
          "colorway": [
           "#636efa",
           "#EF553B",
           "#00cc96",
           "#ab63fa",
           "#FFA15A",
           "#19d3f3",
           "#FF6692",
           "#B6E880",
           "#FF97FF",
           "#FECB52"
          ],
          "font": {
           "color": "#2a3f5f"
          },
          "geo": {
           "bgcolor": "white",
           "lakecolor": "white",
           "landcolor": "#E5ECF6",
           "showlakes": true,
           "showland": true,
           "subunitcolor": "white"
          },
          "hoverlabel": {
           "align": "left"
          },
          "hovermode": "closest",
          "mapbox": {
           "style": "light"
          },
          "paper_bgcolor": "white",
          "plot_bgcolor": "#E5ECF6",
          "polar": {
           "angularaxis": {
            "gridcolor": "white",
            "linecolor": "white",
            "ticks": ""
           },
           "bgcolor": "#E5ECF6",
           "radialaxis": {
            "gridcolor": "white",
            "linecolor": "white",
            "ticks": ""
           }
          },
          "scene": {
           "xaxis": {
            "backgroundcolor": "#E5ECF6",
            "gridcolor": "white",
            "gridwidth": 2,
            "linecolor": "white",
            "showbackground": true,
            "ticks": "",
            "zerolinecolor": "white"
           },
           "yaxis": {
            "backgroundcolor": "#E5ECF6",
            "gridcolor": "white",
            "gridwidth": 2,
            "linecolor": "white",
            "showbackground": true,
            "ticks": "",
            "zerolinecolor": "white"
           },
           "zaxis": {
            "backgroundcolor": "#E5ECF6",
            "gridcolor": "white",
            "gridwidth": 2,
            "linecolor": "white",
            "showbackground": true,
            "ticks": "",
            "zerolinecolor": "white"
           }
          },
          "shapedefaults": {
           "line": {
            "color": "#2a3f5f"
           }
          },
          "ternary": {
           "aaxis": {
            "gridcolor": "white",
            "linecolor": "white",
            "ticks": ""
           },
           "baxis": {
            "gridcolor": "white",
            "linecolor": "white",
            "ticks": ""
           },
           "bgcolor": "#E5ECF6",
           "caxis": {
            "gridcolor": "white",
            "linecolor": "white",
            "ticks": ""
           }
          },
          "title": {
           "x": 0.05
          },
          "xaxis": {
           "automargin": true,
           "gridcolor": "white",
           "linecolor": "white",
           "ticks": "",
           "title": {
            "standoff": 15
           },
           "zerolinecolor": "white",
           "zerolinewidth": 2
          },
          "yaxis": {
           "automargin": true,
           "gridcolor": "white",
           "linecolor": "white",
           "ticks": "",
           "title": {
            "standoff": 15
           },
           "zerolinecolor": "white",
           "zerolinewidth": 2
          }
         }
        },
        "title": {
         "text": "Parallel Coordinate Plot"
        }
       }
      }
     },
     "metadata": {},
     "output_type": "display_data"
    }
   ],
   "source": [
    "# 上位３変数とターゲットの関係を可視化してみる\n",
    "# optuna.visualization.plot_parallel_coordinate(\n",
    "#     study, params=[\"ニオブ\", \"チタン\", \"コバルト\"]\n",
    "# )"
   ]
  },
  {
   "cell_type": "code",
   "execution_count": 46,
   "metadata": {},
   "outputs": [
    {
     "data": {
      "image/png": "[encoded data removed]",
      "text/plain": [
       "<Figure size 500x500 with 1 Axes>"
      ]
     },
     "metadata": {},
     "output_type": "display_data"
    }
   ],
   "source": [
    "# 上位２変数の履歴を可視化してみる\n",
    "# https://qiita.com/maskot1977/items/ed698a67b091b5516ab4\n",
    "x = \"ニオブ\"\n",
    "y = \"チタン\"\n",
    "fig, ax = plt.subplots(figsize=(5, 5))\n",
    "\n",
    "ax.plot(\n",
    "    [trial.params[x] for trial in study.trials],\n",
    "    [trial.params[y] for trial in study.trials],\n",
    "    alpha=0.4,\n",
    "    marker=\"x\",\n",
    ")\n",
    "ax.scatter(\n",
    "    study.trials[0].params[x],\n",
    "    study.trials[0].params[y],\n",
    "    marker=\">\",\n",
    "    label=\"start\",\n",
    "    s=100,\n",
    ")\n",
    "ax.scatter(\n",
    "    study.trials[-1].params[x],\n",
    "    study.trials[-1].params[y],\n",
    "    marker=\"s\",\n",
    "    label=\"end\",\n",
    "    s=100,\n",
    ")\n",
    "ax.scatter(study.best_params[x], study.best_params[y], marker=\"o\", label=\"best\", s=100)\n",
    "\n",
    "ax.axis(\"equal\")\n",
    "ax.set_xlabel(x)\n",
    "ax.set_ylabel(y)\n",
    "fig.tight_layout()\n",
    "plt.grid()\n",
    "plt.legend()\n",
    "plt.show()"
   ]
  },
  {
   "cell_type": "markdown",
   "metadata": {},
   "source": [
    "### 7. `Pruner`も変更してみる"
   ]
  },
  {
   "cell_type": "code",
   "execution_count": 47,
   "metadata": {},
   "outputs": [],
   "source": [
    "# 打ち止めするかを確認するため、途中経過をフィードバックするようにobjectiveを編集\n",
    "n_train_iter = 10\n",
    "\n",
    "\n",
    "def objective(trial):\n",
    "\n",
    "    df_target = DataFrame(index=[0], columns=X_train.columns)\n",
    "\n",
    "    for col in X_train.columns:\n",
    "        low = stat.loc[col, \"min\"] * 0.8\n",
    "        high = stat.loc[col, \"max\"] * 1.2\n",
    "        df_target[col] = trial.suggest_float(col, low, high, step=0.01)\n",
    "\n",
    "    for step in range(n_train_iter):\n",
    "        pred_1 = predict(deployments[0], df_target)[0].loc[0, \"降伏強度_PREDICTION\"]\n",
    "\n",
    "        # 打ち止めかどうかを判断\n",
    "        pred_temp = pred_1\n",
    "\n",
    "        trial.report(pred_temp, step)\n",
    "\n",
    "        if trial.should_prune():\n",
    "            raise optuna.TrialPruned()\n",
    "\n",
    "    return pred_1"
   ]
  },
  {
   "cell_type": "code",
   "execution_count": 48,
   "metadata": {},
   "outputs": [
    {
     "name": "stderr",
     "output_type": "stream",
     "text": [
      "[I 2025-02-24 20:45:54,836] A new study created in memory with name: no-name-f55df53f-11ee-4e81-b31e-61e3cff12acc\n",
      "[I 2025-02-24 20:45:59,361] Trial 0 finished with value: 1393.7081298828 and parameters: {'炭素': 0.09, 'マンガン': 1.3980000000000001, 'ケイ素': 4.748, 'クロム': 4.178, 'ニッケル': 23.098, 'モリブデン': 9.146, 'バナジウム': 3.75, '窒素': 0.18, 'ニオブ': 2.54, 'コバルト': 5.638, 'タングステン': 3.5500000000000003, 'アルミニウム': 1.548, 'チタン': 0.3}. Best is trial 0 with value: 1393.7081298828.\n",
      "[I 2025-02-24 20:46:03,970] Trial 1 finished with value: 2278.1721191406 and parameters: {'炭素': 0.31, 'マンガン': 0.498, 'ケイ素': 5.128, 'クロム': 5.168, 'ニッケル': 24.038, 'モリブデン': 9.146, 'バナジウム': 2.25, '窒素': 0.04, 'ニオブ': 1.11, 'コバルト': 13.738, 'タングステン': 3.16, 'アルミニウム': 1.858, 'チタン': 2.7800000000000002}. Best is trial 1 with value: 2278.1721191406.\n",
      "[I 2025-02-24 20:46:08,523] Trial 2 finished with value: 1164.8432617188 and parameters: {'炭素': 0.01, 'マンガン': 1.168, 'ケイ素': 1.928, 'クロム': 13.168, 'ニッケル': 1.9080000000000001, 'モリブデン': 2.636, 'バナジウム': 4.7700000000000005, '窒素': 0.04, 'ニオブ': 2.63, 'コバルト': 7.018, 'タングステン': 2.6, 'アルミニウム': 0.398, 'チタン': 0.41000000000000003}. Best is trial 1 with value: 2278.1721191406.\n",
      "[I 2025-02-24 20:46:13,712] Trial 3 finished with value: 2429.189453125 and parameters: {'炭素': 0.25, 'マンガン': 2.638, 'ケイ素': 4.378, 'クロム': 6.508, 'ニッケル': 17.518, 'モリブデン': 11.016, 'バナジウム': 2.74, '窒素': 0.07, 'ニオブ': 1.7, 'コバルト': 18.618, 'タングステン': 4.79, 'アルミニウム': 1.538, 'チタン': 2.1}. Best is trial 3 with value: 2429.189453125.\n",
      "[I 2025-02-24 20:46:16,113] Trial 4 pruned. \n",
      "[I 2025-02-24 20:46:17,284] Trial 5 pruned. \n",
      "[I 2025-02-24 20:46:19,571] Trial 6 pruned. \n",
      "[I 2025-02-24 20:46:21,291] Trial 7 pruned. \n",
      "[I 2025-02-24 20:46:22,835] Trial 8 pruned. \n",
      "[I 2025-02-24 20:46:23,792] Trial 9 pruned. \n",
      "[I 2025-02-24 20:46:28,509] Trial 10 finished with value: 2262.677734375 and parameters: {'炭素': 0.21, 'マンガン': 2.348, 'ケイ素': 3.208, 'クロム': 20.948, 'ニッケル': 17.918, 'モリブデン': 0.066, 'バナジウム': 0.03, '窒素': 0.0, 'ニオブ': 2.04, 'コバルト': 23.798, 'タングステン': 5.39, 'アルミニウム': 1.308, 'チタン': 1.45}. Best is trial 3 with value: 2429.189453125.\n"
     ]
    },
    {
     "name": "stdout",
     "output_type": "stream",
     "text": [
      "CPU times: user 1.79 s, sys: 228 ms, total: 2.01 s\n",
      "Wall time: 34.5 s\n"
     ]
    }
   ],
   "source": [
    "%%time\n",
    "# 打ち切りしているため、トライごとの時間がかかる\n",
    "# 試行回数が減るため効果が出にくい\n",
    "dr.Client()\n",
    "sampler = optuna.samplers.TPESampler(seed=seed)\n",
    "pruner = optuna.pruners.HyperbandPruner(min_resource=1, max_resource=n_train_iter)\n",
    "study = optuna.create_study(direction=\"maximize\",sampler=sampler, pruner=pruner)\n",
    "study.optimize(objective, timeout=timeout, gc_after_trial=True)"
   ]
  },
  {
   "cell_type": "code",
   "execution_count": null,
   "metadata": {},
   "outputs": [
    {
     "name": "stderr",
     "output_type": "stream",
     "text": [
      "[I 2025-02-24 20:46:29,416] A new study created in memory with name: no-name-6b8e3da9-268f-4b8c-b732-966131a96dac\n",
      "[I 2025-02-24 20:46:35,279] Trial 3 finished with value: 1254.4832763672 and parameters: {'炭素': 0.17, 'マンガン': 1.6380000000000001, 'ケイ素': 0.468, 'クロム': 4.078, 'ニッケル': 12.418, 'モリブデン': 1.316, 'バナジウム': 2.34, '窒素': 0.03, 'ニオブ': 1.9000000000000001, 'コバルト': 4.298, 'タングステン': 7.1000000000000005, 'アルミニウム': 0.07800000000000001, 'チタン': 0.47000000000000003}. Best is trial 3 with value: 1254.4832763672.\n",
      "[I 2025-02-24 20:46:36,175] Trial 2 finished with value: 2308.1611328125 and parameters: {'炭素': 0.49, 'マンガン': 1.278, 'ケイ素': 2.938, 'クロム': 5.8180000000000005, 'ニッケル': 15.158, 'モリブデン': 4.096, 'バナジウム': 1.3800000000000001, '窒素': 0.11, 'ニオブ': 2.72, 'コバルト': 11.988, 'タングステン': 6.2, 'アルミニウム': 1.948, 'チタン': 2.8000000000000003}. Best is trial 2 with value: 2308.1611328125.\n",
      "[I 2025-02-24 20:46:36,242] Trial 0 finished with value: 1925.1541748047 and parameters: {'炭素': 0.44, 'マンガン': 1.868, 'ケイ素': 4.598, 'クロム': 9.128, 'ニッケル': 11.668, 'モリブデン': 9.686, 'バナジウム': 4.05, '窒素': 0.03, 'ニオブ': 0.7000000000000001, 'コバルト': 5.738, 'タングステン': 10.77, 'アルミニウム': 1.8780000000000001, 'チタン': 1.8800000000000001}. Best is trial 2 with value: 2308.1611328125.\n",
      "[I 2025-02-24 20:46:36,881] Trial 1 pruned. \n",
      "[I 2025-02-24 20:46:37,141] Trial 6 pruned. \n",
      "[I 2025-02-24 20:46:37,988] Trial 8 pruned. \n",
      "[I 2025-02-24 20:46:38,411] Trial 7 pruned. \n",
      "[I 2025-02-24 20:46:39,925] Trial 10 pruned. \n",
      "[I 2025-02-24 20:46:41,600] Trial 4 finished with value: 1407.6208496094 and parameters: {'炭素': 0.44, 'マンガン': 0.23800000000000002, 'ケイ素': 0.20800000000000002, 'クロム': 20.658, 'ニッケル': 10.847999999999999, 'モリブデン': 3.966, 'バナジウム': 3.7, '窒素': 0.02, 'ニオブ': 0.2, 'コバルト': 8.867999999999999, 'タングステン': 0.67, 'アルミニウム': 0.5780000000000001, 'チタン': 0.52}. Best is trial 2 with value: 2308.1611328125.\n",
      "[I 2025-02-24 20:46:41,661] Trial 5 finished with value: 2177.2204589844 and parameters: {'炭素': 0.38, 'マンガン': 0.638, 'ケイ素': 5.628, 'クロム': 16.817999999999998, 'ニッケル': 22.528, 'モリブデン': 11.566, 'バナジウム': 1.0, '窒素': 0.16, 'ニオブ': 1.48, 'コバルト': 14.798, 'タングステン': 9.85, 'アルミニウム': 1.418, 'チタン': 1.55}. Best is trial 2 with value: 2308.1611328125.\n",
      "[I 2025-02-24 20:46:43,717] Trial 13 pruned. \n",
      "[I 2025-02-24 20:46:43,820] Trial 9 finished with value: 2043.4747314453 and parameters: {'炭素': 0.33, 'マンガン': 3.088, 'ケイ素': 2.718, 'クロム': 0.248, 'ニッケル': 21.218, 'モリブデン': 8.276, 'バナジウム': 2.29, '窒素': 0.13, 'ニオブ': 1.62, 'コバルト': 10.027999999999999, 'タングステン': 0.76, 'アルミニウム': 1.938, 'チタン': 1.69}. Best is trial 2 with value: 2308.1611328125.\n",
      "[I 2025-02-24 20:46:45,333] Trial 11 pruned. \n",
      "[I 2025-02-24 20:46:46,877] Trial 12 finished with value: 2149.345703125 and parameters: {'炭素': 0.24, 'マンガン': 0.768, 'ケイ素': 3.2880000000000003, 'クロム': 2.188, 'ニッケル': 0.778, 'モリブデン': 7.686, 'バナジウム': 2.09, '窒素': 0.09, 'ニオブ': 2.91, 'コバルト': 22.977999999999998, 'タングステン': 3.83, 'アルミニウム': 2.148, 'チタン': 2.36}. Best is trial 2 with value: 2308.1611328125.\n",
      "[I 2025-02-24 20:46:49,469] Trial 15 pruned. \n",
      "[I 2025-02-24 20:46:50,141] Trial 14 finished with value: 2211.7177734375 and parameters: {'炭素': 0.24, 'マンガン': 0.468, 'ケイ素': 3.248, 'クロム': 14.148, 'ニッケル': 17.567999999999998, 'モリブデン': 11.316, 'バナジウム': 1.55, '窒素': 0.14, 'ニオブ': 1.45, 'コバルト': 22.608, 'タングステン': 5.65, 'アルミニウム': 1.568, 'チタン': 1.25}. Best is trial 2 with value: 2308.1611328125.\n",
      "[I 2025-02-24 20:46:51,023] Trial 16 finished with value: 2262.482421875 and parameters: {'炭素': 0.5, 'マンガン': 0.538, 'ケイ素': 3.7680000000000002, 'クロム': 13.388, 'ニッケル': 17.458, 'モリブデン': 3.096, 'バナジウム': 1.41, '窒素': 0.18, 'ニオブ': 1.16, 'コバルト': 22.668, 'タングステン': 6.11, 'アルミニウム': 1.538, 'チタン': 1.16}. Best is trial 2 with value: 2308.1611328125.\n",
      "[I 2025-02-24 20:46:52,036] Trial 17 finished with value: 2327.5334472656 and parameters: {'炭素': 0.51, 'マンガン': 0.138, 'ケイ素': 3.938, 'クロム': 13.517999999999999, 'ニッケル': 17.258, 'モリブデン': 3.176, 'バナジウム': 1.43, '窒素': 0.17, 'ニオブ': 1.18, 'コバルト': 19.578, 'タングステン': 8.0, 'アルミニウム': 1.558, 'チタン': 1.2}. Best is trial 17 with value: 2327.5334472656.\n",
      "[I 2025-02-24 20:46:52,908] Trial 20 pruned. \n",
      "[I 2025-02-24 20:46:54,251] Trial 18 finished with value: 2264.0559082031 and parameters: {'炭素': 0.45, 'マンガン': 0.198, 'ケイ素': 4.0680000000000005, 'クロム': 12.588, 'ニッケル': 17.477999999999998, 'モリブデン': 2.946, 'バナジウム': 0.0, '窒素': 0.15, 'ニオブ': 1.27, 'コバルト': 18.778, 'タングステン': 8.25, 'アルミニウム': 1.558, 'チタン': 1.12}. Best is trial 17 with value: 2327.5334472656.\n",
      "[I 2025-02-24 20:46:54,555] Trial 21 pruned. \n",
      "[I 2025-02-24 20:46:55,521] Trial 24 pruned. \n",
      "[I 2025-02-24 20:46:55,964] Trial 19 pruned. \n",
      "[I 2025-02-24 20:46:56,560] Trial 25 pruned. \n",
      "[I 2025-02-24 20:46:57,477] Trial 23 pruned. \n",
      "[I 2025-02-24 20:46:58,743] Trial 26 pruned. \n",
      "[I 2025-02-24 20:46:59,506] Trial 22 pruned. \n",
      "[I 2025-02-24 20:47:00,291] Trial 28 pruned. \n",
      "[I 2025-02-24 20:47:01,460] Trial 27 finished with value: 2215.3295898438 and parameters: {'炭素': 0.3, 'マンガン': 0.35800000000000004, 'ケイ素': 4.828, 'クロム': 8.478, 'ニッケル': 14.288, 'モリブデン': 6.696, 'バナジウム': 0.49, '窒素': 0.16, 'ニオブ': 0.6, 'コバルト': 16.727999999999998, 'タングステン': 8.81, 'アルミニウム': 1.318, 'チタン': 1.43}. Best is trial 17 with value: 2327.5334472656.\n",
      "[I 2025-02-24 20:47:03,373] Trial 29 pruned. \n"
     ]
    },
    {
     "name": "stdout",
     "output_type": "stream",
     "text": [
      "CPU times: user 3.39 s, sys: 272 ms, total: 3.66 s\n",
      "Wall time: 34.7 s\n"
     ]
    }
   ],
   "source": [
    "%%time\n",
    "# 並列数を増やして、時間内のトライアル数を増やす\n",
    "dr.Client()\n",
    "sampler = optuna.samplers.TPESampler(seed=seed)\n",
    "pruner = optuna.pruners.HyperbandPruner(min_resource=1, max_resource=n_train_iter)\n",
    "study = optuna.create_study(direction=\"maximize\",sampler=sampler, pruner=pruner)\n",
    "study.optimize(objective, timeout=timeout, gc_after_trial=True, n_jobs=2)"
   ]
  },
  {
   "cell_type": "code",
   "execution_count": 50,
   "metadata": {},
   "outputs": [
    {
     "name": "stdout",
     "output_type": "stream",
     "text": [
      "{'炭素': 0.51, 'マンガン': 0.138, 'ケイ素': 3.938, 'クロム': 13.517999999999999, 'ニッケル': 17.258, 'モリブデン': 3.176, 'バナジウム': 1.43, '窒素': 0.17, 'ニオブ': 1.18, 'コバルト': 19.578, 'タングステン': 8.0, 'アルミニウム': 1.558, 'チタン': 1.2}\n",
      "2327.5334472656\n",
      "17\n"
     ]
    }
   ],
   "source": [
    "print(study.best_trial.params)\n",
    "print(study.best_trial.value)\n",
    "print(study.best_trial.number)"
   ]
  },
  {
   "cell_type": "code",
   "execution_count": null,
   "metadata": {},
   "outputs": [
    {
     "data": {
      "application/vnd.plotly.v1+json": {
       "config": {
        "plotlyServerURL": "https://plot.ly"
       },
       "data": [
        {
         "mode": "markers",
         "name": "Objective Value",
         "type": "scatter",
         "x": [
          0,
          2,
          3,
          4,
          5,
          9,
          12,
          14,
          16,
          17,
          18,
          27
         ],
         "y": [
          1925.1541748047,
          2308.1611328125,
          1254.4832763672,
          1407.6208496094,
          2177.2204589844,
          2043.4747314453,
          2149.345703125,
          2211.7177734375,
          2262.482421875,
          2327.5334472656,
          2264.0559082031,
          2215.3295898438
         ]
        },
        {
         "mode": "lines",
         "name": "Best Value",
         "type": "scatter",
         "x": [
          0,
          1,
          2,
          3,
          4,
          5,
          6,
          7,
          8,
          9,
          10,
          11,
          12,
          13,
          14,
          15,
          16,
          17,
          18,
          19,
          20,
          21,
          22,
          23,
          24,
          25,
          26,
          27,
          28,
          29
         ],
         "y": [
          1925.1541748047,
          1925.1541748047,
          2308.1611328125,
          2308.1611328125,
          2308.1611328125,
          2308.1611328125,
          2308.1611328125,
          2308.1611328125,
          2308.1611328125,
          2308.1611328125,
          2308.1611328125,
          2308.1611328125,
          2308.1611328125,
          2308.1611328125,
          2308.1611328125,
          2308.1611328125,
          2308.1611328125,
          2327.5334472656,
          2327.5334472656,
          2327.5334472656,
          2327.5334472656,
          2327.5334472656,
          2327.5334472656,
          2327.5334472656,
          2327.5334472656,
          2327.5334472656,
          2327.5334472656,
          2327.5334472656,
          2327.5334472656,
          2327.5334472656
         ]
        },
        {
         "marker": {
          "color": "#cccccc"
         },
         "mode": "markers",
         "name": "Infeasible Trial",
         "showlegend": false,
         "type": "scatter",
         "x": [],
         "y": []
        }
       ],
       "layout": {
        "template": {
         "data": {
          "bar": [
           {
            "error_x": {
             "color": "#2a3f5f"
            },
            "error_y": {
             "color": "#2a3f5f"
            },
            "marker": {
             "line": {
              "color": "#E5ECF6",
              "width": 0.5
             },
             "pattern": {
              "fillmode": "overlay",
              "size": 10,
              "solidity": 0.2
             }
            },
            "type": "bar"
           }
          ],
          "barpolar": [
           {
            "marker": {
             "line": {
              "color": "#E5ECF6",
              "width": 0.5
             },
             "pattern": {
              "fillmode": "overlay",
              "size": 10,
              "solidity": 0.2
             }
            },
            "type": "barpolar"
           }
          ],
          "carpet": [
           {
            "aaxis": {
             "endlinecolor": "#2a3f5f",
             "gridcolor": "white",
             "linecolor": "white",
             "minorgridcolor": "white",
             "startlinecolor": "#2a3f5f"
            },
            "baxis": {
             "endlinecolor": "#2a3f5f",
             "gridcolor": "white",
             "linecolor": "white",
             "minorgridcolor": "white",
             "startlinecolor": "#2a3f5f"
            },
            "type": "carpet"
           }
          ],
          "choropleth": [
           {
            "colorbar": {
             "outlinewidth": 0,
             "ticks": ""
            },
            "type": "choropleth"
           }
          ],
          "contour": [
           {
            "colorbar": {
             "outlinewidth": 0,
             "ticks": ""
            },
            "colorscale": [
             [
              0,
              "#0d0887"
             ],
             [
              0.1111111111111111,
              "#46039f"
             ],
             [
              0.2222222222222222,
              "#7201a8"
             ],
             [
              0.3333333333333333,
              "#9c179e"
             ],
             [
              0.4444444444444444,
              "#bd3786"
             ],
             [
              0.5555555555555556,
              "#d8576b"
             ],
             [
              0.6666666666666666,
              "#ed7953"
             ],
             [
              0.7777777777777778,
              "#fb9f3a"
             ],
             [
              0.8888888888888888,
              "#fdca26"
             ],
             [
              1,
              "#f0f921"
             ]
            ],
            "type": "contour"
           }
          ],
          "contourcarpet": [
           {
            "colorbar": {
             "outlinewidth": 0,
             "ticks": ""
            },
            "type": "contourcarpet"
           }
          ],
          "heatmap": [
           {
            "colorbar": {
             "outlinewidth": 0,
             "ticks": ""
            },
            "colorscale": [
             [
              0,
              "#0d0887"
             ],
             [
              0.1111111111111111,
              "#46039f"
             ],
             [
              0.2222222222222222,
              "#7201a8"
             ],
             [
              0.3333333333333333,
              "#9c179e"
             ],
             [
              0.4444444444444444,
              "#bd3786"
             ],
             [
              0.5555555555555556,
              "#d8576b"
             ],
             [
              0.6666666666666666,
              "#ed7953"
             ],
             [
              0.7777777777777778,
              "#fb9f3a"
             ],
             [
              0.8888888888888888,
              "#fdca26"
             ],
             [
              1,
              "#f0f921"
             ]
            ],
            "type": "heatmap"
           }
          ],
          "histogram": [
           {
            "marker": {
             "pattern": {
              "fillmode": "overlay",
              "size": 10,
              "solidity": 0.2
             }
            },
            "type": "histogram"
           }
          ],
          "histogram2d": [
           {
            "colorbar": {
             "outlinewidth": 0,
             "ticks": ""
            },
            "colorscale": [
             [
              0,
              "#0d0887"
             ],
             [
              0.1111111111111111,
              "#46039f"
             ],
             [
              0.2222222222222222,
              "#7201a8"
             ],
             [
              0.3333333333333333,
              "#9c179e"
             ],
             [
              0.4444444444444444,
              "#bd3786"
             ],
             [
              0.5555555555555556,
              "#d8576b"
             ],
             [
              0.6666666666666666,
              "#ed7953"
             ],
             [
              0.7777777777777778,
              "#fb9f3a"
             ],
             [
              0.8888888888888888,
              "#fdca26"
             ],
             [
              1,
              "#f0f921"
             ]
            ],
            "type": "histogram2d"
           }
          ],
          "histogram2dcontour": [
           {
            "colorbar": {
             "outlinewidth": 0,
             "ticks": ""
            },
            "colorscale": [
             [
              0,
              "#0d0887"
             ],
             [
              0.1111111111111111,
              "#46039f"
             ],
             [
              0.2222222222222222,
              "#7201a8"
             ],
             [
              0.3333333333333333,
              "#9c179e"
             ],
             [
              0.4444444444444444,
              "#bd3786"
             ],
             [
              0.5555555555555556,
              "#d8576b"
             ],
             [
              0.6666666666666666,
              "#ed7953"
             ],
             [
              0.7777777777777778,
              "#fb9f3a"
             ],
             [
              0.8888888888888888,
              "#fdca26"
             ],
             [
              1,
              "#f0f921"
             ]
            ],
            "type": "histogram2dcontour"
           }
          ],
          "mesh3d": [
           {
            "colorbar": {
             "outlinewidth": 0,
             "ticks": ""
            },
            "type": "mesh3d"
           }
          ],
          "parcoords": [
           {
            "line": {
             "colorbar": {
              "outlinewidth": 0,
              "ticks": ""
             }
            },
            "type": "parcoords"
           }
          ],
          "pie": [
           {
            "automargin": true,
            "type": "pie"
           }
          ],
          "scatter": [
           {
            "fillpattern": {
             "fillmode": "overlay",
             "size": 10,
             "solidity": 0.2
            },
            "type": "scatter"
           }
          ],
          "scatter3d": [
           {
            "line": {
             "colorbar": {
              "outlinewidth": 0,
              "ticks": ""
             }
            },
            "marker": {
             "colorbar": {
              "outlinewidth": 0,
              "ticks": ""
             }
            },
            "type": "scatter3d"
           }
          ],
          "scattercarpet": [
           {
            "marker": {
             "colorbar": {
              "outlinewidth": 0,
              "ticks": ""
             }
            },
            "type": "scattercarpet"
           }
          ],
          "scattergeo": [
           {
            "marker": {
             "colorbar": {
              "outlinewidth": 0,
              "ticks": ""
             }
            },
            "type": "scattergeo"
           }
          ],
          "scattergl": [
           {
            "marker": {
             "colorbar": {
              "outlinewidth": 0,
              "ticks": ""
             }
            },
            "type": "scattergl"
           }
          ],
          "scattermap": [
           {
            "marker": {
             "colorbar": {
              "outlinewidth": 0,
              "ticks": ""
             }
            },
            "type": "scattermap"
           }
          ],
          "scattermapbox": [
           {
            "marker": {
             "colorbar": {
              "outlinewidth": 0,
              "ticks": ""
             }
            },
            "type": "scattermapbox"
           }
          ],
          "scatterpolar": [
           {
            "marker": {
             "colorbar": {
              "outlinewidth": 0,
              "ticks": ""
             }
            },
            "type": "scatterpolar"
           }
          ],
          "scatterpolargl": [
           {
            "marker": {
             "colorbar": {
              "outlinewidth": 0,
              "ticks": ""
             }
            },
            "type": "scatterpolargl"
           }
          ],
          "scatterternary": [
           {
            "marker": {
             "colorbar": {
              "outlinewidth": 0,
              "ticks": ""
             }
            },
            "type": "scatterternary"
           }
          ],
          "surface": [
           {
            "colorbar": {
             "outlinewidth": 0,
             "ticks": ""
            },
            "colorscale": [
             [
              0,
              "#0d0887"
             ],
             [
              0.1111111111111111,
              "#46039f"
             ],
             [
              0.2222222222222222,
              "#7201a8"
             ],
             [
              0.3333333333333333,
              "#9c179e"
             ],
             [
              0.4444444444444444,
              "#bd3786"
             ],
             [
              0.5555555555555556,
              "#d8576b"
             ],
             [
              0.6666666666666666,
              "#ed7953"
             ],
             [
              0.7777777777777778,
              "#fb9f3a"
             ],
             [
              0.8888888888888888,
              "#fdca26"
             ],
             [
              1,
              "#f0f921"
             ]
            ],
            "type": "surface"
           }
          ],
          "table": [
           {
            "cells": {
             "fill": {
              "color": "#EBF0F8"
             },
             "line": {
              "color": "white"
             }
            },
            "header": {
             "fill": {
              "color": "#C8D4E3"
             },
             "line": {
              "color": "white"
             }
            },
            "type": "table"
           }
          ]
         },
         "layout": {
          "annotationdefaults": {
           "arrowcolor": "#2a3f5f",
           "arrowhead": 0,
           "arrowwidth": 1
          },
          "autotypenumbers": "strict",
          "coloraxis": {
           "colorbar": {
            "outlinewidth": 0,
            "ticks": ""
           }
          },
          "colorscale": {
           "diverging": [
            [
             0,
             "#8e0152"
            ],
            [
             0.1,
             "#c51b7d"
            ],
            [
             0.2,
             "#de77ae"
            ],
            [
             0.3,
             "#f1b6da"
            ],
            [
             0.4,
             "#fde0ef"
            ],
            [
             0.5,
             "#f7f7f7"
            ],
            [
             0.6,
             "#e6f5d0"
            ],
            [
             0.7,
             "#b8e186"
            ],
            [
             0.8,
             "#7fbc41"
            ],
            [
             0.9,
             "#4d9221"
            ],
            [
             1,
             "#276419"
            ]
           ],
           "sequential": [
            [
             0,
             "#0d0887"
            ],
            [
             0.1111111111111111,
             "#46039f"
            ],
            [
             0.2222222222222222,
             "#7201a8"
            ],
            [
             0.3333333333333333,
             "#9c179e"
            ],
            [
             0.4444444444444444,
             "#bd3786"
            ],
            [
             0.5555555555555556,
             "#d8576b"
            ],
            [
             0.6666666666666666,
             "#ed7953"
            ],
            [
             0.7777777777777778,
             "#fb9f3a"
            ],
            [
             0.8888888888888888,
             "#fdca26"
            ],
            [
             1,
             "#f0f921"
            ]
           ],
           "sequentialminus": [
            [
             0,
             "#0d0887"
            ],
            [
             0.1111111111111111,
             "#46039f"
            ],
            [
             0.2222222222222222,
             "#7201a8"
            ],
            [
             0.3333333333333333,
             "#9c179e"
            ],
            [
             0.4444444444444444,
             "#bd3786"
            ],
            [
             0.5555555555555556,
             "#d8576b"
            ],
            [
             0.6666666666666666,
             "#ed7953"
            ],
            [
             0.7777777777777778,
             "#fb9f3a"
            ],
            [
             0.8888888888888888,
             "#fdca26"
            ],
            [
             1,
             "#f0f921"
            ]
           ]
          },
          "colorway": [
           "#636efa",
           "#EF553B",
           "#00cc96",
           "#ab63fa",
           "#FFA15A",
           "#19d3f3",
           "#FF6692",
           "#B6E880",
           "#FF97FF",
           "#FECB52"
          ],
          "font": {
           "color": "#2a3f5f"
          },
          "geo": {
           "bgcolor": "white",
           "lakecolor": "white",
           "landcolor": "#E5ECF6",
           "showlakes": true,
           "showland": true,
           "subunitcolor": "white"
          },
          "hoverlabel": {
           "align": "left"
          },
          "hovermode": "closest",
          "mapbox": {
           "style": "light"
          },
          "paper_bgcolor": "white",
          "plot_bgcolor": "#E5ECF6",
          "polar": {
           "angularaxis": {
            "gridcolor": "white",
            "linecolor": "white",
            "ticks": ""
           },
           "bgcolor": "#E5ECF6",
           "radialaxis": {
            "gridcolor": "white",
            "linecolor": "white",
            "ticks": ""
           }
          },
          "scene": {
           "xaxis": {
            "backgroundcolor": "#E5ECF6",
            "gridcolor": "white",
            "gridwidth": 2,
            "linecolor": "white",
            "showbackground": true,
            "ticks": "",
            "zerolinecolor": "white"
           },
           "yaxis": {
            "backgroundcolor": "#E5ECF6",
            "gridcolor": "white",
            "gridwidth": 2,
            "linecolor": "white",
            "showbackground": true,
            "ticks": "",
            "zerolinecolor": "white"
           },
           "zaxis": {
            "backgroundcolor": "#E5ECF6",
            "gridcolor": "white",
            "gridwidth": 2,
            "linecolor": "white",
            "showbackground": true,
            "ticks": "",
            "zerolinecolor": "white"
           }
          },
          "shapedefaults": {
           "line": {
            "color": "#2a3f5f"
           }
          },
          "ternary": {
           "aaxis": {
            "gridcolor": "white",
            "linecolor": "white",
            "ticks": ""
           },
           "baxis": {
            "gridcolor": "white",
            "linecolor": "white",
            "ticks": ""
           },
           "bgcolor": "#E5ECF6",
           "caxis": {
            "gridcolor": "white",
            "linecolor": "white",
            "ticks": ""
           }
          },
          "title": {
           "x": 0.05
          },
          "xaxis": {
           "automargin": true,
           "gridcolor": "white",
           "linecolor": "white",
           "ticks": "",
           "title": {
            "standoff": 15
           },
           "zerolinecolor": "white",
           "zerolinewidth": 2
          },
          "yaxis": {
           "automargin": true,
           "gridcolor": "white",
           "linecolor": "white",
           "ticks": "",
           "title": {
            "standoff": 15
           },
           "zerolinecolor": "white",
           "zerolinewidth": 2
          }
         }
        },
        "title": {
         "text": "Optimization History Plot"
        },
        "xaxis": {
         "title": {
          "text": "Trial"
         }
        },
        "yaxis": {
         "title": {
          "text": "Objective Value"
         }
        }
       }
      }
     },
     "metadata": {},
     "output_type": "display_data"
    }
   ],
   "source": [
    "# シミュレーション結果を確認\n",
    "# optuna.visualization.plot_optimization_history(study)\n",
    "custom_plot_optimization_history(study)"
   ]
  },
  {
   "cell_type": "markdown",
   "metadata": {},
   "source": [
    "### 8.不確実性を確認"
   ]
  },
  {
   "cell_type": "code",
   "execution_count": 68,
   "metadata": {},
   "outputs": [],
   "source": [
    "# 最適化と同時に分位点予測も行う\n",
    "\n",
    "\n",
    "def objective(trial):\n",
    "\n",
    "    df_target = DataFrame(index=[0], columns=X_train.columns)\n",
    "    for col in X_train.columns:\n",
    "        low = stat.loc[col, \"min\"] * 0.8\n",
    "        high = stat.loc[col, \"max\"] * 1.2\n",
    "        df_target[col] = trial.suggest_float(col, low, high, step=0.01)\n",
    "\n",
    "    pred_2 = predict(deployments[0], df_target)[0].loc[0, \"降伏強度_PREDICTION\"]\n",
    "    pred_p25 = predict(deployments_quant[0], df_target)[0].loc[0, \"降伏強度_PREDICTION\"]\n",
    "    pred_p75 = predict(deployments_quant[1], df_target)[0].loc[0, \"降伏強度_PREDICTION\"]\n",
    "\n",
    "    trial.set_user_attr(\"p25\", pred_p25)\n",
    "    trial.set_user_attr(\"p75\", pred_p75)\n",
    "\n",
    "    return pred_2"
   ]
  },
  {
   "cell_type": "code",
   "execution_count": 71,
   "metadata": {},
   "outputs": [
    {
     "name": "stderr",
     "output_type": "stream",
     "text": [
      "[I 2025-02-24 21:58:57,134] A new study created in memory with name: no-name-5d19d2ee-6c5e-4d37-95b4-1fbca251839a\n",
      "[I 2025-02-24 21:58:59,001] Trial 0 finished with value: 1393.7081298828 and parameters: {'炭素': 0.09, 'マンガン': 1.3980000000000001, 'ケイ素': 4.748, 'クロム': 4.178, 'ニッケル': 23.098, 'モリブデン': 9.146, 'バナジウム': 3.75, '窒素': 0.18, 'ニオブ': 2.54, 'コバルト': 5.638, 'タングステン': 3.5500000000000003, 'アルミニウム': 1.548, 'チタン': 0.3}. Best is trial 0 with value: 1393.7081298828.\n",
      "[I 2025-02-24 21:59:00,722] Trial 1 finished with value: 2278.1721191406 and parameters: {'炭素': 0.31, 'マンガン': 0.498, 'ケイ素': 5.128, 'クロム': 5.168, 'ニッケル': 24.038, 'モリブデン': 9.146, 'バナジウム': 2.25, '窒素': 0.04, 'ニオブ': 1.11, 'コバルト': 13.738, 'タングステン': 3.16, 'アルミニウム': 1.858, 'チタン': 2.7800000000000002}. Best is trial 1 with value: 2278.1721191406.\n",
      "[I 2025-02-24 21:59:02,205] Trial 2 finished with value: 1164.8432617188 and parameters: {'炭素': 0.01, 'マンガン': 1.168, 'ケイ素': 1.928, 'クロム': 13.168, 'ニッケル': 1.9080000000000001, 'モリブデン': 2.636, 'バナジウム': 4.7700000000000005, '窒素': 0.04, 'ニオブ': 2.63, 'コバルト': 7.018, 'タングステン': 2.6, 'アルミニウム': 0.398, 'チタン': 0.41000000000000003}. Best is trial 1 with value: 2278.1721191406.\n",
      "[I 2025-02-24 21:59:03,794] Trial 3 finished with value: 2429.189453125 and parameters: {'炭素': 0.25, 'マンガン': 2.638, 'ケイ素': 4.378, 'クロム': 6.508, 'ニッケル': 17.518, 'モリブデン': 11.016, 'バナジウム': 2.74, '窒素': 0.07, 'ニオブ': 1.7, 'コバルト': 18.618, 'タングステン': 4.79, 'アルミニウム': 1.538, 'チタン': 2.1}. Best is trial 3 with value: 2429.189453125.\n",
      "[I 2025-02-24 21:59:05,251] Trial 4 finished with value: 1905.2766113281 and parameters: {'炭素': 0.08, 'マンガン': 0.048, 'ケイ素': 4.888, 'クロム': 11.568, 'ニッケル': 1.998, 'モリブデン': 6.256, 'バナジウム': 1.31, '窒素': 0.18, 'ニオブ': 0.8, 'コバルト': 14.808, 'タングステン': 2.45, 'アルミニウム': 0.318, 'チタン': 1.35}. Best is trial 3 with value: 2429.189453125.\n",
      "[I 2025-02-24 21:59:06,745] Trial 5 finished with value: 1525.6340332031 and parameters: {'炭素': 0.5, 'マンガン': 3.478, 'ケイ素': 0.6980000000000001, 'クロム': 7.668, 'ニッケル': 2.898, 'モリブデン': 10.356, 'バナジウム': 2.94, '窒素': 0.17, 'ニオブ': 0.71, 'コバルト': 20.738, 'タングステン': 7.24, 'アルミニウム': 0.778, 'チタン': 0.5700000000000001}. Best is trial 3 with value: 2429.189453125.\n",
      "[I 2025-02-24 21:59:08,688] Trial 6 finished with value: 2188.3229980469 and parameters: {'炭素': 0.14, 'マンガン': 3.008, 'ケイ素': 5.598, 'クロム': 12.927999999999999, 'ニッケル': 18.727999999999998, 'モリブデン': 3.496, 'バナジウム': 4.3100000000000005, '窒素': 0.08, 'ニオブ': 0.42, 'コバルト': 17.538, 'タングステン': 8.75, 'アルミニウム': 1.748, 'チタン': 2.41}. Best is trial 3 with value: 2429.189453125.\n",
      "[I 2025-02-24 21:59:10,107] Trial 7 finished with value: 1893.544921875 and parameters: {'炭素': 0.08, 'マンガン': 3.128, 'ケイ素': 4.538, 'クロム': 16.098, 'ニッケル': 13.617999999999999, 'モリブデン': 8.016, 'バナジウム': 3.91, '窒素': 0.16, 'ニオブ': 0.23, 'コバルト': 13.008, 'タングステン': 7.51, 'アルミニウム': 0.20800000000000002, 'チタン': 2.19}. Best is trial 3 with value: 2429.189453125.\n",
      "[I 2025-02-24 21:59:11,949] Trial 8 finished with value: 2155.720703125 and parameters: {'炭素': 0.31, 'マンガン': 0.058, 'ケイ素': 4.418, 'クロム': 13.867999999999999, 'ニッケル': 10.048, 'モリブデン': 11.376, 'バナジウム': 0.96, '窒素': 0.05, 'ニオブ': 1.4000000000000001, 'コバルト': 20.508, 'タングステン': 2.16, 'アルミニウム': 0.318, 'チタン': 2.2}. Best is trial 3 with value: 2429.189453125.\n",
      "[I 2025-02-24 21:59:13,526] Trial 9 finished with value: 1678.9755859375 and parameters: {'炭素': 0.42, 'マンガン': 1.318, 'ケイ素': 4.508, 'クロム': 5.3580000000000005, 'ニッケル': 12.708, 'モリブデン': 6.776, 'バナジウム': 4.16, '窒素': 0.07, 'ニオブ': 1.37, 'コバルト': 4.698, 'タングステン': 8.44, 'アルミニウム': 1.118, 'チタン': 0.17}. Best is trial 3 with value: 2429.189453125.\n",
      "[I 2025-02-24 21:59:15,075] Trial 10 finished with value: 2262.677734375 and parameters: {'炭素': 0.21, 'マンガン': 2.348, 'ケイ素': 3.208, 'クロム': 20.948, 'ニッケル': 17.918, 'モリブデン': 0.066, 'バナジウム': 0.03, '窒素': 0.0, 'ニオブ': 2.04, 'コバルト': 23.798, 'タングステン': 5.39, 'アルミニウム': 1.308, 'チタン': 1.45}. Best is trial 3 with value: 2429.189453125.\n",
      "[I 2025-02-24 21:59:16,577] Trial 11 finished with value: 2150.8518066406 and parameters: {'炭素': 0.29, 'マンガン': 2.218, 'ケイ素': 3.158, 'クロム': 0.318, 'ニッケル': 24.948, 'モリブデン': 9.446, 'バナジウム': 2.32, '窒素': 0.12, 'ニオブ': 1.74, 'コバルト': 9.927999999999999, 'タングステン': 0.08, 'アルミニウム': 1.8880000000000001, 'チタン': 2.98}. Best is trial 3 with value: 2429.189453125.\n",
      "[I 2025-02-24 21:59:18,245] Trial 12 finished with value: 2104.1203613281 and parameters: {'炭素': 0.36, 'マンガン': 0.638, 'ケイ素': 5.488, 'クロム': 7.048, 'ニッケル': 19.458, 'モリブデン': 11.206, 'バナジウム': 2.38, '窒素': 0.01, 'ニオブ': 1.1500000000000001, 'コバルト': 0.538, 'タングステン': 5.2700000000000005, 'アルミニウム': 2.068, 'チタン': 2.95}. Best is trial 3 with value: 2429.189453125.\n",
      "[I 2025-02-24 21:59:19,775] Trial 13 finished with value: 2183.9645996094 and parameters: {'炭素': 0.22, 'マンガン': 2.198, 'ケイ素': 3.648, 'クロム': 1.478, 'ニッケル': 20.998, 'モリブデン': 7.986, 'バナジウム': 2.98, '窒素': 0.12, 'ニオブ': 1.98, 'コバルト': 17.428, 'タングステン': 4.36, 'アルミニウム': 1.588, 'チタン': 2.5100000000000002}. Best is trial 3 with value: 2429.189453125.\n",
      "[I 2025-02-24 21:59:21,706] Trial 14 finished with value: 2135.1071777344 and parameters: {'炭素': 0.39, 'マンガン': 2.698, 'ケイ素': 2.0180000000000002, 'クロム': 9.048, 'ニッケル': 7.748, 'モリブデン': 8.936, 'バナジウム': 1.67, '窒素': 0.03, 'ニオブ': 1.03, 'コバルト': 11.128, 'タングステン': 0.6900000000000001, 'アルミニウム': 2.118, 'チタン': 1.86}. Best is trial 3 with value: 2429.189453125.\n",
      "[I 2025-02-24 21:59:23,211] Trial 15 finished with value: 2112.951171875 and parameters: {'炭素': 0.19, 'マンガン': 1.798, 'ケイ素': 3.8280000000000003, 'クロム': 3.228, 'ニッケル': 16.458, 'モリブデン': 5.066, 'バナジウム': 3.31, '窒素': 0.11, 'ニオブ': 2.22, 'コバルト': 15.898, 'タングステン': 6.54, 'アルミニウム': 1.328, 'チタン': 1.08}. Best is trial 3 with value: 2429.189453125.\n",
      "[I 2025-02-24 21:59:24,724] Trial 16 finished with value: 2035.6623535156 and parameters: {'炭素': 0.28, 'マンガン': 0.5680000000000001, 'ケイ素': 2.388, 'クロム': 5.488, 'ニッケル': 22.298, 'モリブデン': 10.366, 'バナジウム': 1.85, '窒素': 0.06, 'ニオブ': 1.67, 'コバルト': 21.678, 'タングステン': 10.620000000000001, 'アルミニウム': 0.798, 'チタン': 1.81}. Best is trial 3 with value: 2429.189453125.\n",
      "[I 2025-02-24 21:59:26,532] Trial 17 finished with value: 2394.7221679688 and parameters: {'炭素': 0.34, 'マンガン': 1.708, 'ケイ素': 3.868, 'クロム': 9.458, 'ニッケル': 15.498, 'モリブデン': 7.086, 'バナジウム': 0.67, '窒素': 0.09, 'ニオブ': 2.92, 'コバルト': 18.808, 'タングステン': 3.86, 'アルミニウム': 1.808, 'チタン': 2.65}. Best is trial 3 with value: 2429.189453125.\n",
      "[I 2025-02-24 21:59:28,001] Trial 18 finished with value: 2123.1840820312 and parameters: {'炭素': 0.47000000000000003, 'マンガン': 1.838, 'ケイ素': 1.238, 'クロム': 10.078, 'ニッケル': 15.568, 'モリブデン': 4.726, 'バナジウム': 0.4, '窒素': 0.1, 'ニオブ': 2.36, 'コバルト': 18.768, 'タングステン': 4.34, 'アルミニウム': 1.498, 'チタン': 1.79}. Best is trial 3 with value: 2429.189453125.\n",
      "[I 2025-02-24 21:59:29,495] Trial 19 finished with value: 2113.1625976562 and parameters: {'炭素': 0.36, 'マンガン': 2.5580000000000003, 'ケイ素': 3.948, 'クロム': 16.308, 'ニッケル': 10.527999999999999, 'モリブデン': 7.406000000000001, 'バナジウム': 0.5700000000000001, '窒素': 0.15, 'ニオブ': 2.97, 'コバルト': 22.958, 'タングステン': 1.42, 'アルミニウム': 0.898, 'チタン': 2.62}. Best is trial 3 with value: 2429.189453125.\n",
      "[I 2025-02-24 21:59:30,999] Trial 20 finished with value: 1613.3420410156 and parameters: {'炭素': 0.24, 'マンガン': 1.758, 'ケイ素': 2.7680000000000002, 'クロム': 8.338, 'ニッケル': 6.388, 'モリブデン': 1.316, 'バナジウム': 1.6500000000000001, '窒素': 0.14, 'ニオブ': 3.0, 'コバルト': 19.368, 'タングステン': 6.04, 'アルミニウム': 1.188, 'チタン': 0.92}. Best is trial 3 with value: 2429.189453125.\n",
      "[I 2025-02-24 21:59:32,483] Trial 21 finished with value: 2394.5715332031 and parameters: {'炭素': 0.32, 'マンガン': 0.718, 'ケイ素': 5.158, 'クロム': 6.398000000000001, 'ニッケル': 15.228, 'モリブデン': 9.486, 'バナジウム': 2.08, '窒素': 0.08, 'ニオブ': 0.02, 'コバルト': 13.568, 'タングステン': 3.67, 'アルミニウム': 1.848, 'チタン': 2.73}. Best is trial 3 with value: 2429.189453125.\n",
      "[I 2025-02-24 21:59:33,926] Trial 22 finished with value: 2355.0720214844 and parameters: {'炭素': 0.36, 'マンガン': 0.968, 'ケイ素': 3.998, 'クロム': 2.378, 'ニッケル': 15.488, 'モリブデン': 10.276, 'バナジウム': 1.1300000000000001, '窒素': 0.08, 'ニオブ': 0.06, 'コバルト': 15.798, 'タングステン': 4.46, 'アルミニウム': 1.688, 'チタン': 2.23}. Best is trial 3 with value: 2429.189453125.\n",
      "[I 2025-02-24 21:59:35,735] Trial 23 finished with value: 2043.2720947266 and parameters: {'炭素': 0.43, 'マンガン': 1.508, 'ケイ素': 5.218, 'クロム': 6.688, 'ニッケル': 14.517999999999999, 'モリブデン': 8.236, 'バナジウム': 2.98, '窒素': 0.09, 'ニオブ': 0.52, 'コバルト': 8.758, 'タングステン': 3.8000000000000003, 'アルミニウム': 1.938, 'チタン': 2.04}. Best is trial 3 with value: 2429.189453125.\n",
      "[I 2025-02-24 21:59:37,241] Trial 24 finished with value: 2217.3217773438 and parameters: {'炭素': 0.18, 'マンガン': 0.898, 'ケイ素': 3.508, 'クロム': 10.418, 'ニッケル': 11.378, 'モリブデン': 11.566, 'バナジウム': 2.05, '窒素': 0.07, 'ニオブ': 1.76, 'コバルト': 12.148, 'タングステン': 5.0600000000000005, 'アルミニウム': 1.438, 'チタン': 2.68}. Best is trial 3 with value: 2429.189453125.\n",
      "[I 2025-02-24 21:59:38,816] Trial 25 finished with value: 2429.189453125 and parameters: {'炭素': 0.26, 'マンガン': 2.868, 'ケイ素': 4.188, 'クロム': 8.847999999999999, 'ニッケル': 17.368, 'モリブデン': 6.906000000000001, 'バナジウム': 2.64, '窒素': 0.1, 'ニオブ': 2.74, 'コバルト': 17.468, 'タングステン': 1.36, 'アルミニウム': 1.768, 'チタン': 2.39}. Best is trial 3 with value: 2429.189453125.\n",
      "[I 2025-02-24 21:59:40,290] Trial 26 finished with value: 2280.4577636719 and parameters: {'炭素': 0.25, 'マンガン': 2.888, 'ケイ素': 4.238, 'クロム': 9.238, 'ニッケル': 20.238, 'モリブデン': 4.456, 'バナジウム': 3.42, '窒素': 0.13, 'ニオブ': 2.77, 'コバルト': 17.418, 'タングステン': 1.52, 'アルミニウム': 1.698, 'チタン': 2.29}. Best is trial 3 with value: 2429.189453125.\n",
      "[I 2025-02-24 21:59:42,187] Trial 27 finished with value: 2140.25390625 and parameters: {'炭素': 0.15, 'マンガン': 3.388, 'ケイ素': 2.8080000000000003, 'クロム': 11.947999999999999, 'ニッケル': 16.798, 'モリブデン': 5.3660000000000005, 'バナジウム': 2.66, '窒素': 0.1, 'ニオブ': 2.34, 'コバルト': 22.227999999999998, 'タングステン': 1.41, 'アルミニウム': 2.0180000000000002, 'チタン': 2.04}. Best is trial 3 with value: 2429.189453125.\n",
      "[I 2025-02-24 21:59:43,678] Trial 28 finished with value: 2192.8491210938 and parameters: {'炭素': 0.28, 'マンガン': 2.5380000000000003, 'ケイ素': 3.298, 'クロム': 15.517999999999999, 'ニッケル': 18.028, 'モリブデン': 6.376, 'バナジウム': 2.57, '窒素': 0.1, 'ニオブ': 2.73, 'コバルト': 19.098, 'タングステン': 0.38, 'アルミニウム': 0.998, 'チタン': 1.7}. Best is trial 3 with value: 2429.189453125.\n",
      "[I 2025-02-24 21:59:45,217] Trial 29 finished with value: 2221.3229980469 and parameters: {'炭素': 0.34, 'マンガン': 2.048, 'ケイ素': 4.7780000000000005, 'クロム': 3.998, 'ニッケル': 22.618, 'モリブデン': 6.886, 'バナジウム': 3.36, '窒素': 0.06, 'ニオブ': 2.54, 'コバルト': 16.008, 'タングステン': 3.18, 'アルミニウム': 1.578, 'チタン': 2.46}. Best is trial 3 with value: 2429.189453125.\n",
      "[I 2025-02-24 21:59:46,736] Trial 30 finished with value: 2183.8022460938 and parameters: {'炭素': 0.14, 'マンガン': 3.248, 'ケイ素': 4.098, 'クロム': 18.708, 'ニッケル': 21.248, 'モリブデン': 3.706, 'バナジウム': 5.0200000000000005, '窒素': 0.12, 'ニオブ': 2.05, 'コバルト': 19.988, 'タングステン': 6.0200000000000005, 'アルミニウム': 2.158, 'チタン': 2.06}. Best is trial 3 with value: 2429.189453125.\n",
      "[I 2025-02-24 21:59:48,353] Trial 31 finished with value: 2274.5368652344 and parameters: {'炭素': 0.32, 'マンガン': 2.8080000000000003, 'ケイ素': 5.098, 'クロム': 6.678, 'ニッケル': 14.208, 'モリブデン': 9.906, 'バナジウム': 1.55, '窒素': 0.08, 'ニオブ': 2.48, 'コバルト': 14.437999999999999, 'タングステン': 3.46, 'アルミニウム': 1.828, 'チタン': 2.82}. Best is trial 3 with value: 2429.189453125.\n",
      "[I 2025-02-24 21:59:49,979] Trial 32 finished with value: 2363.5668945312 and parameters: {'炭素': 0.26, 'マンガン': 1.498, 'ケイ素': 4.838, 'クロム': 5.598, 'ニッケル': 17.668, 'モリブデン': 8.706, 'バナジウム': 0.76, '窒素': 0.09, 'ニオブ': 2.85, 'コバルト': 17.898, 'タングステン': 4.01, 'アルミニウム': 1.788, 'チタン': 2.75}. Best is trial 3 with value: 2429.189453125.\n",
      "[I 2025-02-24 21:59:52,021] Trial 33 finished with value: 2383.0964355469 and parameters: {'炭素': 0.39, 'マンガン': 0.258, 'ケイ素': 5.168, 'クロム': 8.248, 'ニッケル': 12.427999999999999, 'モリブデン': 7.6160000000000005, 'バナジウム': 1.96, '窒素': 0.04, 'ニオブ': 1.54, 'コバルト': 13.027999999999999, 'タングステン': 2.86, 'アルミニウム': 1.988, 'チタン': 2.59}. Best is trial 3 with value: 2429.189453125.\n",
      "[I 2025-02-24 21:59:53,968] Trial 34 finished with value: 2375.8745117188 and parameters: {'炭素': 0.32, 'マンガン': 3.588, 'ケイ素': 4.448, 'クロム': 11.078, 'ニッケル': 16.128, 'モリブデン': 9.576, 'バナジウム': 2.69, '窒素': 0.06, 'ニオブ': 0.92, 'コバルト': 15.498, 'タングステン': 2.04, 'アルミニウム': 1.3980000000000001, 'チタン': 2.4}. Best is trial 3 with value: 2429.189453125.\n",
      "[I 2025-02-24 21:59:55,473] Trial 35 finished with value: 2149.3930664062 and parameters: {'炭素': 0.23, 'マンガン': 2.478, 'ケイ素': 3.648, 'クロム': 3.948, 'ニッケル': 8.687999999999999, 'モリブデン': 5.7860000000000005, 'バナジウム': 1.31, '窒素': 0.11, 'ニオブ': 2.65, 'コバルト': 14.117999999999999, 'タングステン': 4.7700000000000005, 'アルミニウム': 1.598, 'チタン': 2.82}. Best is trial 3 with value: 2429.189453125.\n",
      "[I 2025-02-24 21:59:57,006] Trial 36 finished with value: 2293.4030761719 and parameters: {'炭素': 0.01, 'マンガン': 1.068, 'ケイ素': 5.648, 'クロム': 9.677999999999999, 'ニッケル': 19.498, 'モリブデン': 10.966000000000001, 'バナジウム': 0.0, '窒素': 0.07, 'ニオブ': 1.16, 'コバルト': 21.418, 'タングステン': 2.82, 'アルミニウム': 1.8780000000000001, 'チタン': 2.4}. Best is trial 3 with value: 2429.189453125.\n",
      "[I 2025-02-24 21:59:58,822] Trial 37 finished with value: 1842.6333007812 and parameters: {'炭素': 0.27, 'マンガン': 0.788, 'ケイ素': 0.218, 'クロム': 7.178, 'ニッケル': 14.758, 'モリブデン': 8.636000000000001, 'バナジウム': 3.12, '窒素': 0.03, 'ニオブ': 0.72, 'コバルト': 16.668, 'タングステン': 3.65, 'アルミニウム': 0.038, 'チタン': 1.67}. Best is trial 3 with value: 2429.189453125.\n"
     ]
    },
    {
     "name": "stdout",
     "output_type": "stream",
     "text": [
      "CPU times: user 5.19 s, sys: 348 ms, total: 5.54 s\n",
      "Wall time: 1min 2s\n"
     ]
    }
   ],
   "source": [
    "%%time\n",
    "dr.Client()\n",
    "sampler = optuna.samplers.TPESampler(seed=seed)\n",
    "study = optuna.create_study(sampler=sampler,direction=\"maximize\")\n",
    "study.optimize(objective, timeout=timeout*2, gc_after_trial=True)"
   ]
  },
  {
   "cell_type": "code",
   "execution_count": 72,
   "metadata": {},
   "outputs": [
    {
     "data": {
      "text/html": [
       "<div>\n",
       "<style scoped>\n",
       "    .dataframe tbody tr th:only-of-type {\n",
       "        vertical-align: middle;\n",
       "    }\n",
       "\n",
       "    .dataframe tbody tr th {\n",
       "        vertical-align: top;\n",
       "    }\n",
       "\n",
       "    .dataframe thead th {\n",
       "        text-align: right;\n",
       "    }\n",
       "</style>\n",
       "<table border=\"1\" class=\"dataframe\">\n",
       "  <thead>\n",
       "    <tr style=\"text-align: right;\">\n",
       "      <th></th>\n",
       "      <th>number</th>\n",
       "      <th>value</th>\n",
       "      <th>datetime_start</th>\n",
       "      <th>datetime_complete</th>\n",
       "      <th>duration</th>\n",
       "      <th>params_アルミニウム</th>\n",
       "      <th>params_クロム</th>\n",
       "      <th>params_ケイ素</th>\n",
       "      <th>params_コバルト</th>\n",
       "      <th>params_タングステン</th>\n",
       "      <th>params_チタン</th>\n",
       "      <th>params_ニオブ</th>\n",
       "      <th>params_ニッケル</th>\n",
       "      <th>params_バナジウム</th>\n",
       "      <th>params_マンガン</th>\n",
       "      <th>params_モリブデン</th>\n",
       "      <th>params_炭素</th>\n",
       "      <th>params_窒素</th>\n",
       "      <th>user_attrs_p25</th>\n",
       "      <th>user_attrs_p75</th>\n",
       "      <th>state</th>\n",
       "    </tr>\n",
       "  </thead>\n",
       "  <tbody>\n",
       "    <tr>\n",
       "      <th>0</th>\n",
       "      <td>0</td>\n",
       "      <td>1393.70812988</td>\n",
       "      <td>2025-02-24 21:58:57.135127</td>\n",
       "      <td>2025-02-24 21:58:59.001123</td>\n",
       "      <td>0 days 00:00:01.865996</td>\n",
       "      <td>1.548</td>\n",
       "      <td>4.178</td>\n",
       "      <td>4.748</td>\n",
       "      <td>5.638</td>\n",
       "      <td>3.55</td>\n",
       "      <td>0.30</td>\n",
       "      <td>2.54</td>\n",
       "      <td>23.098</td>\n",
       "      <td>3.75</td>\n",
       "      <td>1.398</td>\n",
       "      <td>9.146</td>\n",
       "      <td>0.09</td>\n",
       "      <td>0.18</td>\n",
       "      <td>1333.57935078</td>\n",
       "      <td>1185.86526778</td>\n",
       "      <td>COMPLETE</td>\n",
       "    </tr>\n",
       "    <tr>\n",
       "      <th>1</th>\n",
       "      <td>1</td>\n",
       "      <td>2278.17211914</td>\n",
       "      <td>2025-02-24 21:58:59.145813</td>\n",
       "      <td>2025-02-24 21:59:00.722616</td>\n",
       "      <td>0 days 00:00:01.576803</td>\n",
       "      <td>1.858</td>\n",
       "      <td>5.168</td>\n",
       "      <td>5.128</td>\n",
       "      <td>13.738</td>\n",
       "      <td>3.16</td>\n",
       "      <td>2.78</td>\n",
       "      <td>1.11</td>\n",
       "      <td>24.038</td>\n",
       "      <td>2.25</td>\n",
       "      <td>0.498</td>\n",
       "      <td>9.146</td>\n",
       "      <td>0.31</td>\n",
       "      <td>0.04</td>\n",
       "      <td>2303.98973463</td>\n",
       "      <td>1951.07504225</td>\n",
       "      <td>COMPLETE</td>\n",
       "    </tr>\n",
       "    <tr>\n",
       "      <th>2</th>\n",
       "      <td>2</td>\n",
       "      <td>1164.84326172</td>\n",
       "      <td>2025-02-24 21:59:00.799099</td>\n",
       "      <td>2025-02-24 21:59:02.205684</td>\n",
       "      <td>0 days 00:00:01.406585</td>\n",
       "      <td>0.398</td>\n",
       "      <td>13.168</td>\n",
       "      <td>1.928</td>\n",
       "      <td>7.018</td>\n",
       "      <td>2.60</td>\n",
       "      <td>0.41</td>\n",
       "      <td>2.63</td>\n",
       "      <td>1.908</td>\n",
       "      <td>4.77</td>\n",
       "      <td>1.168</td>\n",
       "      <td>2.636</td>\n",
       "      <td>0.01</td>\n",
       "      <td>0.04</td>\n",
       "      <td>1291.33436663</td>\n",
       "      <td>1179.43604161</td>\n",
       "      <td>COMPLETE</td>\n",
       "    </tr>\n",
       "    <tr>\n",
       "      <th>3</th>\n",
       "      <td>3</td>\n",
       "      <td>2429.18945312</td>\n",
       "      <td>2025-02-24 21:59:02.285660</td>\n",
       "      <td>2025-02-24 21:59:03.793798</td>\n",
       "      <td>0 days 00:00:01.508138</td>\n",
       "      <td>1.538</td>\n",
       "      <td>6.508</td>\n",
       "      <td>4.378</td>\n",
       "      <td>18.618</td>\n",
       "      <td>4.79</td>\n",
       "      <td>2.10</td>\n",
       "      <td>1.70</td>\n",
       "      <td>17.518</td>\n",
       "      <td>2.74</td>\n",
       "      <td>2.638</td>\n",
       "      <td>11.016</td>\n",
       "      <td>0.25</td>\n",
       "      <td>0.07</td>\n",
       "      <td>2264.60268636</td>\n",
       "      <td>1875.20093591</td>\n",
       "      <td>COMPLETE</td>\n",
       "    </tr>\n",
       "    <tr>\n",
       "      <th>4</th>\n",
       "      <td>4</td>\n",
       "      <td>1905.27661133</td>\n",
       "      <td>2025-02-24 21:59:03.868300</td>\n",
       "      <td>2025-02-24 21:59:05.251339</td>\n",
       "      <td>0 days 00:00:01.383039</td>\n",
       "      <td>0.318</td>\n",
       "      <td>11.568</td>\n",
       "      <td>4.888</td>\n",
       "      <td>14.808</td>\n",
       "      <td>2.45</td>\n",
       "      <td>1.35</td>\n",
       "      <td>0.80</td>\n",
       "      <td>1.998</td>\n",
       "      <td>1.31</td>\n",
       "      <td>0.048</td>\n",
       "      <td>6.256</td>\n",
       "      <td>0.08</td>\n",
       "      <td>0.18</td>\n",
       "      <td>1818.22945943</td>\n",
       "      <td>1584.41286344</td>\n",
       "      <td>COMPLETE</td>\n",
       "    </tr>\n",
       "  </tbody>\n",
       "</table>\n",
       "</div>"
      ],
      "text/plain": [
       "   number          value             datetime_start          datetime_complete               duration  params_アルミニウム  params_クロム  params_ケイ素  params_コバルト  params_タングステン  params_チタン  params_ニオブ  params_ニッケル  params_バナジウム  params_マンガン  params_モリブデン  params_炭素  params_窒素  user_attrs_p25  user_attrs_p75     state\n",
       "0       0  1393.70812988 2025-02-24 21:58:57.135127 2025-02-24 21:58:59.001123 0 days 00:00:01.865996          1.548       4.178       4.748        5.638           3.55        0.30        2.54       23.098          3.75        1.398         9.146       0.09       0.18   1333.57935078   1185.86526778  COMPLETE\n",
       "1       1  2278.17211914 2025-02-24 21:58:59.145813 2025-02-24 21:59:00.722616 0 days 00:00:01.576803          1.858       5.168       5.128       13.738           3.16        2.78        1.11       24.038          2.25        0.498         9.146       0.31       0.04   2303.98973463   1951.07504225  COMPLETE\n",
       "2       2  1164.84326172 2025-02-24 21:59:00.799099 2025-02-24 21:59:02.205684 0 days 00:00:01.406585          0.398      13.168       1.928        7.018           2.60        0.41        2.63        1.908          4.77        1.168         2.636       0.01       0.04   1291.33436663   1179.43604161  COMPLETE\n",
       "3       3  2429.18945312 2025-02-24 21:59:02.285660 2025-02-24 21:59:03.793798 0 days 00:00:01.508138          1.538       6.508       4.378       18.618           4.79        2.10        1.70       17.518          2.74        2.638        11.016       0.25       0.07   2264.60268636   1875.20093591  COMPLETE\n",
       "4       4  1905.27661133 2025-02-24 21:59:03.868300 2025-02-24 21:59:05.251339 0 days 00:00:01.383039          0.318      11.568       4.888       14.808           2.45        1.35        0.80        1.998          1.31        0.048         6.256       0.08       0.18   1818.22945943   1584.41286344  COMPLETE"
      ]
     },
     "execution_count": 72,
     "metadata": {},
     "output_type": "execute_result"
    }
   ],
   "source": [
    "df_trials = study.trials_dataframe()\n",
    "df_trials.head()"
   ]
  },
  {
   "cell_type": "code",
   "execution_count": 80,
   "metadata": {},
   "outputs": [
    {
     "data": {
      "image/png": "[encoded data removed]",
      "text/plain": [
       "<Figure size 640x480 with 1 Axes>"
      ]
     },
     "metadata": {},
     "output_type": "display_data"
    }
   ],
   "source": [
    "import matplotlib.pyplot as plt\n",
    "\n",
    "# Extract columns with 'params_' prefix\n",
    "params_columns = [\"number\"] + [\n",
    "    col for col in df_trials.columns if col.startswith(\"params_\")\n",
    "]\n",
    "\n",
    "\n",
    "# Function to plot the selected column\n",
    "def plot_selected_column(column):\n",
    "    _df = df_trials.sort_values(column)\n",
    "    fig, ax = plt.subplots()\n",
    "    ax.plot(_df[column], _df[\"value\"], label=\"予測\")\n",
    "    ax.fill_between(\n",
    "        _df[column],\n",
    "        _df[\"user_attrs_p25\"],\n",
    "        _df[\"user_attrs_p75\"],\n",
    "        alpha=0.5,\n",
    "        label=\"25%-75%\",\n",
    "    )\n",
    "    ax.set_xlabel(column)\n",
    "    ax.set_ylabel(\"Value\")\n",
    "    ax.legend()\n",
    "    plt.show()\n",
    "\n",
    "\n",
    "# Example usage: plot the first parameter column\n",
    "plot_selected_column(params_columns[4])"
   ]
  },
  {
   "cell_type": "code",
   "execution_count": null,
   "metadata": {},
   "outputs": [],
   "source": []
  },
  {
   "cell_type": "code",
   "execution_count": 52,
   "metadata": {},
   "outputs": [],
   "source": [
    "# This is the end of this code..."
   ]
  }
 ],
 "metadata": {
  "kernelspec": {
   "display_name": ".venv",
   "language": "python",
   "name": "python3"
  },
  "language_info": {
   "codemirror_mode": {
    "name": "ipython",
    "version": 3
   },
   "file_extension": ".py",
   "mimetype": "text/x-python",
   "name": "python",
   "nbconvert_exporter": "python",
   "pygments_lexer": "ipython3",
   "version": "3.11.11"
  }
 },
 "nbformat": 4,
 "nbformat_minor": 4
}
