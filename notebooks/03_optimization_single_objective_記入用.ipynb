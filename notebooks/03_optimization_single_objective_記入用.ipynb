{
 "cells": [
  {
   "cell_type": "markdown",
   "metadata": {},
   "source": [
    "# Optimization and Simulation with DR"
   ]
  },
  {
   "cell_type": "markdown",
   "metadata": {},
   "source": [
    "## optunaによる単目的関数の最適化"
   ]
  },
  {
   "cell_type": "markdown",
   "metadata": {},
   "source": [
    "### 1. ライブラリ類のインポートとファイルのロード"
   ]
  },
  {
   "cell_type": "code",
   "execution_count": null,
   "metadata": {},
   "outputs": [],
   "source": [
    "%matplotlib inline\n",
    "\n",
    "import os\n",
    "import copy\n",
    "import warnings\n",
    "\n",
    "import numpy as np\n",
    "import pandas as pd\n",
    "from pandas import DataFrame\n",
    "\n",
    "import matplotlib.pyplot as plt\n",
    "import datarobot as dr\n",
    "from datarobot_predict.deployment import predict\n",
    "\n",
    "import optuna\n",
    "\n",
    "import japanize_matplotlib\n",
    "\n",
    "if not os.getenv(\"DATAROBOT_NOTEBOOK_IMAGE\"):\n",
    "    print(\"not running in DataRobot Notebook\")\n",
    "    from dotenv import load_dotenv\n",
    "    load_dotenv(\"../.env\", override=True)\n",
    "\n",
    "client = dr.Client()\n",
    "\n",
    "seed = 71\n",
    "np.random.seed(seed)\n",
    "warnings.filterwarnings(\"ignore\")\n",
    "plt.rcParams.update({\"figure.max_open_warning\": 0})\n",
    "optuna.visualization.is_available()\n",
    "pd.set_option('display.max_rows', 1000)\n",
    "pd.set_option('display.max_columns', 1000)\n",
    "pd.set_option('display.width', 1000)\n",
    "pd.set_option('display.max_colwidth', 1000)\n",
    "pd.set_option(\"display.precision\", 8)"
   ]
  },
  {
   "cell_type": "code",
   "execution_count": null,
   "metadata": {},
   "outputs": [],
   "source": [
    "targets = [\"降伏強度\", \"引張強度\"]\n",
    "\n",
    "df = pd.read_csv(\"../data/opt_steel_strength.csv\")"
   ]
  },
  {
   "cell_type": "code",
   "execution_count": null,
   "metadata": {},
   "outputs": [],
   "source": [
    "y_train1 = df[\"降伏強度\"]\n",
    "y_train2 = df[\"引張強度\"]\n",
    "X_train = df.drop([\"ID\", \"降伏強度\", \"引張強度\"], axis=1)"
   ]
  },
  {
   "cell_type": "markdown",
   "metadata": {},
   "source": [
    "### 2. 予測APIを用いる上での必要な情報を準備しておきます。"
   ]
  },
  {
   "cell_type": "code",
   "execution_count": null,
   "metadata": {},
   "outputs": [],
   "source": [
    "# 予測APIを叩くための諸々を設定する必要があります\n",
    "dr.Client()\n",
    "deployment_ids = [\"67bc6ab2f1b3f6b73d560ff8\", \"67bc6ab999dbbff523b1152a\"]\n",
    "deployment_quant_ids = [\"67bc6ad2fd8c6942c3561092\", \"67bc6ad599dbbff523b11589\"]\n",
    "deployments = [dr.Deployment.get(deployment_id) for deployment_id in deployment_ids]\n",
    "deployments_quant = [\n",
    "    dr.Deployment.get(deployment_id) for deployment_id in deployment_quant_ids\n",
    "]\n",
    "# 実験時間、実験回数（n_trials）での制御も可能\n",
    "timeout = 15\n",
    "\n",
    "# 結果格納用\n",
    "result = []"
   ]
  },
  {
   "cell_type": "markdown",
   "metadata": {},
   "source": [
    "### 3. `datarobot-predict`を使って予測APIを叩く"
   ]
  },
  {
   "cell_type": "code",
   "execution_count": null,
   "metadata": {},
   "outputs": [],
   "source": [
    "# 一回叩いてみる\n",
    "predictions, _ = predict(deployments[0], X_train.iloc[:1])\n",
    "predictions"
   ]
  },
  {
   "cell_type": "code",
   "execution_count": null,
   "metadata": {},
   "outputs": [],
   "source": [
    "# 予測の戻り値から予測値を取り出す\n",
    "predictions.loc[0, \"降伏強度_PREDICTION\"]"
   ]
  },
  {
   "cell_type": "code",
   "execution_count": null,
   "metadata": {},
   "outputs": [],
   "source": [
    "# 結果記録用のヘルパーメソッド\n",
    "def update_result(result, study, sampler, pruner, n_jobs):\n",
    "    dict_trial = {\n",
    "        \"sampler\": sampler,\n",
    "        \"pruner\": pruner,\n",
    "        \"n_jobs\": n_jobs,\n",
    "        \"値\": study.best_trial.value,\n",
    "        \"回数\": len(study.trials),\n",
    "        **study.best_trial.params,\n",
    "    }\n",
    "    result.append(dict_trial)\n",
    "    print(dict_trial)\n",
    "    return result"
   ]
  },
  {
   "cell_type": "markdown",
   "metadata": {},
   "source": [
    "### 4. 最適化する対象設定します。この関数の戻り値が最小化されるようにoptunaが探索空間からいい感じの入力データを見つけてくれます。"
   ]
  },
  {
   "cell_type": "code",
   "execution_count": null,
   "metadata": {},
   "outputs": [],
   "source": [
    "std_1 = y_train1.std()\n",
    "stat = X_train.describe().T\n",
    "\n",
    "\n",
    "def objective(trial):\n",
    "\n",
    "    df_target = DataFrame(index=[0], columns=X_train.columns)\n",
    "    for col in X_train.columns:\n",
    "        low = stat.loc[col, \"min\"] * 0.8\n",
    "        high = stat.loc[col, \"max\"] * 1.2\n",
    "        df_target[col] = trial.suggest_float(col, low, high, step=0.01)\n",
    "\n",
    "    pred_1 = predict(deployments[0], df_target)[0].loc[0, \"降伏強度_PREDICTION\"]\n",
    "\n",
    "    return pred_1"
   ]
  },
  {
   "cell_type": "markdown",
   "metadata": {},
   "source": [
    "### 5. 最適化を実行する"
   ]
  },
  {
   "cell_type": "code",
   "execution_count": null,
   "metadata": {},
   "outputs": [],
   "source": [
    "%%time\n",
    "dr.Client()\n",
    "study = optuna.create_study(direction=\"maximize\")\n",
    "study.optimize(objective, timeout=timeout, gc_after_trial=True)"
   ]
  },
  {
   "cell_type": "code",
   "execution_count": null,
   "metadata": {},
   "outputs": [],
   "source": [
    "# 結果を一度保存します\n",
    "trails_bk = [copy.deepcopy(trials) for trials in study.trials]\n",
    "print(study.best_trial.params)\n",
    "print(study.best_trial.value)\n",
    "print(study.best_trial.number)"
   ]
  },
  {
   "cell_type": "code",
   "execution_count": null,
   "metadata": {},
   "outputs": [],
   "source": [
    "# 使われてる最適化手法を確認\n",
    "print(f\"Sampler is {study.sampler.__class__.__name__}\")"
   ]
  },
  {
   "cell_type": "code",
   "execution_count": null,
   "metadata": {},
   "outputs": [],
   "source": [
    "# シミュレーション結果を確認\n",
    "# optuna.visualization.plot_optimization_history(study)\n",
    "\n",
    "\n",
    "def custom_plot_optimization_history(study):\n",
    "    # Extract trial numbers and values\n",
    "    trials = study.trials_dataframe()\n",
    "    trial_numbers = trials[\"number\"]\n",
    "    values = trials[\"value\"]\n",
    "\n",
    "    # Calculate the best value until each trial\n",
    "    best_values = values.cummax()\n",
    "\n",
    "    # Create the scatter plot\n",
    "    plt.figure(figsize=(10, 6))\n",
    "    plt.scatter(trial_numbers, values, label=\"Trial Values\", color=\"blue\")\n",
    "\n",
    "    # Plot the best values\n",
    "    plt.plot(\n",
    "        trial_numbers,\n",
    "        best_values,\n",
    "        color=\"red\",\n",
    "        linestyle=\"--\",\n",
    "        label=\"Best Value Until Each Trial\",\n",
    "    )\n",
    "\n",
    "    # Add labels and title\n",
    "    plt.xlabel(\"Trial Number\")\n",
    "    plt.ylabel(\"Value\")\n",
    "    plt.title(\"Optimization History\")\n",
    "    plt.legend()\n",
    "    plt.grid(True)\n",
    "    plt.show()\n",
    "\n",
    "\n",
    "# Example usage\n",
    "custom_plot_optimization_history(study)"
   ]
  },
  {
   "cell_type": "markdown",
   "metadata": {},
   "source": [
    "### 6. `Sampler`を変更してみる"
   ]
  },
  {
   "cell_type": "markdown",
   "metadata": {},
   "source": [
    "CMA-ES (一旦時間を倍にする)"
   ]
  },
  {
   "cell_type": "code",
   "execution_count": null,
   "metadata": {},
   "outputs": [],
   "source": [
    "%%time\n",
    "dr.Client()\n",
    "study = optuna.create_study(direction=\"maximize\", sampler=optuna.samplers.CmaEsSampler())\n",
    "study.optimize(objective, timeout=timeout*2, gc_after_trial=True)"
   ]
  },
  {
   "cell_type": "code",
   "execution_count": null,
   "metadata": {},
   "outputs": [],
   "source": [
    "print(study.best_trial.params)\n",
    "print(study.best_trial.value)\n",
    "print(study.best_trial.number)"
   ]
  },
  {
   "cell_type": "code",
   "execution_count": null,
   "metadata": {},
   "outputs": [],
   "source": [
    "# シミュレーション結果を確認\n",
    "# optuna.visualization.plot_optimization_history(study)\n",
    "custom_plot_optimization_history(study)"
   ]
  },
  {
   "cell_type": "markdown",
   "metadata": {},
   "source": [
    "もしTPE Samplerの結果をベースにCMA-ESで最適化したら"
   ]
  },
  {
   "cell_type": "code",
   "execution_count": null,
   "metadata": {},
   "outputs": [],
   "source": [
    "%%time\n",
    "# TPE Samplerの結果を既知の結果として投入\n",
    "sampler = optuna.samplers.CmaEsSampler(seed=seed, source_trials=trails_bk)\n",
    "study = optuna.create_study(direction=\"maximize\", sampler=sampler)\n",
    "study.optimize(objective, timeout=timeout, gc_after_trial=True)"
   ]
  },
  {
   "cell_type": "code",
   "execution_count": null,
   "metadata": {},
   "outputs": [],
   "source": [
    "# シミュレーション結果を確認\n",
    "# optuna.visualization.plot_optimization_history(study)\n",
    "custom_plot_optimization_history(study)"
   ]
  },
  {
   "cell_type": "code",
   "execution_count": null,
   "metadata": {},
   "outputs": [],
   "source": [
    "# どの変数が一番聞いているのかをみてみましょう\n",
    "# optuna.visualization.plot_param_importances(study)\n",
    "def custom_plot_param_importances(study):\n",
    "    importances = optuna.importance.get_param_importances(study)\n",
    "    params = list(importances.keys())\n",
    "    values = list(importances.values())\n",
    "\n",
    "    plt.figure(figsize=(10, 6))\n",
    "    plt.barh(params, values, color=\"skyblue\")\n",
    "    plt.xlabel(\"Importance\")\n",
    "    plt.title(\"Hyperparameter Importances\")\n",
    "    plt.gca().invert_yaxis()\n",
    "    plt.grid(True)\n",
    "    plt.show()\n",
    "\n",
    "\n",
    "# Example usage\n",
    "custom_plot_param_importances(study)"
   ]
  },
  {
   "cell_type": "code",
   "execution_count": null,
   "metadata": {},
   "outputs": [],
   "source": [
    "# 上位３変数とターゲットの関係を可視化してみる\n",
    "# optuna.visualization.plot_parallel_coordinate(\n",
    "#     study, params=[\"ニオブ\", \"チタン\", \"コバルト\"]\n",
    "# )"
   ]
  },
  {
   "cell_type": "code",
   "execution_count": null,
   "metadata": {},
   "outputs": [],
   "source": [
    "# 上位２変数の履歴を可視化してみる\n",
    "# https://qiita.com/maskot1977/items/ed698a67b091b5516ab4\n",
    "x = \"ニオブ\"\n",
    "y = \"チタン\"\n",
    "fig, ax = plt.subplots(figsize=(5, 5))\n",
    "\n",
    "ax.plot(\n",
    "    [trial.params[x] for trial in study.trials],\n",
    "    [trial.params[y] for trial in study.trials],\n",
    "    alpha=0.4,\n",
    "    marker=\"x\",\n",
    ")\n",
    "ax.scatter(\n",
    "    study.trials[0].params[x],\n",
    "    study.trials[0].params[y],\n",
    "    marker=\">\",\n",
    "    label=\"start\",\n",
    "    s=100,\n",
    ")\n",
    "ax.scatter(\n",
    "    study.trials[-1].params[x],\n",
    "    study.trials[-1].params[y],\n",
    "    marker=\"s\",\n",
    "    label=\"end\",\n",
    "    s=100,\n",
    ")\n",
    "ax.scatter(study.best_params[x], study.best_params[y], marker=\"o\", label=\"best\", s=100)\n",
    "\n",
    "ax.axis(\"equal\")\n",
    "ax.set_xlabel(x)\n",
    "ax.set_ylabel(y)\n",
    "fig.tight_layout()\n",
    "plt.grid()\n",
    "plt.legend()\n",
    "plt.show()"
   ]
  },
  {
   "cell_type": "markdown",
   "metadata": {},
   "source": [
    "### 7. `Pruner`も変更してみる"
   ]
  },
  {
   "cell_type": "code",
   "execution_count": null,
   "metadata": {},
   "outputs": [],
   "source": [
    "# 打ち止めするかを確認するため、途中経過をフィードバックするようにobjectiveを編集\n",
    "n_train_iter = 10\n",
    "\n",
    "\n",
    "def objective(trial):\n",
    "\n",
    "    df_target = DataFrame(index=[0], columns=X_train.columns)\n",
    "\n",
    "    for col in X_train.columns:\n",
    "        low = stat.loc[col, \"min\"] * 0.8\n",
    "        high = stat.loc[col, \"max\"] * 1.2\n",
    "        df_target[col] = trial.suggest_float(col, low, high, step=0.01)\n",
    "\n",
    "    for step in range(n_train_iter):\n",
    "        pred_1 = predict(deployments[0], df_target)[0].loc[0, \"降伏強度_PREDICTION\"]\n",
    "\n",
    "        # 打ち止めかどうかを判断\n",
    "        pred_temp = pred_1\n",
    "\n",
    "        trial.report(pred_temp, step)\n",
    "\n",
    "        if trial.should_prune():\n",
    "            raise optuna.TrialPruned()\n",
    "\n",
    "    return pred_1"
   ]
  },
  {
   "cell_type": "code",
   "execution_count": null,
   "metadata": {},
   "outputs": [],
   "source": [
    "%%time\n",
    "# 打ち切りしているため、トライごとの時間がかかる\n",
    "# 試行回数が減るため効果が出にくい\n",
    "dr.Client()\n",
    "sampler = optuna.samplers.TPESampler(seed=seed)\n",
    "pruner = optuna.pruners.HyperbandPruner(min_resource=1, max_resource=n_train_iter)\n",
    "study = optuna.create_study(direction=\"maximize\",sampler=sampler, pruner=pruner)\n",
    "study.optimize(objective, timeout=timeout, gc_after_trial=True)"
   ]
  },
  {
   "cell_type": "code",
   "execution_count": null,
   "metadata": {},
   "outputs": [],
   "source": [
    "%%time\n",
    "# 並列数を増やして、時間内のトライアル数を増やす\n",
    "dr.Client()\n",
    "sampler = optuna.samplers.TPESampler(seed=seed)\n",
    "pruner = optuna.pruners.HyperbandPruner(min_resource=1, max_resource=n_train_iter)\n",
    "study = optuna.create_study(direction=\"maximize\",sampler=sampler, pruner=pruner)\n",
    "study.optimize(objective, timeout=timeout, gc_after_trial=True, n_jobs=2)"
   ]
  },
  {
   "cell_type": "code",
   "execution_count": null,
   "metadata": {},
   "outputs": [],
   "source": [
    "print(study.best_trial.params)\n",
    "print(study.best_trial.value)\n",
    "print(study.best_trial.number)"
   ]
  },
  {
   "cell_type": "code",
   "execution_count": null,
   "metadata": {},
   "outputs": [],
   "source": [
    "# シミュレーション結果を確認\n",
    "# optuna.visualization.plot_optimization_history(study)\n",
    "custom_plot_optimization_history(study)"
   ]
  },
  {
   "cell_type": "markdown",
   "metadata": {},
   "source": [
    "### 8.不確実性を確認"
   ]
  },
  {
   "cell_type": "code",
   "execution_count": null,
   "metadata": {},
   "outputs": [],
   "source": [
    "# 最適化と同時に分位点予測も行う\n",
    "\n",
    "\n",
    "def objective(trial):\n",
    "\n",
    "    df_target = DataFrame(index=[0], columns=X_train.columns)\n",
    "    for col in X_train.columns:\n",
    "        low = stat.loc[col, \"min\"] * 0.8\n",
    "        high = stat.loc[col, \"max\"] * 1.2\n",
    "        df_target[col] = trial.suggest_float(col, low, high, step=0.01)\n",
    "\n",
    "    pred_2 = predict(deployments[0], df_target)[0].loc[0, \"降伏強度_PREDICTION\"]\n",
    "    pred_p25 = predict(deployments_quant[0], df_target)[0].loc[0, \"降伏強度_PREDICTION\"]\n",
    "    pred_p75 = predict(deployments_quant[1], df_target)[0].loc[0, \"降伏強度_PREDICTION\"]\n",
    "\n",
    "    trial.set_user_attr(\"p25\", pred_p25)\n",
    "    trial.set_user_attr(\"p75\", pred_p75)\n",
    "\n",
    "    return pred_2"
   ]
  },
  {
   "cell_type": "code",
   "execution_count": null,
   "metadata": {},
   "outputs": [],
   "source": [
    "%%time\n",
    "dr.Client()\n",
    "sampler = optuna.samplers.TPESampler(seed=seed)\n",
    "study = optuna.create_study(sampler=sampler,direction=\"maximize\")\n",
    "study.optimize(objective, timeout=timeout*2, gc_after_trial=True)"
   ]
  },
  {
   "cell_type": "code",
   "execution_count": null,
   "metadata": {},
   "outputs": [],
   "source": [
    "df_trials = study.trials_dataframe()\n",
    "df_trials.head()"
   ]
  },
  {
   "cell_type": "code",
   "execution_count": null,
   "metadata": {},
   "outputs": [],
   "source": [
    "import matplotlib.pyplot as plt\n",
    "\n",
    "# Extract columns with 'params_' prefix\n",
    "params_columns = [\"number\"] + [\n",
    "    col for col in df_trials.columns if col.startswith(\"params_\")\n",
    "]\n",
    "\n",
    "\n",
    "# Function to plot the selected column\n",
    "def plot_selected_column(column):\n",
    "    _df = df_trials.sort_values(column)\n",
    "    fig, ax = plt.subplots()\n",
    "    ax.plot(_df[column], _df[\"value\"], label=\"予測\")\n",
    "    ax.fill_between(\n",
    "        _df[column],\n",
    "        _df[\"user_attrs_p25\"],\n",
    "        _df[\"user_attrs_p75\"],\n",
    "        alpha=0.5,\n",
    "        label=\"25%-75%\",\n",
    "    )\n",
    "    ax.set_xlabel(column)\n",
    "    ax.set_ylabel(\"Value\")\n",
    "    ax.legend()\n",
    "    plt.show()\n",
    "\n",
    "\n",
    "# Example usage: plot the first parameter column\n",
    "plot_selected_column(params_columns[4])"
   ]
  },
  {
   "cell_type": "code",
   "execution_count": null,
   "metadata": {},
   "outputs": [],
   "source": []
  },
  {
   "cell_type": "code",
   "execution_count": null,
   "metadata": {},
   "outputs": [],
   "source": [
    "# This is the end of this code..."
   ]
  }
 ],
 "metadata": {
  "kernelspec": {
   "display_name": ".venv",
   "language": "python",
   "name": "python3"
  },
  "language_info": {
   "codemirror_mode": {
    "name": "ipython",
    "version": 3
   },
   "file_extension": ".py",
   "mimetype": "text/x-python",
   "name": "python",
   "nbconvert_exporter": "python",
   "pygments_lexer": "ipython3",
   "version": "3.11.11"
  }
 },
 "nbformat": 4,
 "nbformat_minor": 4
}
